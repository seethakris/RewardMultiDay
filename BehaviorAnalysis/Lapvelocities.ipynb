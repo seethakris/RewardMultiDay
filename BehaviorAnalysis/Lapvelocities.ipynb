{
 "cells": [
  {
   "cell_type": "code",
   "execution_count": 92,
   "metadata": {
    "ExecuteTime": {
     "end_time": "2023-10-19T18:39:57.695236Z",
     "start_time": "2023-10-19T18:39:57.516846Z"
    }
   },
   "outputs": [
    {
     "name": "stdout",
     "output_type": "stream",
     "text": [
      "The autoreload extension is already loaded. To reload it, use:\n",
      "  %reload_ext autoreload\n"
     ]
    }
   ],
   "source": [
    "import os\n",
    "import scipy.io\n",
    "import matplotlib.pyplot as plt\n",
    "import numpy as np\n",
    "import seaborn as sns\n",
    "sns.set_context('paper', font_scale=1.2)\n",
    "import pandas as pd\n",
    "import warnings\n",
    "import sys\n",
    "import statsmodels.stats.multicomp as mc\n",
    "\n",
    "warnings.filterwarnings('ignore')\n",
    "%matplotlib inline\n",
    "%load_ext autoreload\n",
    "%autoreload 2"
   ]
  },
  {
   "cell_type": "code",
   "execution_count": 3,
   "metadata": {
    "ExecuteTime": {
     "end_time": "2023-10-19T18:04:40.912620Z",
     "start_time": "2023-10-19T18:04:40.847941Z"
    }
   },
   "outputs": [],
   "source": [
    "from lapvelocity import GetData as gd"
   ]
  },
  {
   "cell_type": "code",
   "execution_count": 162,
   "metadata": {
    "ExecuteTime": {
     "end_time": "2023-10-19T19:40:30.340538Z",
     "start_time": "2023-10-19T19:40:30.279649Z"
    }
   },
   "outputs": [],
   "source": [
    "ExperimentFolder = '/Users/seetha/Box Sync/MultiDayData/Data/'\n",
    "SaveFigureFolder = '/Users/seetha/Box Sync/MultiDayData/MultiDayPaper/Figures/FigurepanelsPDF/Figure1/'\n",
    "\n",
    "TaskDict = {'Task3': '1 Fam Rew',\n",
    "            'Task4': '2 Fam Rew'}"
   ]
  },
  {
   "cell_type": "code",
   "execution_count": 163,
   "metadata": {
    "ExecuteTime": {
     "end_time": "2023-10-19T19:40:31.478855Z",
     "start_time": "2023-10-19T19:40:31.381714Z"
    }
   },
   "outputs": [
    {
     "name": "stdout",
     "output_type": "stream",
     "text": [
      "Loading.. NR34\n",
      "Loading.. CFC17\n",
      "Loading.. NR32\n",
      "Loading.. CFC16\n",
      "Loading.. CFC18\n"
     ]
    }
   ],
   "source": [
    "A = gd(ExperimentFolder, TaskDict=['Task1', 'Task2'])"
   ]
  },
  {
   "cell_type": "code",
   "execution_count": 164,
   "metadata": {
    "ExecuteTime": {
     "end_time": "2023-10-19T19:40:32.163759Z",
     "start_time": "2023-10-19T19:40:32.053978Z"
    }
   },
   "outputs": [
    {
     "name": "stdout",
     "output_type": "stream",
     "text": [
      "Loading.. NR34\n",
      "Loading.. CFC17\n",
      "Loading.. NR32\n",
      "Loading.. CFC16\n",
      "Loading.. CFC18\n"
     ]
    }
   ],
   "source": [
    "B = gd(ExperimentFolder, TaskDict=['Task3', 'Task4'])"
   ]
  },
  {
   "cell_type": "code",
   "execution_count": 171,
   "metadata": {
    "ExecuteTime": {
     "end_time": "2023-10-19T19:43:47.725419Z",
     "start_time": "2023-10-19T19:43:47.572843Z"
    }
   },
   "outputs": [
    {
     "data": {
      "text/html": [
       "<table class=\"simpletable\">\n",
       "<caption>Test Multiple Comparison ttest_rel \n",
       "FWER=0.05 method=bonf\n",
       "alphacSidak=0.02, alphacBonf=0.017</caption>\n",
       "<tr>\n",
       "    <th>group1</th>      <th>group2</th>     <th>stat</th>    <th>pval</th>  <th>pval_corr</th> <th>reject</th>\n",
       "</tr>\n",
       "<tr>\n",
       "  <td>Next_first</td>  <td>Next_second</td> <td>0.9945</td>   <td>0.346</td>    <td>1.0</td>     <td>False</td>\n",
       "</tr>\n",
       "<tr>\n",
       "  <td>Next_first</td>     <td>Prev</td>     <td>0.1913</td>  <td>0.8525</td>    <td>1.0</td>     <td>False</td>\n",
       "</tr>\n",
       "<tr>\n",
       "  <td>Next_second</td>    <td>Prev</td>     <td>-2.0056</td> <td>0.0759</td>  <td>0.2276</td>    <td>False</td>\n",
       "</tr>\n",
       "</table>"
      ],
      "text/plain": [
       "<class 'statsmodels.iolib.table.SimpleTable'>"
      ]
     },
     "execution_count": 171,
     "metadata": {},
     "output_type": "execute_result"
    }
   ],
   "source": [
    "df1 = pd.DataFrame(A.laptime.T, columns = ['Prev','Next_first','Next_second'])\n",
    "df1['Task'] = 'Task1'\n",
    "# df1 = df1.melt()\n",
    "df2 = pd.DataFrame(B.laptime.T, columns = ['Prev','Next_first','Next_second'])\n",
    "df2['Task'] = 'Task3'\n",
    "# df2 = df2.melt()\n",
    "\n",
    "df = pd.concat((df1, df2))\n",
    "df = df.melt(id_vars=['Task'])\n",
    "comp1 = mc.MultiComparison(df['value'], df['variable'])\n",
    "tbl, a1, a2 = comp1.allpairtest(scipy.stats.ttest_rel, method= \"bonf\")\n",
    "tbl"
   ]
  },
  {
   "cell_type": "code",
   "execution_count": 186,
   "metadata": {
    "ExecuteTime": {
     "end_time": "2023-10-19T19:53:29.464563Z",
     "start_time": "2023-10-19T19:53:27.933962Z"
    }
   },
   "outputs": [
    {
     "data": {
      "image/png": "[encoded data removed]",
      "text/plain": [
       "<Figure size 360x144 with 1 Axes>"
      ]
     },
     "metadata": {
      "needs_background": "light"
     },
     "output_type": "display_data"
    }
   ],
   "source": [
    "fs, ax = plt.subplots(1)\n",
    "for n, i in enumerate(A.laptime.T):\n",
    "    ax.plot([0.25, 1.25, 2.25], i, 'b.-', markersize=2, alpha=0.5)\n",
    "for n, i in enumerate(B.laptime.T):\n",
    "    ax.plot([0.25, 1.25, 2.25], i, 'r.-', markersize=2, alpha=0.5)\n",
    "sns.pointplot(data=df, x='variable', y='value', hue='Task', dodge=0.15, linestyle=\"none\", legend=False)\n",
    "sns.despine(fs)\n",
    "fs.set_size_inches((5, 2))\n",
    "fs.savefig(os.path.join(SaveFigureFolder, 'Lapwise_velocity.pdf'), bbox_inches='tight')"
   ]
  },
  {
   "cell_type": "code",
   "execution_count": null,
   "metadata": {},
   "outputs": [],
   "source": []
  }
 ],
 "metadata": {
  "kernelspec": {
   "display_name": "Python 3",
   "language": "python",
   "name": "python3"
  },
  "language_info": {
   "codemirror_mode": {
    "name": "ipython",
    "version": 3
   },
   "file_extension": ".py",
   "mimetype": "text/x-python",
   "name": "python",
   "nbconvert_exporter": "python",
   "pygments_lexer": "ipython3",
   "version": "3.8.5"
  },
  "toc": {
   "base_numbering": 1,
   "nav_menu": {},
   "number_sections": true,
   "sideBar": true,
   "skip_h1_title": false,
   "title_cell": "Table of Contents",
   "title_sidebar": "Contents",
   "toc_cell": false,
   "toc_position": {},
   "toc_section_display": true,
   "toc_window_display": false
  }
 },
 "nbformat": 4,
 "nbformat_minor": 4
}
