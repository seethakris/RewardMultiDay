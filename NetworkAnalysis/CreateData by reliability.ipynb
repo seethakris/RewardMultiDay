{
 "cells": [
  {
   "cell_type": "code",
   "execution_count": 2,
   "metadata": {
    "ExecuteTime": {
     "end_time": "2023-08-22T21:27:53.962596Z",
     "start_time": "2023-08-22T21:27:53.909547Z"
    }
   },
   "outputs": [
    {
     "name": "stdout",
     "output_type": "stream",
     "text": [
      "The autoreload extension is already loaded. To reload it, use:\n",
      "  %reload_ext autoreload\n"
     ]
    }
   ],
   "source": [
    "import os\n",
    "import scipy.io\n",
    "import matplotlib.pyplot as plt\n",
    "import numpy as np\n",
    "import seaborn as sns\n",
    "sns.set_context('paper', font_scale=1.1)\n",
    "import pandas as pd\n",
    "import warnings\n",
    "import sys\n",
    "\n",
    "warnings.filterwarnings('ignore')\n",
    "%matplotlib inline\n",
    "%load_ext autoreload\n",
    "%autoreload 2"
   ]
  },
  {
   "cell_type": "code",
   "execution_count": 3,
   "metadata": {
    "ExecuteTime": {
     "end_time": "2023-08-22T21:27:59.575014Z",
     "start_time": "2023-08-22T21:27:58.956223Z"
    }
   },
   "outputs": [],
   "source": [
    "from create_data_for_gephi import GetData as gd"
   ]
  },
  {
   "cell_type": "code",
   "execution_count": 4,
   "metadata": {
    "ExecuteTime": {
     "end_time": "2023-08-22T21:28:00.387156Z",
     "start_time": "2023-08-22T21:28:00.291915Z"
    }
   },
   "outputs": [],
   "source": [
    "DirectoryName = '/Users/seetha/Box Sync/MultiDayData/Data/'\n",
    "CombinedFolderName = '/Users/seetha/Box Sync/MultiDayData/PlaceCellResultsAll/'\n",
    "SaveFolder = '/Users/seetha/Box Sync/MultiDayData/NetworkAnalysis/'"
   ]
  },
  {
   "cell_type": "code",
   "execution_count": 5,
   "metadata": {
    "ExecuteTime": {
     "end_time": "2023-08-22T21:28:01.605415Z",
     "start_time": "2023-08-22T21:28:01.199948Z"
    }
   },
   "outputs": [],
   "source": [
    "na = gd(DirectoryName, CombinedFolderName)"
   ]
  },
  {
   "cell_type": "code",
   "execution_count": 28,
   "metadata": {
    "ExecuteTime": {
     "end_time": "2023-08-23T20:00:06.742278Z",
     "start_time": "2023-08-23T19:59:14.969958Z"
    },
    "scrolled": true
   },
   "outputs": [
    {
     "name": "stdout",
     "output_type": "stream",
     "text": [
      "NR34\n",
      "Analysing..99 cells\n",
      "Corr matrix min -0.8 and max 1.0\n",
      "N edges: 2159\n",
      "[1 2 3 4 5 6 7 8]\n",
      "Nodes (99, 6)\n",
      "CFC17\n",
      "Analysing..145 cells\n",
      "Corr matrix min -0.5 and max 1.0\n",
      "N edges: 2962\n",
      "[1 2 3 4 5 6 7 8]\n",
      "Nodes (145, 6)\n",
      "NR32\n",
      "Analysing..67 cells\n",
      "Corr matrix min -0.7 and max 1.0\n",
      "N edges: 926\n",
      "[1 2 3 4 5 6 7 8]\n",
      "Nodes (67, 6)\n",
      "CFC16\n",
      "Analysing..51 cells\n",
      "Corr matrix min -0.6 and max 1.0\n",
      "N edges: 635\n",
      "[1 2 3 4 5 6 7 8]\n",
      "Nodes (51, 6)\n",
      "CFC18\n",
      "Analysing..171 cells\n",
      "Corr matrix min -0.8 and max 1.0\n",
      "N edges: 7077\n",
      "[1 2 3 4 5 6 7 8]\n",
      "Nodes (171, 6)\n"
     ]
    }
   ],
   "source": [
    "taskstocompare = 'Task5'\n",
    "\n",
    "na.get_adjacency_matrix(taskstocompare, basetask='Task1',\n",
    "                                   reliability_type='High', subsample=False, shuffle_flag=False,\n",
    "                                   SaveFolder=os.path.join(SaveFolder, 'Highreliability'))"
   ]
  },
  {
   "cell_type": "code",
   "execution_count": 29,
   "metadata": {
    "ExecuteTime": {
     "end_time": "2023-08-23T20:03:41.071951Z",
     "start_time": "2023-08-23T20:00:10.291041Z"
    },
    "scrolled": true
   },
   "outputs": [
    {
     "name": "stdout",
     "output_type": "stream",
     "text": [
      "NR34\n",
      "Analysing..193 cells\n",
      "Corr matrix min -0.6 and max 0.9\n",
      "N edges: 7723\n",
      "[]\n",
      "WHAT\n",
      "[]\n",
      "WHAT\n",
      "[1 2 3 4 5 6 7 8]\n",
      "Nodes (193, 6)\n",
      "CFC17\n",
      "Analysing..127 cells\n",
      "Corr matrix min -0.7 and max 1.0\n",
      "N edges: 1748\n",
      "[1 2 3 4 5 6 7 8]\n",
      "Nodes (127, 6)\n",
      "NR32\n",
      "Analysing..116 cells\n",
      "Corr matrix min -0.7 and max 1.0\n",
      "N edges: 2103\n",
      "[]\n",
      "WHAT\n",
      "[1 2 3 4 5 6 7 8]\n",
      "Nodes (116, 6)\n",
      "CFC16\n",
      "Analysing..425 cells\n",
      "Corr matrix min -0.7 and max 0.9\n",
      "N edges: 36984\n",
      "[]\n",
      "WHAT\n",
      "[]\n",
      "WHAT\n",
      "[]\n",
      "WHAT\n",
      "[]\n",
      "WHAT\n",
      "[]\n",
      "WHAT\n",
      "[1 2 3 4 5 6 7 8]\n",
      "Nodes (425, 6)\n",
      "CFC18\n",
      "Analysing..328 cells\n",
      "Corr matrix min -0.7 and max 0.9\n",
      "N edges: 22588\n",
      "[1 2 3 4 5 6 7 8]\n",
      "Nodes (328, 6)\n"
     ]
    },
    {
     "ename": "TypeError",
     "evalue": "cannot unpack non-iterable NoneType object",
     "output_type": "error",
     "traceback": [
      "\u001b[0;31m---------------------------------------------------------------------------\u001b[0m",
      "\u001b[0;31mTypeError\u001b[0m                                 Traceback (most recent call last)",
      "\u001b[0;32m<ipython-input-29-55e809ac2aad>\u001b[0m in \u001b[0;36m<module>\u001b[0;34m\u001b[0m\n\u001b[1;32m      1\u001b[0m \u001b[0mtaskstocompare\u001b[0m \u001b[0;34m=\u001b[0m \u001b[0;34m'Task5'\u001b[0m\u001b[0;34m\u001b[0m\u001b[0;34m\u001b[0m\u001b[0m\n\u001b[0;32m----> 2\u001b[0;31m group1, group2 = na.get_adjacency_matrix(taskstocompare, basetask='Task1', reliability_type='Low',\n\u001b[0m\u001b[1;32m      3\u001b[0m                         \u001b[0msubsample\u001b[0m\u001b[0;34m=\u001b[0m\u001b[0;32mFalse\u001b[0m\u001b[0;34m,\u001b[0m\u001b[0;34m\u001b[0m\u001b[0;34m\u001b[0m\u001b[0m\n\u001b[1;32m      4\u001b[0m                         SaveFolder=os.path.join(SaveFolder, 'Lowreliability'))\n",
      "\u001b[0;31mTypeError\u001b[0m: cannot unpack non-iterable NoneType object"
     ]
    }
   ],
   "source": [
    "taskstocompare = 'Task5'\n",
    "group1, group2 = na.get_adjacency_matrix(taskstocompare, basetask='Task1', reliability_type='Low',\n",
    "                        subsample=False,\n",
    "                        SaveFolder=os.path.join(SaveFolder, 'Lowreliability'))"
   ]
  },
  {
   "cell_type": "code",
   "execution_count": null,
   "metadata": {
    "ExecuteTime": {
     "end_time": "2023-08-18T22:31:05.813880Z",
     "start_time": "2023-08-18T22:31:05.213370Z"
    }
   },
   "outputs": [],
   "source": [
    "fs, ax = plt.subplots(1, 2)\n",
    "na.plot_graph_factors_bytrack_iterated(ax[0], by_location_highrel, column_name='Degree')\n",
    "na.plot_graph_factors_bytrack_iterated(ax[0], by_location_lowrel, column_name='Degree')\n",
    "na.plot_graph_factors_bytrack_iterated(ax[1], by_location_highrel, column_name='Clustering')\n",
    "na.plot_graph_factors_bytrack_iterated(ax[1], by_location_lowrel, column_name='Clustering')\n",
    "sns.despine(fs)"
   ]
  },
  {
   "cell_type": "markdown",
   "metadata": {},
   "source": [
    "## Calculate weighted degrees"
   ]
  },
  {
   "cell_type": "code",
   "execution_count": null,
   "metadata": {
    "ExecuteTime": {
     "end_time": "2023-08-18T16:40:56.063409Z",
     "start_time": "2023-08-18T16:40:55.948513Z"
    }
   },
   "outputs": [],
   "source": [
    "from analysegraph import PlotData as pld"
   ]
  },
  {
   "cell_type": "markdown",
   "metadata": {},
   "source": [
    "### Task1_Task2"
   ]
  },
  {
   "cell_type": "code",
   "execution_count": null,
   "metadata": {
    "ExecuteTime": {
     "end_time": "2023-08-18T20:18:11.097855Z",
     "start_time": "2023-08-18T20:18:11.057895Z"
    }
   },
   "outputs": [],
   "source": [
    "foldername = '/Users/seetha/Box Sync/MultiDayData/NetworkAnalysis/WeightedDegree/Task1_Task2/'\n",
    "SaveFigureFolder = '/Users/seetha/Box Sync/MultiDayData/MultiDayPaper/Figures/FigurepanelsPDF/NetworkAnalysis/'\n",
    "g = pld(foldername)\n",
    "column_name = 'Weighted Degree'"
   ]
  },
  {
   "cell_type": "code",
   "execution_count": null,
   "metadata": {
    "ExecuteTime": {
     "end_time": "2023-08-18T20:18:15.022240Z",
     "start_time": "2023-08-18T20:18:14.930128Z"
    }
   },
   "outputs": [],
   "source": [
    "df_high = g.concat_files(reliability_flag='high')\n",
    "high_group = g.group_df_bylocation(df_high, column_name=column_name)\n",
    "high_group"
   ]
  },
  {
   "cell_type": "code",
   "execution_count": null,
   "metadata": {
    "ExecuteTime": {
     "end_time": "2023-08-18T20:18:24.699456Z",
     "start_time": "2023-08-18T20:18:24.607886Z"
    }
   },
   "outputs": [],
   "source": [
    "df_low = g.concat_files(reliability_flag='low')\n",
    "low_group = g.group_df_bylocation(df_low, column_name=column_name)"
   ]
  },
  {
   "cell_type": "code",
   "execution_count": null,
   "metadata": {
    "ExecuteTime": {
     "end_time": "2023-08-18T20:18:25.953867Z",
     "start_time": "2023-08-18T20:18:25.471102Z"
    }
   },
   "outputs": [],
   "source": [
    "fs, ax = plt.subplots(1, 2, gridspec_kw={'width_ratios':[2, 1]})\n",
    "g.plot_column(ax, df_high, high_group, df_low, low_group, column_name=column_name)\n",
    "sns.despine(fs)\n",
    "fs.set_size_inches((3, 2))\n",
    "# fs.savefig(os.path.join(SaveFigureFolder, '%s_fulllowrelcells_Task1.pdf'%column_name), bbox_inches='tight')"
   ]
  },
  {
   "cell_type": "markdown",
   "metadata": {},
   "source": [
    "## Task3_Task4"
   ]
  },
  {
   "cell_type": "code",
   "execution_count": null,
   "metadata": {
    "ExecuteTime": {
     "end_time": "2023-08-18T18:35:21.234037Z",
     "start_time": "2023-08-18T18:35:21.166841Z"
    }
   },
   "outputs": [],
   "source": [
    "foldername = '/Users/seetha/Box Sync/MultiDayData/NetworkAnalysis/WeightedDegree/Task3_Task4/'\n",
    "g = pld(foldername)"
   ]
  },
  {
   "cell_type": "code",
   "execution_count": null,
   "metadata": {
    "ExecuteTime": {
     "end_time": "2023-08-18T18:35:21.907781Z",
     "start_time": "2023-08-18T18:35:21.752052Z"
    }
   },
   "outputs": [],
   "source": [
    "df_high = g.concat_files(reliability_flag='high')\n",
    "high_group = g.group_df_bylocation(df_high, column_name=column_name)"
   ]
  },
  {
   "cell_type": "code",
   "execution_count": null,
   "metadata": {
    "ExecuteTime": {
     "end_time": "2023-08-18T18:35:22.525154Z",
     "start_time": "2023-08-18T18:35:22.337041Z"
    }
   },
   "outputs": [],
   "source": [
    "df_low = g.concat_files(reliability_flag='low')\n",
    "low_group = g.group_df_bylocation(df_low, column_name=column_name)"
   ]
  },
  {
   "cell_type": "code",
   "execution_count": null,
   "metadata": {
    "ExecuteTime": {
     "end_time": "2023-08-18T18:47:58.188263Z",
     "start_time": "2023-08-18T18:47:57.122466Z"
    }
   },
   "outputs": [],
   "source": [
    "fs, ax = plt.subplots(1, 2, gridspec_kw={'width_ratios':[2, 1]})\n",
    "g.plot_column(ax, df_high, high_group, df_low, low_group, column_name=column_name)\n",
    "sns.despine(fs)\n",
    "fs.set_size_inches((3, 2))\n",
    "# fs.savefig(os.path.join(SaveFigureFolder, '%s_fulllowrelcells_Task3.pdf'%column_name), bbox_inches='tight')"
   ]
  },
  {
   "cell_type": "markdown",
   "metadata": {},
   "source": [
    "## Subselect"
   ]
  },
  {
   "cell_type": "markdown",
   "metadata": {},
   "source": [
    "### Task1_Task2"
   ]
  },
  {
   "cell_type": "code",
   "execution_count": null,
   "metadata": {
    "ExecuteTime": {
     "end_time": "2023-08-18T17:17:47.723946Z",
     "start_time": "2023-08-18T17:17:47.678087Z"
    }
   },
   "outputs": [],
   "source": [
    "foldername = '/Users/seetha/Box Sync/MultiDayData/NetworkAnalysis/WeightedDegree/Task1_Task2/'\n",
    "g = pld(foldername)\n",
    "column_name = 'Weighted Degree'"
   ]
  },
  {
   "cell_type": "code",
   "execution_count": null,
   "metadata": {
    "ExecuteTime": {
     "end_time": "2023-08-18T17:17:48.644168Z",
     "start_time": "2023-08-18T17:17:48.461664Z"
    },
    "scrolled": false
   },
   "outputs": [],
   "source": [
    "df_high = g.concat_files(reliability_flag='high')\n",
    "high_group = g.select_graph_node_bylocation(df_high, column_name=column_name)"
   ]
  },
  {
   "cell_type": "code",
   "execution_count": null,
   "metadata": {
    "ExecuteTime": {
     "end_time": "2023-08-18T16:45:13.223034Z",
     "start_time": "2023-08-18T16:45:13.083238Z"
    }
   },
   "outputs": [],
   "source": [
    "df_low = g.concat_files(reliability_flag='low')\n",
    "low_group = g.select_graph_node_bylocation(df_low, column_name=column_name)"
   ]
  },
  {
   "cell_type": "code",
   "execution_count": null,
   "metadata": {
    "ExecuteTime": {
     "end_time": "2023-08-18T16:45:15.220012Z",
     "start_time": "2023-08-18T16:45:14.267257Z"
    }
   },
   "outputs": [],
   "source": [
    "fs, ax = plt.subplots(1, 2, gridspec_kw={'width_ratios':[2, 1]})\n",
    "g.plot_column(ax, df_high, high_group, df_low, low_group, column_name=column_name)\n",
    "sns.despine(fs)\n",
    "fs.set_size_inches((3, 2))\n",
    "fs.savefig(os.path.join(SaveFigureFolder, '%s_subsampled_Task1.pdf'%column_name), bbox_inches='tight')"
   ]
  },
  {
   "cell_type": "markdown",
   "metadata": {},
   "source": [
    "### Task3_Task4"
   ]
  },
  {
   "cell_type": "code",
   "execution_count": null,
   "metadata": {
    "ExecuteTime": {
     "end_time": "2023-08-17T20:06:37.248078Z",
     "start_time": "2023-08-17T20:06:37.207260Z"
    }
   },
   "outputs": [],
   "source": [
    "foldername = '/Users/seetha/Box Sync/MultiDayData/NetworkAnalysis/Weighted_degree/Task3_Task4/'\n",
    "g = pld(foldername)"
   ]
  },
  {
   "cell_type": "code",
   "execution_count": null,
   "metadata": {
    "ExecuteTime": {
     "end_time": "2023-08-17T20:06:38.042924Z",
     "start_time": "2023-08-17T20:06:37.911838Z"
    },
    "scrolled": false
   },
   "outputs": [],
   "source": [
    "df_high = g.concat_files(reliability_flag='high')\n",
    "high_group = g.select_graph_node_bylocation(df_high, column_name=column_name)"
   ]
  },
  {
   "cell_type": "code",
   "execution_count": null,
   "metadata": {
    "ExecuteTime": {
     "end_time": "2023-08-17T20:06:39.184810Z",
     "start_time": "2023-08-17T20:06:38.983476Z"
    }
   },
   "outputs": [],
   "source": [
    "df_low = g.concat_files(reliability_flag='low')\n",
    "low_group = g.select_graph_node_bylocation(df_low, column_name=column_name)"
   ]
  },
  {
   "cell_type": "code",
   "execution_count": null,
   "metadata": {
    "ExecuteTime": {
     "end_time": "2023-08-17T20:06:40.961429Z",
     "start_time": "2023-08-17T20:06:40.135582Z"
    }
   },
   "outputs": [],
   "source": [
    "fs, ax = plt.subplots(1, 2, gridspec_kw={'width_ratios':[2, 1]})\n",
    "g.plot_column(ax, df_high, high_group, df_low, low_group, column_name=column_name)\n",
    "sns.despine(fs)\n",
    "fs.set_size_inches((3, 2))\n",
    "fs.savefig(os.path.join(SaveFigureFolder, '%s_subsampled_Task3.pdf'%column_name), bbox_inches='tight')"
   ]
  },
  {
   "cell_type": "markdown",
   "metadata": {},
   "source": [
    "## Normalize"
   ]
  },
  {
   "cell_type": "code",
   "execution_count": null,
   "metadata": {
    "ExecuteTime": {
     "end_time": "2023-08-18T20:17:22.427008Z",
     "start_time": "2023-08-18T20:17:22.386799Z"
    }
   },
   "outputs": [],
   "source": [
    "foldername = '/Users/seetha/Box Sync/MultiDayData/NetworkAnalysis/WeightedDegree/Task1_Task2/'\n",
    "SaveFigureFolder = '/Users/seetha/Box Sync/MultiDayData/MultiDayPaper/Figures/FigurepanelsPDF/NetworkAnalysis/'\n",
    "g = pld(foldername)\n",
    "column_name = 'Weighted Degree'"
   ]
  },
  {
   "cell_type": "code",
   "execution_count": null,
   "metadata": {
    "ExecuteTime": {
     "end_time": "2023-08-18T20:17:22.987557Z",
     "start_time": "2023-08-18T20:17:22.882416Z"
    }
   },
   "outputs": [],
   "source": [
    "df_high = g.concat_files(reliability_flag='high')\n",
    "high_group = g.normalize_graph_node_bylocation(df_high, column_name=column_name)\n",
    "high_group"
   ]
  },
  {
   "cell_type": "code",
   "execution_count": null,
   "metadata": {
    "ExecuteTime": {
     "end_time": "2023-08-18T20:16:31.283674Z",
     "start_time": "2023-08-18T20:16:31.185326Z"
    }
   },
   "outputs": [],
   "source": [
    "df_low = g.concat_files(reliability_flag='low')\n",
    "low_group = g.normalize_graph_node_bylocation(df_low, column_name=column_name)"
   ]
  },
  {
   "cell_type": "code",
   "execution_count": null,
   "metadata": {
    "ExecuteTime": {
     "end_time": "2023-08-18T20:16:34.288743Z",
     "start_time": "2023-08-18T20:16:33.843977Z"
    }
   },
   "outputs": [],
   "source": [
    "fs, ax = plt.subplots(1, 2, gridspec_kw={'width_ratios':[2, 1]})\n",
    "g.plot_normalized_column(ax, df_high, high_group, df_low, low_group, column_name=column_name)\n",
    "sns.despine(fs)\n",
    "fs.set_size_inches((3, 2))\n",
    "# fs.savefig(os.path.join(SaveFigureFolder, '%s_subsampledlowrel_normalized_Task1.pdf'%column_name), bbox_inches='tight')"
   ]
  },
  {
   "cell_type": "markdown",
   "metadata": {},
   "source": [
    "## Task3_Task4"
   ]
  },
  {
   "cell_type": "code",
   "execution_count": null,
   "metadata": {
    "ExecuteTime": {
     "end_time": "2023-08-18T20:16:46.469133Z",
     "start_time": "2023-08-18T20:16:46.422786Z"
    }
   },
   "outputs": [],
   "source": [
    "foldername = '/Users/seetha/Box Sync/MultiDayData/NetworkAnalysis/WeightedDegree/Task3_Task4/'\n",
    "g = pld(foldername)"
   ]
  },
  {
   "cell_type": "code",
   "execution_count": null,
   "metadata": {
    "ExecuteTime": {
     "end_time": "2023-08-18T17:18:33.880636Z",
     "start_time": "2023-08-18T17:18:33.726682Z"
    }
   },
   "outputs": [],
   "source": [
    "df_high = g.concat_files(reliability_flag='high')\n",
    "high_group = g.normalize_graph_node_bylocation(df_high, column_name=column_name)"
   ]
  },
  {
   "cell_type": "code",
   "execution_count": null,
   "metadata": {
    "ExecuteTime": {
     "end_time": "2023-08-18T17:18:34.516080Z",
     "start_time": "2023-08-18T17:18:34.412355Z"
    }
   },
   "outputs": [],
   "source": [
    "df_low = g.concat_files(reliability_flag='low')\n",
    "low_group = g.normalize_graph_node_bylocation(df_low, column_name=column_name)"
   ]
  },
  {
   "cell_type": "code",
   "execution_count": null,
   "metadata": {
    "ExecuteTime": {
     "end_time": "2023-08-18T17:18:35.755062Z",
     "start_time": "2023-08-18T17:18:35.021596Z"
    }
   },
   "outputs": [],
   "source": [
    "fs, ax = plt.subplots(1, 2, gridspec_kw={'width_ratios':[2, 1]})\n",
    "g.plot_normalized_column(ax, df_high, high_group, df_low, low_group, column_name=column_name)\n",
    "sns.despine(fs)\n",
    "fs.set_size_inches((3, 2))\n",
    "fs.savefig(os.path.join(SaveFigureFolder, '%s_subsampledlowrel_normalized_Task3.pdf'%column_name), bbox_inches='tight')"
   ]
  },
  {
   "cell_type": "code",
   "execution_count": null,
   "metadata": {},
   "outputs": [],
   "source": []
  }
 ],
 "metadata": {
  "kernelspec": {
   "display_name": "Python 3",
   "language": "python",
   "name": "python3"
  },
  "language_info": {
   "codemirror_mode": {
    "name": "ipython",
    "version": 3
   },
   "file_extension": ".py",
   "mimetype": "text/x-python",
   "name": "python",
   "nbconvert_exporter": "python",
   "pygments_lexer": "ipython3",
   "version": "3.8.5"
  },
  "toc": {
   "base_numbering": 1,
   "nav_menu": {},
   "number_sections": true,
   "sideBar": true,
   "skip_h1_title": false,
   "title_cell": "Table of Contents",
   "title_sidebar": "Contents",
   "toc_cell": false,
   "toc_position": {},
   "toc_section_display": true,
   "toc_window_display": false
  }
 },
 "nbformat": 4,
 "nbformat_minor": 4
}
