{
 "cells": [
  {
   "cell_type": "code",
   "execution_count": 1,
   "metadata": {
    "ExecuteTime": {
     "end_time": "2023-07-27T15:47:11.332544Z",
     "start_time": "2023-07-27T15:47:04.008611Z"
    }
   },
   "outputs": [],
   "source": [
    "import os\n",
    "import scipy.io\n",
    "import matplotlib.pyplot as plt\n",
    "import numpy as np\n",
    "import seaborn as sns\n",
    "sns.set_context('paper', font_scale=1.1)\n",
    "import pandas as pd\n",
    "import warnings\n",
    "import sys\n",
    "\n",
    "warnings.filterwarnings('ignore')\n",
    "%matplotlib inline\n",
    "%load_ext autoreload\n",
    "%autoreload 2"
   ]
  },
  {
   "cell_type": "code",
   "execution_count": 2,
   "metadata": {
    "ExecuteTime": {
     "end_time": "2023-07-27T15:47:11.423848Z",
     "start_time": "2023-07-27T15:47:11.335714Z"
    }
   },
   "outputs": [],
   "source": [
    "DirectoryName = '/Users/seetha/Box Sync/MultiDayData/Data/'\n",
    "SaveFolder = '/Users/seetha/Box Sync/MultiDayData/NetworkAnalysis/'"
   ]
  },
  {
   "cell_type": "code",
   "execution_count": 3,
   "metadata": {
    "ExecuteTime": {
     "end_time": "2023-07-27T15:47:11.516242Z",
     "start_time": "2023-07-27T15:47:11.436694Z"
    }
   },
   "outputs": [
    {
     "data": {
      "text/plain": [
       "'/Users/seetha/Box Sync/MultiDayData'"
      ]
     },
     "execution_count": 3,
     "metadata": {},
     "output_type": "execute_result"
    }
   ],
   "source": [
    "os.path.normpath(DirectoryName + os.sep + os.pardir)"
   ]
  },
  {
   "cell_type": "code",
   "execution_count": 4,
   "metadata": {
    "ExecuteTime": {
     "end_time": "2023-07-27T15:47:11.711054Z",
     "start_time": "2023-07-27T15:47:11.521705Z"
    }
   },
   "outputs": [],
   "source": [
    "from create_data import GetData as gd"
   ]
  },
  {
   "cell_type": "code",
   "execution_count": 5,
   "metadata": {
    "ExecuteTime": {
     "end_time": "2023-07-27T15:47:11.786665Z",
     "start_time": "2023-07-27T15:47:11.713976Z"
    }
   },
   "outputs": [],
   "source": [
    "na = gd(DirectoryName, SaveFolder)"
   ]
  },
  {
   "cell_type": "code",
   "execution_count": 6,
   "metadata": {
    "ExecuteTime": {
     "end_time": "2023-07-27T15:53:34.406039Z",
     "start_time": "2023-07-27T15:47:48.565633Z"
    },
    "scrolled": true
   },
   "outputs": [
    {
     "name": "stdout",
     "output_type": "stream",
     "text": [
      "NR34\n",
      "Number of pfs 256 Number of single pfs 223\n",
      "25\n",
      "Analysing..223 cells\n",
      "Corr matrix min -0.7 and max 1.0\n",
      "N edges: 9676\n",
      "NR34_placecellparams_df.csv\n",
      "[1 2 3 4 5 6 7 8]\n",
      "Nodes (223, 6)\n",
      "CFC17\n",
      "Number of pfs 234 Number of single pfs 195\n",
      "22\n",
      "Analysing..195 cells\n",
      "Corr matrix min -0.7 and max 1.0\n",
      "N edges: 6124\n",
      "CFC17_placecellparams_df.csv\n",
      "[1 2 3 4 5 6 7 8]\n",
      "Nodes (195, 6)\n",
      "NR32\n",
      "Number of pfs 160 Number of single pfs 135\n",
      "25\n",
      "Analysing..135 cells\n",
      "Corr matrix min -0.8 and max 1.0\n",
      "N edges: 3508\n",
      "NR32_placecellparams_df.csv\n",
      "[1 2 3 4 5 6 7 8]\n",
      "Nodes (135, 6)\n",
      "CFC16\n",
      "Number of pfs 453 Number of single pfs 408\n",
      "17\n",
      "Analysing..408 cells\n",
      "Corr matrix min -0.9 and max 1.0\n",
      "N edges: 35728\n",
      "CFC16_placecellparams_df.csv\n",
      "[1 2 3 4 5 6 7 8]\n",
      "Nodes (408, 6)\n",
      "CFC18\n",
      "Number of pfs 511 Number of single pfs 458\n",
      "16\n",
      "Analysing..458 cells\n",
      "Corr matrix min -0.9 and max 1.0\n",
      "N edges: 44984\n",
      "CFC18_placecellparams_df.csv\n",
      "[1 2 3 4 5 6 7 8]\n",
      "Nodes (458, 6)\n"
     ]
    }
   ],
   "source": [
    "taskstocompare = 'Task2'\n",
    "na.get_adjacency_matrix(taskstocompare)"
   ]
  },
  {
   "cell_type": "code",
   "execution_count": 7,
   "metadata": {
    "ExecuteTime": {
     "end_time": "2023-07-27T15:59:48.880775Z",
     "start_time": "2023-07-27T15:53:34.411564Z"
    },
    "scrolled": true
   },
   "outputs": [
    {
     "name": "stdout",
     "output_type": "stream",
     "text": [
      "NR34\n",
      "Number of pfs 480 Number of single pfs 353\n",
      "8\n",
      "Analysing..353 cells\n",
      "Corr matrix min -0.9 and max 1.0\n",
      "N edges: 28643\n",
      "NR34_placecellparams_df.csv\n",
      "[1 2 3 4 5 6 7 8]\n",
      "Nodes (353, 6)\n",
      "CFC17\n",
      "Number of pfs 230 Number of single pfs 169\n",
      "18\n",
      "Analysing..169 cells\n",
      "Corr matrix min -0.8 and max 1.0\n",
      "N edges: 5031\n",
      "CFC17_placecellparams_df.csv\n",
      "[1 2 3 4 5 6 7 8]\n",
      "Nodes (169, 6)\n",
      "NR32\n",
      "Number of pfs 240 Number of single pfs 194\n",
      "10\n",
      "Analysing..194 cells\n",
      "Corr matrix min -0.8 and max 1.0\n",
      "N edges: 7048\n",
      "NR32_placecellparams_df.csv\n",
      "[1 2 3 4 5 6 7 8]\n",
      "Nodes (194, 6)\n",
      "CFC16\n",
      "Number of pfs 473 Number of single pfs 420\n",
      "13\n",
      "Analysing..420 cells\n",
      "Corr matrix min -0.7 and max 0.9\n",
      "N edges: 37725\n",
      "CFC16_placecellparams_df.csv\n",
      "[1 2 3 4 5 6 7 8]\n",
      "Nodes (420, 6)\n",
      "CFC18\n",
      "Number of pfs 669 Number of single pfs 557\n",
      "9\n",
      "Analysing..557 cells\n",
      "Corr matrix min -0.8 and max 1.0\n",
      "N edges: 72509\n",
      "CFC18_placecellparams_df.csv\n",
      "[1 2 3 4 5 6 7 8]\n",
      "Nodes (557, 6)\n"
     ]
    }
   ],
   "source": [
    "taskstocompare = 'Task4'\n",
    "na.get_adjacency_matrix(taskstocompare, basetask='Task3')"
   ]
  },
  {
   "cell_type": "code",
   "execution_count": 8,
   "metadata": {
    "ExecuteTime": {
     "end_time": "2023-07-27T16:04:08.130188Z",
     "start_time": "2023-07-27T15:59:48.888376Z"
    }
   },
   "outputs": [
    {
     "name": "stdout",
     "output_type": "stream",
     "text": [
      "NR34\n",
      "Number of pfs 256 Number of single pfs 223\n",
      "25\n",
      "Analysing..223 cells\n",
      "Corr matrix min -0.7 and max 0.8\n",
      "N edges: 9926\n",
      "NR34_placecellparams_df.csv\n",
      "[1 2 3 4 5 6 7 8]\n",
      "Nodes (223, 6)\n",
      "CFC17\n",
      "Number of pfs 234 Number of single pfs 195\n",
      "22\n",
      "Analysing..195 cells\n",
      "Corr matrix min -0.7 and max 1.0\n",
      "N edges: 5068\n",
      "CFC17_placecellparams_df.csv\n",
      "[1 2 3 4 5 6 7 8]\n",
      "Nodes (195, 6)\n",
      "NR32\n",
      "Number of pfs 160 Number of single pfs 135\n",
      "25\n",
      "Analysing..135 cells\n",
      "Corr matrix min -0.9 and max 1.0\n",
      "N edges: 3734\n",
      "NR32_placecellparams_df.csv\n",
      "[1 2 3 4 5 6 7 8]\n",
      "Nodes (135, 6)\n",
      "CFC16\n",
      "Number of pfs 453 Number of single pfs 408\n",
      "17\n",
      "Analysing..408 cells\n",
      "Corr matrix min -0.9 and max 1.0\n",
      "N edges: 30064\n",
      "CFC16_placecellparams_df.csv\n",
      "[1 2 3 4 5 6 7 8]\n",
      "Nodes (408, 6)\n",
      "CFC18\n",
      "Number of pfs 511 Number of single pfs 458\n",
      "16\n",
      "Analysing..458 cells\n",
      "Corr matrix min -0.8 and max 1.0\n",
      "N edges: 42871\n",
      "CFC18_placecellparams_df.csv\n",
      "[1 2 3 4 5 6 7 8]\n",
      "Nodes (458, 6)\n"
     ]
    }
   ],
   "source": [
    "taskstocompare = 'Task5'\n",
    "na.get_adjacency_matrix(taskstocompare, basetask='Task1')"
   ]
  },
  {
   "cell_type": "code",
   "execution_count": null,
   "metadata": {},
   "outputs": [],
   "source": []
  }
 ],
 "metadata": {
  "kernelspec": {
   "display_name": "Python 3",
   "language": "python",
   "name": "python3"
  },
  "language_info": {
   "codemirror_mode": {
    "name": "ipython",
    "version": 3
   },
   "file_extension": ".py",
   "mimetype": "text/x-python",
   "name": "python",
   "nbconvert_exporter": "python",
   "pygments_lexer": "ipython3",
   "version": "3.8.5"
  },
  "toc": {
   "base_numbering": 1,
   "nav_menu": {},
   "number_sections": true,
   "sideBar": true,
   "skip_h1_title": false,
   "title_cell": "Table of Contents",
   "title_sidebar": "Contents",
   "toc_cell": false,
   "toc_position": {},
   "toc_section_display": true,
   "toc_window_display": false
  }
 },
 "nbformat": 4,
 "nbformat_minor": 4
}
