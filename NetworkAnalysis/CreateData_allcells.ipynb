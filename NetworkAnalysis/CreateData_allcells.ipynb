{
 "cells": [
  {
   "cell_type": "code",
   "execution_count": 1,
   "metadata": {
    "ExecuteTime": {
     "end_time": "2023-09-11T20:46:01.200330Z",
     "start_time": "2023-09-11T20:45:57.998712Z"
    }
   },
   "outputs": [],
   "source": [
    "import os\n",
    "import scipy.io\n",
    "import matplotlib.pyplot as plt\n",
    "import numpy as np\n",
    "import seaborn as sns\n",
    "sns.set_context('paper', font_scale=1.1)\n",
    "import pandas as pd\n",
    "import warnings\n",
    "import sys\n",
    "\n",
    "warnings.filterwarnings('ignore')\n",
    "%matplotlib inline\n",
    "%load_ext autoreload\n",
    "%autoreload 2"
   ]
  },
  {
   "cell_type": "code",
   "execution_count": 2,
   "metadata": {
    "ExecuteTime": {
     "end_time": "2023-09-11T20:50:09.790395Z",
     "start_time": "2023-09-11T20:50:09.109801Z"
    }
   },
   "outputs": [],
   "source": [
    "from create_data_for_gephi import GetData as gd"
   ]
  },
  {
   "cell_type": "code",
   "execution_count": 3,
   "metadata": {
    "ExecuteTime": {
     "end_time": "2023-09-11T20:50:36.555522Z",
     "start_time": "2023-09-11T20:50:36.489572Z"
    }
   },
   "outputs": [],
   "source": [
    "DirectoryName = '/Users/seetha/Box Sync/MultiDayData/Data/'\n",
    "CombinedFolderName = '/Users/seetha/Box Sync/MultiDayData/PlaceCellResultsAll/'\n",
    "SaveFolder = '/Users/seetha/Box Sync/MultiDayData/NetworkAnalysis/Allcells/'"
   ]
  },
  {
   "cell_type": "code",
   "execution_count": 4,
   "metadata": {
    "ExecuteTime": {
     "end_time": "2023-09-11T20:50:42.889939Z",
     "start_time": "2023-09-11T20:50:42.645304Z"
    }
   },
   "outputs": [],
   "source": [
    "na = gd(DirectoryName, CombinedFolderName)"
   ]
  },
  {
   "cell_type": "code",
   "execution_count": 6,
   "metadata": {
    "ExecuteTime": {
     "end_time": "2023-09-11T20:57:42.516297Z",
     "start_time": "2023-09-11T20:52:10.866130Z"
    }
   },
   "outputs": [
    {
     "name": "stdout",
     "output_type": "stream",
     "text": [
      "NR34\n",
      "Analysing..292 cells\n",
      "Corr matrix min -0.7 and max 1.0\n",
      "N edges: 18599\n",
      "[]\n",
      "WHAT\n",
      "[]\n",
      "WHAT\n",
      "[1 2 3 4 5 6 7 8]\n",
      "Nodes (292, 6)\n",
      "CFC17\n",
      "Analysing..272 cells\n",
      "Corr matrix min -0.6 and max 1.0\n",
      "N edges: 11335\n",
      "[1 2 3 4 5 6 7 8]\n",
      "Nodes (272, 6)\n",
      "NR32\n",
      "Analysing..183 cells\n",
      "Corr matrix min -0.7 and max 1.0\n",
      "N edges: 7058\n",
      "[]\n",
      "WHAT\n",
      "[1 2 3 4 5 6 7 8]\n",
      "Nodes (183, 6)\n",
      "CFC16\n",
      "Analysing..476 cells\n",
      "Corr matrix min -0.8 and max 1.0\n",
      "N edges: 51746\n",
      "[]\n",
      "WHAT\n",
      "[]\n",
      "WHAT\n",
      "[]\n",
      "WHAT\n",
      "[]\n",
      "WHAT\n",
      "[]\n",
      "WHAT\n",
      "[1 2 3 4 5 6 7 8]\n",
      "Nodes (476, 6)\n",
      "CFC18\n",
      "Analysing..499 cells\n",
      "Corr matrix min -0.8 and max 1.0\n",
      "N edges: 47857\n",
      "[1 2 3 4 5 6 7 8]\n",
      "Nodes (499, 6)\n"
     ]
    }
   ],
   "source": [
    "taskstocompare = 'Task2'\n",
    "\n",
    "na.get_adjacency_matrix(taskstocompare, basetask='Task1',\n",
    "                                   reliability_type='All', subsample=False, shuffle_flag=False,\n",
    "                                   SaveFolder=os.path.join(SaveFolder))"
   ]
  },
  {
   "cell_type": "code",
   "execution_count": 7,
   "metadata": {
    "ExecuteTime": {
     "end_time": "2023-09-11T21:09:52.732402Z",
     "start_time": "2023-09-11T20:57:42.532426Z"
    }
   },
   "outputs": [
    {
     "name": "stdout",
     "output_type": "stream",
     "text": [
      "NR34\n",
      "Analysing..581 cells\n",
      "Corr matrix min -0.8 and max 1.0\n",
      "N edges: 79516\n",
      "[]\n",
      "WHAT\n",
      "[]\n",
      "WHAT\n",
      "[1 2 3 4 5 6 7 8]\n",
      "Nodes (581, 6)\n",
      "CFC17\n",
      "Analysing..286 cells\n",
      "Corr matrix min -0.6 and max 1.0\n",
      "N edges: 12702\n",
      "[1 2 3 4 5 6 7 8]\n",
      "Nodes (286, 6)\n",
      "NR32\n",
      "Analysing..271 cells\n",
      "Corr matrix min -0.7 and max 1.0\n",
      "N edges: 15207\n",
      "[]\n",
      "WHAT\n",
      "[]\n",
      "WHAT\n",
      "[]\n",
      "WHAT\n",
      "[]\n",
      "WHAT\n",
      "[]\n",
      "WHAT\n",
      "[1 2 3 4 5 6 7 8]\n",
      "Nodes (271, 6)\n",
      "CFC16\n",
      "Analysing..523 cells\n",
      "Corr matrix min -0.7 and max 0.9\n",
      "N edges: 63373\n",
      "[]\n",
      "WHAT\n",
      "[]\n",
      "WHAT\n",
      "[]\n",
      "WHAT\n",
      "[1 2 3 4 5 6 7 8]\n",
      "Nodes (523, 6)\n",
      "CFC18\n",
      "Analysing..694 cells\n",
      "Corr matrix min -0.8 and max 1.0\n",
      "N edges: 117782\n",
      "[1 2 3 4 5 6 7 8]\n",
      "Nodes (694, 6)\n"
     ]
    }
   ],
   "source": [
    "taskstocompare = 'Task4'\n",
    "\n",
    "na.get_adjacency_matrix(taskstocompare, basetask='Task3',\n",
    "                                   reliability_type='All', subsample=False, shuffle_flag=False,\n",
    "                                   SaveFolder=os.path.join(SaveFolder))"
   ]
  },
  {
   "cell_type": "code",
   "execution_count": null,
   "metadata": {},
   "outputs": [],
   "source": []
  }
 ],
 "metadata": {
  "kernelspec": {
   "display_name": "Python 3",
   "language": "python",
   "name": "python3"
  },
  "language_info": {
   "codemirror_mode": {
    "name": "ipython",
    "version": 3
   },
   "file_extension": ".py",
   "mimetype": "text/x-python",
   "name": "python",
   "nbconvert_exporter": "python",
   "pygments_lexer": "ipython3",
   "version": "3.8.5"
  },
  "toc": {
   "base_numbering": 1,
   "nav_menu": {},
   "number_sections": true,
   "sideBar": true,
   "skip_h1_title": false,
   "title_cell": "Table of Contents",
   "title_sidebar": "Contents",
   "toc_cell": false,
   "toc_position": {},
   "toc_section_display": true,
   "toc_window_display": false
  }
 },
 "nbformat": 4,
 "nbformat_minor": 4
}
