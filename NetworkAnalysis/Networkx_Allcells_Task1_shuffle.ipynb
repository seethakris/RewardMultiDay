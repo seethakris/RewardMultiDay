{
 "cells": [
  {
   "cell_type": "code",
   "execution_count": 1,
   "metadata": {
    "ExecuteTime": {
     "end_time": "2023-09-13T15:48:45.878079Z",
     "start_time": "2023-09-13T15:48:41.262416Z"
    }
   },
   "outputs": [],
   "source": [
    "import os\n",
    "import scipy.io\n",
    "import matplotlib.pyplot as plt\n",
    "import numpy as np\n",
    "import seaborn as sns\n",
    "sns.set_context('paper', font_scale=1.1)\n",
    "import pandas as pd\n",
    "import warnings\n",
    "import sys\n",
    "import scipy.stats\n",
    "\n",
    "warnings.filterwarnings('ignore')\n",
    "%matplotlib inline\n",
    "%load_ext autoreload\n",
    "%autoreload 2"
   ]
  },
  {
   "cell_type": "code",
   "execution_count": 2,
   "metadata": {
    "ExecuteTime": {
     "end_time": "2023-09-13T15:48:55.208664Z",
     "start_time": "2023-09-13T15:48:45.895808Z"
    }
   },
   "outputs": [],
   "source": [
    "from create_data_byreliability import GetData as gd"
   ]
  },
  {
   "cell_type": "code",
   "execution_count": 3,
   "metadata": {
    "ExecuteTime": {
     "end_time": "2023-09-13T15:48:55.472060Z",
     "start_time": "2023-09-13T15:48:55.350443Z"
    }
   },
   "outputs": [],
   "source": [
    "DirectoryName = '/Users/seetha/Box Sync/MultiDayData/Data/'\n",
    "CombinedFolderName = '/Users/seetha/Box Sync/MultiDayData/PlaceCellResultsAll/'\n",
    "SaveFolder = '/Users/seetha/Box Sync/MultiDayData/NetworkAnalysis/Allcells/'\n",
    "SaveFigureFolder = '/Users/seetha/Box Sync/MultiDayData/MultiDayPaper/Figures/FigurepanelsPDF/Networkx/'"
   ]
  },
  {
   "cell_type": "markdown",
   "metadata": {},
   "source": [
    "## Task1_Task1"
   ]
  },
  {
   "cell_type": "code",
   "execution_count": 23,
   "metadata": {
    "ExecuteTime": {
     "end_time": "2023-09-13T19:51:06.522151Z",
     "start_time": "2023-09-13T19:51:05.570014Z"
    }
   },
   "outputs": [],
   "source": [
    "na = gd(DirectoryName, CombinedFolderName)"
   ]
  },
  {
   "cell_type": "code",
   "execution_count": null,
   "metadata": {
    "ExecuteTime": {
     "start_time": "2023-09-13T20:32:40.353Z"
    }
   },
   "outputs": [],
   "source": [
    "taskstocompare = 'Task2'\n",
    "full_graph, by_location_rew, by_animal_rew, numcells = na.get_adjacency_matrix(taskstocompare, basetask='Task2',\n",
    "                                   reliability_type='All', subsample=False,\n",
    "                                   SaveFolder=SaveFolder)"
   ]
  },
  {
   "cell_type": "markdown",
   "metadata": {},
   "source": [
    "## Task1_shuffle"
   ]
  },
  {
   "cell_type": "code",
   "execution_count": null,
   "metadata": {
    "ExecuteTime": {
     "start_time": "2023-09-13T20:32:42.762Z"
    }
   },
   "outputs": [],
   "source": [
    "taskstocompare = 'Task1'\n",
    "full_graph, by_location_shuff, by_animal_shuff, numcells = na.get_adjacency_matrix(taskstocompare, basetask='Task1',\n",
    "                                   reliability_type='All', subsample=False, shuffle_flag=True,\n",
    "                                   SaveFolder=SaveFolder)"
   ]
  },
  {
   "cell_type": "code",
   "execution_count": null,
   "metadata": {
    "ExecuteTime": {
     "start_time": "2023-09-13T19:51:07.756Z"
    }
   },
   "outputs": [],
   "source": [
    "by_location_rew"
   ]
  },
  {
   "cell_type": "code",
   "execution_count": null,
   "metadata": {
    "ExecuteTime": {
     "start_time": "2023-09-13T19:51:08.025Z"
    }
   },
   "outputs": [],
   "source": [
    "fs, ax = plt.subplots(1, 2)\n",
    "na.plot_factors_bylocation(ax[0], by_location_rew, by_location_shuff, column_name='Degree')\n",
    "na.plot_factors_bylocation(ax[1], by_location_rew, by_location_shuff, column_name='Clustering')\n",
    "sns.despine(fs)\n",
    "# ax[0].set_ylim((0.07, 0.45))\n",
    "# ax[1].set_ylim((0.1, 0.4))\n",
    "fs.set_size_inches((3, 2))\n",
    "# fs.savefig(os.path.join(SaveFigureFolder, 'Deg_CC_bytrack_shuffle.pdf'), bbox_inches='tight')"
   ]
  },
  {
   "cell_type": "code",
   "execution_count": null,
   "metadata": {
    "ExecuteTime": {
     "start_time": "2023-09-13T19:51:08.921Z"
    }
   },
   "outputs": [],
   "source": [
    "fs, ax = plt.subplots(1, 2)\n",
    "na.plot_factors_by_animal(ax[0], by_animal_rew, by_animal_shuff, column_name='Degree')\n",
    "na.plot_factors_by_animal(ax[1], by_animal_rew, by_animal_shuff, column_name='Clustering')\n",
    "sns.despine(fs)\n",
    "fs.set_size_inches((3, 2))\n",
    "# fs.savefig(os.path.join(SaveFigureFolder, 'Deg_CC_byanimal_shuffle.pdf'), bbox_inches='tight')"
   ]
  },
  {
   "cell_type": "code",
   "execution_count": null,
   "metadata": {},
   "outputs": [],
   "source": []
  }
 ],
 "metadata": {
  "kernelspec": {
   "display_name": "Python 3",
   "language": "python",
   "name": "python3"
  },
  "language_info": {
   "codemirror_mode": {
    "name": "ipython",
    "version": 3
   },
   "file_extension": ".py",
   "mimetype": "text/x-python",
   "name": "python",
   "nbconvert_exporter": "python",
   "pygments_lexer": "ipython3",
   "version": "3.8.5"
  },
  "toc": {
   "base_numbering": 1,
   "nav_menu": {},
   "number_sections": true,
   "sideBar": true,
   "skip_h1_title": false,
   "title_cell": "Table of Contents",
   "title_sidebar": "Contents",
   "toc_cell": false,
   "toc_position": {},
   "toc_section_display": true,
   "toc_window_display": false
  }
 },
 "nbformat": 4,
 "nbformat_minor": 4
}
