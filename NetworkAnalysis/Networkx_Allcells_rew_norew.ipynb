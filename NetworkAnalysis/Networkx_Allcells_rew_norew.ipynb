{
 "cells": [
  {
   "cell_type": "code",
   "execution_count": 1,
   "metadata": {
    "ExecuteTime": {
     "end_time": "2023-10-12T18:42:29.418111Z",
     "start_time": "2023-10-12T18:42:25.846625Z"
    }
   },
   "outputs": [],
   "source": [
    "import os\n",
    "import scipy.io\n",
    "import matplotlib.pyplot as plt\n",
    "import numpy as np\n",
    "import seaborn as sns\n",
    "sns.set_context('paper', font_scale=1.1)\n",
    "import pandas as pd\n",
    "import warnings\n",
    "import sys\n",
    "import scipy.stats\n",
    "\n",
    "warnings.filterwarnings('ignore')\n",
    "%matplotlib inline\n",
    "%load_ext autoreload\n",
    "%autoreload 2"
   ]
  },
  {
   "cell_type": "code",
   "execution_count": 2,
   "metadata": {
    "ExecuteTime": {
     "end_time": "2023-10-12T18:42:30.097651Z",
     "start_time": "2023-10-12T18:42:29.426128Z"
    }
   },
   "outputs": [],
   "source": [
    "from create_data_byreliability import GetData as gd"
   ]
  },
  {
   "cell_type": "code",
   "execution_count": 12,
   "metadata": {
    "ExecuteTime": {
     "end_time": "2023-10-12T20:52:08.176877Z",
     "start_time": "2023-10-12T20:52:08.081630Z"
    }
   },
   "outputs": [],
   "source": [
    "DirectoryName = '/Users/seetha/Box Sync/MultiDayData/Data/'\n",
    "CombinedFolderName = '/Users/seetha/Box Sync/MultiDayData/PlaceCellResultsAll/'\n",
    "SaveFolder = '/Users/seetha/Box Sync/MultiDayData/NetworkAnalysis/Allcells/'\n",
    "SaveFigureFolder = '/Users/seetha/Box Sync/MultiDayData/MultiDayPaper/Figures/FigurepanelsPDF/NewNetworkFigs/'"
   ]
  },
  {
   "cell_type": "markdown",
   "metadata": {},
   "source": [
    "## Task1_Task2"
   ]
  },
  {
   "cell_type": "code",
   "execution_count": 4,
   "metadata": {
    "ExecuteTime": {
     "end_time": "2023-10-12T18:42:30.539713Z",
     "start_time": "2023-10-12T18:42:30.197486Z"
    }
   },
   "outputs": [],
   "source": [
    "na = gd(DirectoryName, CombinedFolderName)"
   ]
  },
  {
   "cell_type": "code",
   "execution_count": 5,
   "metadata": {
    "ExecuteTime": {
     "end_time": "2023-10-12T18:49:51.808608Z",
     "start_time": "2023-10-12T18:42:30.566569Z"
    }
   },
   "outputs": [
    {
     "name": "stdout",
     "output_type": "stream",
     "text": [
      "NR34\n",
      "Analysing..292 cells\n",
      "CFC17\n",
      "Analysing..272 cells\n",
      "NR32\n",
      "Analysing..183 cells\n",
      "CFC16\n",
      "Analysing..476 cells\n",
      "CFC18\n",
      "Analysing..499 cells\n"
     ]
    }
   ],
   "source": [
    "taskstocompare = 'Task2'\n",
    "full_graph_rew, by_location_rew, by_animal_rew, numcells = na.get_adjacency_matrix(taskstocompare, basetask='Task1',\n",
    "                                   reliability_type='All', subsample=False, \n",
    "                                   SaveFolder=SaveFolder)"
   ]
  },
  {
   "cell_type": "markdown",
   "metadata": {},
   "source": [
    "## Task3_Task4"
   ]
  },
  {
   "cell_type": "code",
   "execution_count": 6,
   "metadata": {
    "ExecuteTime": {
     "end_time": "2023-10-12T19:06:41.651642Z",
     "start_time": "2023-10-12T18:49:51.813914Z"
    }
   },
   "outputs": [
    {
     "name": "stdout",
     "output_type": "stream",
     "text": [
      "NR34\n",
      "Analysing..581 cells\n",
      "CFC17\n",
      "Analysing..286 cells\n",
      "NR32\n",
      "Analysing..271 cells\n",
      "CFC16\n",
      "Analysing..523 cells\n",
      "CFC18\n",
      "Analysing..694 cells\n"
     ]
    }
   ],
   "source": [
    "taskstocompare = 'Task4'\n",
    "full_graph_norew, by_location_norew, by_animal_norew, temp = na.get_adjacency_matrix(taskstocompare, basetask='Task3',\n",
    "                                   reliability_type='All', subsample=False,\n",
    "                                   SaveFolder=SaveFolder)"
   ]
  },
  {
   "cell_type": "markdown",
   "metadata": {},
   "source": [
    "## Task2_Task2"
   ]
  },
  {
   "cell_type": "code",
   "execution_count": 32,
   "metadata": {
    "ExecuteTime": {
     "end_time": "2023-10-13T01:22:50.852928Z",
     "start_time": "2023-10-13T01:14:52.627527Z"
    }
   },
   "outputs": [
    {
     "name": "stdout",
     "output_type": "stream",
     "text": [
      "NR34\n",
      "Analysing..340 cells\n",
      "CFC17\n",
      "Analysing..272 cells\n",
      "NR32\n",
      "Analysing..240 cells\n",
      "CFC16\n",
      "Analysing..480 cells\n",
      "CFC18\n",
      "Analysing..563 cells\n"
     ]
    }
   ],
   "source": [
    "taskstocompare = 'Task2'\n",
    "full_graph_control, by_location_cntrl, by_animal_cntrl, numcells = na.get_adjacency_matrix(taskstocompare, basetask='Task2',\n",
    "                                   reliability_type='All', subsample=False,\n",
    "                                   SaveFolder=SaveFolder)"
   ]
  },
  {
   "cell_type": "markdown",
   "metadata": {},
   "source": [
    "## Task1_shuffle"
   ]
  },
  {
   "cell_type": "code",
   "execution_count": 33,
   "metadata": {
    "ExecuteTime": {
     "end_time": "2023-10-13T01:29:13.547394Z",
     "start_time": "2023-10-13T01:22:50.869793Z"
    }
   },
   "outputs": [
    {
     "name": "stdout",
     "output_type": "stream",
     "text": [
      "NR34\n",
      "Analysing..292 cells\n",
      "CFC17\n",
      "Analysing..272 cells\n",
      "NR32\n",
      "Analysing..183 cells\n",
      "CFC16\n",
      "Analysing..476 cells\n",
      "CFC18\n",
      "Analysing..499 cells\n"
     ]
    }
   ],
   "source": [
    "taskstocompare = 'Task1'\n",
    "full_graph_shuffle, by_location_shuffle, by_animal_shuffle, numcells = na.get_adjacency_matrix(taskstocompare, basetask='Task1',\n",
    "                                   reliability_type='All', subsample=False, shuffle_flag=True,\n",
    "                                   SaveFolder=SaveFolder)"
   ]
  },
  {
   "cell_type": "markdown",
   "metadata": {},
   "source": [
    "## Plot"
   ]
  },
  {
   "cell_type": "code",
   "execution_count": 31,
   "metadata": {
    "ExecuteTime": {
     "end_time": "2023-10-13T01:13:45.893671Z",
     "start_time": "2023-10-13T01:13:42.959246Z"
    },
    "scrolled": false
   },
   "outputs": [
    {
     "name": "stdout",
     "output_type": "stream",
     "text": [
      "Norm_Degree\n",
      "Location 1: t-statistic 9.294, p-values 0.000\n",
      "Location 2: t-statistic 0.512, p-values 0.609\n",
      "Location 3: t-statistic 3.480, p-values 0.001\n",
      "Location 4: t-statistic 3.539, p-values 0.000\n",
      "Location 5: t-statistic 0.722, p-values 0.471\n",
      "Clustering\n",
      "Location 1: t-statistic 16.296, p-values 0.000\n",
      "Location 2: t-statistic 12.081, p-values 0.000\n",
      "Location 3: t-statistic 14.799, p-values 0.000\n",
      "Location 4: t-statistic 16.712, p-values 0.000\n",
      "Location 5: t-statistic 17.707, p-values 0.000\n"
     ]
    },
    {
     "data": {
      "image/png": "[encoded data removed]",
      "text/plain": [
       "<Figure size 432x144 with 2 Axes>"
      ]
     },
     "metadata": {
      "needs_background": "light"
     },
     "output_type": "display_data"
    }
   ],
   "source": [
    "fs, ax = plt.subplots(1, 2)\n",
    "for n, c in enumerate(['Degree', 'Clustering']):\n",
    "    na.plot_factors_bylocation_fullgraph(ax[n], full_graph_rew, full_graph_norew, c)\n",
    "    na.stats_bylocation_fullgraph(full_graph_rew, full_graph_norew, c)\n",
    "    if n==0:\n",
    "        controlline = np.mean(by_location_cntrl[c]['mean']/by_location_cntrl[c]['count'])\n",
    "        shuffleline = np.mean(by_location_shuffle[c]['mean']/by_location_shuffle[c]['count'])\n",
    "    else:\n",
    "        controlline = np.mean(by_location_cntrl[c]['mean'])\n",
    "        shuffleline = np.mean(by_location_shuffle[c]['mean'])\n",
    "    ax[n].axhline(controlline)\n",
    "    ax[n].axhline(shuffleline)\n",
    "\n",
    "sns.despine(fs)\n",
    "fs.set_size_inches((6, 2))\n",
    "# fs.savefig(os.path.join(SaveFigureFolder, 'Deg_CC_bylocation_rewvsnorew.pdf'), bbox_inches='tight')"
   ]
  },
  {
   "cell_type": "code",
   "execution_count": 36,
   "metadata": {
    "ExecuteTime": {
     "end_time": "2023-10-13T15:41:01.133976Z",
     "start_time": "2023-10-13T15:40:56.303138Z"
    }
   },
   "outputs": [
    {
     "name": "stdout",
     "output_type": "stream",
     "text": [
      "Norm_Degree\n",
      "Location 1: t-statistic 38.597, p-values 0.000\n",
      "Location 2: t-statistic 42.459, p-values 0.000\n",
      "Location 3: t-statistic 34.275, p-values 0.000\n",
      "Location 4: t-statistic 35.359, p-values 0.000\n",
      "Location 5: t-statistic 38.667, p-values 0.000\n",
      "Clustering\n",
      "Location 1: t-statistic 69.789, p-values 0.000\n",
      "Location 2: t-statistic 81.005, p-values 0.000\n",
      "Location 3: t-statistic 76.307, p-values 0.000\n",
      "Location 4: t-statistic 82.274, p-values 0.000\n",
      "Location 5: t-statistic 90.534, p-values 0.000\n"
     ]
    },
    {
     "data": {
      "image/png": "[encoded data removed]",
      "text/plain": [
       "<Figure size 432x144 with 2 Axes>"
      ]
     },
     "metadata": {
      "needs_background": "light"
     },
     "output_type": "display_data"
    }
   ],
   "source": [
    "fs, ax = plt.subplots(1, 2)\n",
    "for n, c in enumerate(['Degree', 'Clustering']):\n",
    "    na.plot_factors_bylocation_fullgraph(ax[n], full_graph_control, full_graph_shuffle, c)\n",
    "    na.stats_bylocation_fullgraph(full_graph_control, full_graph_shuffle, c)\n",
    "sns.despine(fs)\n",
    "fs.set_size_inches((6, 2))\n",
    "fs.savefig(os.path.join(SaveFigureFolder, 'Deg_CC_bylocation_shuffle.pdf'), bbox_inches='tight')"
   ]
  },
  {
   "cell_type": "markdown",
   "metadata": {},
   "source": [
    "## Older plots"
   ]
  },
  {
   "cell_type": "code",
   "execution_count": null,
   "metadata": {
    "ExecuteTime": {
     "end_time": "2023-10-09T00:19:55.264073Z",
     "start_time": "2023-10-09T00:19:54.740645Z"
    }
   },
   "outputs": [],
   "source": [
    "fs, ax = plt.subplots(1, 2)\n",
    "\n",
    "for n, c in enumerate(['Degree', 'Clustering']):\n",
    "    na.plot_factors_by_animal(ax[n], by_animal_rew, by_animal_norew, column_name=c)\n",
    "    if n==0:\n",
    "        controlline = np.mean(by_animal_cntrl[c]['mean']/by_animal_cntrl[c]['count'])\n",
    "        shuffleline = np.mean(by_animal_shuffle[c]['mean']/by_animal_shuffle[c]['count'])\n",
    "    else:\n",
    "        controlline = np.mean(by_animal_cntrl[c]['mean'])\n",
    "        shuffleline = np.mean(by_animal_shuffle[c]['mean'])\n",
    "    ax[n].axhline(controlline)\n",
    "    ax[n].axhline(shuffleline)\n",
    "    \n",
    "sns.despine(fs)\n",
    "fs.set_size_inches((3, 2))\n",
    "# fs.savefig(os.path.join(SaveFigureFolder, 'Deg_CC_byanimal_rewvsnorew.pdf'), bbox_inches='tight')"
   ]
  },
  {
   "cell_type": "code",
   "execution_count": null,
   "metadata": {
    "ExecuteTime": {
     "end_time": "2023-09-26T17:59:16.962020Z",
     "start_time": "2023-09-26T17:59:15.361476Z"
    }
   },
   "outputs": [],
   "source": [
    "fs, ax = plt.subplots(1, 2)\n",
    "na.plot_factors_bylocation(ax[0], by_location_cntrl, by_location_shuffle, column_name='Degree')\n",
    "na.plot_factors_bylocation(ax[1], by_location_cntrl, by_location_shuffle, column_name='Clustering')\n",
    "sns.despine(fs)\n",
    "# ax[0].set_ylim((0.07, 0.45))\n",
    "# ax[1].set_ylim((0.1, 0.4))\n",
    "fs.set_size_inches((3, 2))\n",
    "# fs.savefig(os.path.join(SaveFigureFolder, 'Deg_CC_bylocation_shuffle.pdf'), bbox_inches='tight')"
   ]
  },
  {
   "cell_type": "code",
   "execution_count": null,
   "metadata": {
    "ExecuteTime": {
     "end_time": "2023-09-26T17:59:17.960521Z",
     "start_time": "2023-09-26T17:59:16.967194Z"
    }
   },
   "outputs": [],
   "source": [
    "fs, ax = plt.subplots(1, 2)\n",
    "na.plot_factors_by_animal(ax[0], by_animal_cntrl, by_animal_shuffle, column_name='Degree')\n",
    "na.plot_factors_by_animal(ax[1], by_animal_cntrl, by_animal_shuffle, column_name='Clustering')\n",
    "sns.despine(fs)\n",
    "fs.set_size_inches((3, 2))\n",
    "fs.savefig(os.path.join(SaveFigureFolder, 'Deg_CC_byanimal_shuffle.pdf'), bbox_inches='tight')"
   ]
  },
  {
   "cell_type": "code",
   "execution_count": null,
   "metadata": {},
   "outputs": [],
   "source": []
  }
 ],
 "metadata": {
  "kernelspec": {
   "display_name": "Python 3",
   "language": "python",
   "name": "python3"
  },
  "language_info": {
   "codemirror_mode": {
    "name": "ipython",
    "version": 3
   },
   "file_extension": ".py",
   "mimetype": "text/x-python",
   "name": "python",
   "nbconvert_exporter": "python",
   "pygments_lexer": "ipython3",
   "version": "3.8.5"
  },
  "toc": {
   "base_numbering": 1,
   "nav_menu": {},
   "number_sections": true,
   "sideBar": true,
   "skip_h1_title": false,
   "title_cell": "Table of Contents",
   "title_sidebar": "Contents",
   "toc_cell": false,
   "toc_position": {},
   "toc_section_display": true,
   "toc_window_display": false
  }
 },
 "nbformat": 4,
 "nbformat_minor": 4
}
