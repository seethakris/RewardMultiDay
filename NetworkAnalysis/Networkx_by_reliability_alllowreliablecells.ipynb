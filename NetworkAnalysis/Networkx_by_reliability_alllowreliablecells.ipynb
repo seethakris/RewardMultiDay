{
 "cells": [
  {
   "cell_type": "code",
   "execution_count": 1,
   "metadata": {
    "ExecuteTime": {
     "end_time": "2023-10-17T18:14:04.620538Z",
     "start_time": "2023-10-17T18:14:00.619264Z"
    }
   },
   "outputs": [],
   "source": [
    "import os\n",
    "import scipy.io\n",
    "import matplotlib.pyplot as plt\n",
    "import numpy as np\n",
    "import seaborn as sns\n",
    "sns.set_context('paper', font_scale=1.1)\n",
    "import pandas as pd\n",
    "import warnings\n",
    "import sys\n",
    "import scipy.stats\n",
    "\n",
    "warnings.filterwarnings('ignore')\n",
    "%matplotlib inline\n",
    "%load_ext autoreload\n",
    "%autoreload 2"
   ]
  },
  {
   "cell_type": "code",
   "execution_count": 4,
   "metadata": {
    "ExecuteTime": {
     "end_time": "2023-10-17T18:14:29.975358Z",
     "start_time": "2023-10-17T18:14:29.820701Z"
    }
   },
   "outputs": [],
   "source": [
    "from create_data_byreliability import GetData as gd"
   ]
  },
  {
   "cell_type": "code",
   "execution_count": 13,
   "metadata": {
    "ExecuteTime": {
     "end_time": "2023-10-17T18:34:03.155413Z",
     "start_time": "2023-10-17T18:34:03.085292Z"
    }
   },
   "outputs": [],
   "source": [
    "DirectoryName = '/Users/seetha/Box Sync/MultiDayData/Data/'\n",
    "CombinedFolderName = '/Users/seetha/Box Sync/MultiDayData/PlaceCellResultsAll/'\n",
    "SaveFolder = '/Users/seetha/Box Sync/MultiDayData/NetworkAnalysis/'\n",
    "SaveFigureFolder = '/Users/seetha/Box Sync/MultiDayData/MultiDayPaper/Figures/FigurepanelsPDF/NewNetworkFigs/'"
   ]
  },
  {
   "cell_type": "markdown",
   "metadata": {},
   "source": [
    "## Task1_Task2"
   ]
  },
  {
   "cell_type": "code",
   "execution_count": 5,
   "metadata": {
    "ExecuteTime": {
     "end_time": "2023-10-17T18:14:31.506893Z",
     "start_time": "2023-10-17T18:14:31.153470Z"
    }
   },
   "outputs": [],
   "source": [
    "na = gd(DirectoryName, CombinedFolderName)"
   ]
  },
  {
   "cell_type": "code",
   "execution_count": 6,
   "metadata": {
    "ExecuteTime": {
     "end_time": "2023-10-17T18:15:23.600409Z",
     "start_time": "2023-10-17T18:14:33.912670Z"
    },
    "scrolled": true
   },
   "outputs": [
    {
     "name": "stdout",
     "output_type": "stream",
     "text": [
      "NR34\n",
      "Analysing..99 cells\n",
      "CFC17\n",
      "Analysing..145 cells\n",
      "NR32\n",
      "Analysing..67 cells\n",
      "CFC16\n",
      "Analysing..51 cells\n",
      "CFC18\n",
      "Analysing..171 cells\n"
     ]
    }
   ],
   "source": [
    "taskstocompare = 'Task2'\n",
    "full_graph, by_location_highrel, by_animal_highrel, temp = na.get_adjacency_matrix(taskstocompare, basetask='Task1',\n",
    "                                   reliability_type='High', subsample=False,\n",
    "                                   SaveFolder=os.path.join(SaveFolder, 'Highreliability'))\n"
   ]
  },
  {
   "cell_type": "code",
   "execution_count": 7,
   "metadata": {
    "ExecuteTime": {
     "end_time": "2023-10-17T18:18:52.145540Z",
     "start_time": "2023-10-17T18:15:23.604635Z"
    },
    "scrolled": true
   },
   "outputs": [
    {
     "name": "stdout",
     "output_type": "stream",
     "text": [
      "NR34\n",
      "Analysing..193 cells\n",
      "CFC17\n",
      "Analysing..127 cells\n",
      "NR32\n",
      "Analysing..116 cells\n",
      "CFC16\n",
      "Analysing..425 cells\n",
      "CFC18\n",
      "Analysing..328 cells\n"
     ]
    }
   ],
   "source": [
    "taskstocompare = 'Task2'\n",
    "full_graph_lowrel, by_location_lowrel, by_animal_lowrel, temp = na.get_adjacency_matrix(taskstocompare, basetask='Task1',\n",
    "                                   reliability_type='Low', subsample=False,\n",
    "                                   SaveFolder=os.path.join(SaveFolder, 'Lowreliability'))"
   ]
  },
  {
   "cell_type": "code",
   "execution_count": null,
   "metadata": {
    "ExecuteTime": {
     "end_time": "2023-08-24T16:51:23.547686Z",
     "start_time": "2023-08-24T16:51:22.816244Z"
    },
    "scrolled": true
   },
   "outputs": [],
   "source": [
    "fs, ax = plt.subplots(1, 2)\n",
    "na.plot_factors_bylocation(ax[0], by_location_highrel, by_location_lowrel, column_name='Degree')\n",
    "na.plot_factors_bylocation(ax[1], by_location_highrel, by_location_lowrel, column_name='Clustering')\n",
    "ax[0].set_ylim((0.07, 0.3))\n",
    "ax[1].set_ylim((0.1, 0.4))\n",
    "sns.despine(fs)\n",
    "fs.set_size_inches((3, 2))\n",
    "fs.savefig(os.path.join(SaveFigureFolder, 'Deg_CC_bytrack_alllowrelcells_Task1.pdf'), bbox_inches='tight')"
   ]
  },
  {
   "cell_type": "code",
   "execution_count": null,
   "metadata": {
    "ExecuteTime": {
     "end_time": "2023-08-24T16:51:23.673420Z",
     "start_time": "2023-08-24T16:51:23.572817Z"
    }
   },
   "outputs": [],
   "source": [
    "by_location_highrel"
   ]
  },
  {
   "cell_type": "code",
   "execution_count": null,
   "metadata": {
    "ExecuteTime": {
     "end_time": "2023-08-24T16:51:24.951064Z",
     "start_time": "2023-08-24T16:51:23.695430Z"
    }
   },
   "outputs": [],
   "source": [
    "fs, ax = plt.subplots(1, 2)\n",
    "na.plot_factors_by_animal(ax[0], by_animal_highrel, by_animal_lowrel, column_name='Degree')\n",
    "na.plot_factors_by_animal(ax[1], by_animal_highrel, by_animal_lowrel, column_name='Clustering')\n",
    "sns.despine(fs)\n",
    "ax[0].set_ylim((0, 0.3))\n",
    "ax[1].set_ylim((0, 0.4))\n",
    "fs.set_size_inches((3, 2))\n",
    "fs.savefig(os.path.join(SaveFigureFolder, 'Deg_CC_byanimal_alllowrelcells_Task1.pdf'), bbox_inches='tight')"
   ]
  },
  {
   "cell_type": "code",
   "execution_count": 14,
   "metadata": {
    "ExecuteTime": {
     "end_time": "2023-10-17T18:34:45.768653Z",
     "start_time": "2023-10-17T18:34:41.929772Z"
    }
   },
   "outputs": [
    {
     "name": "stdout",
     "output_type": "stream",
     "text": [
      "Norm_Degree\n",
      "Location 1: t-statistic 11.000, p-values 0.000\n",
      "Location 2: t-statistic 7.563, p-values 0.000\n",
      "Location 3: t-statistic 5.219, p-values 0.000\n",
      "Location 4: t-statistic 6.933, p-values 0.000\n",
      "Location 5: t-statistic 10.467, p-values 0.000\n",
      "Clustering\n",
      "Location 1: t-statistic 16.262, p-values 0.000\n",
      "Location 2: t-statistic 19.292, p-values 0.000\n",
      "Location 3: t-statistic 18.643, p-values 0.000\n",
      "Location 4: t-statistic 18.596, p-values 0.000\n",
      "Location 5: t-statistic 21.575, p-values 0.000\n"
     ]
    },
    {
     "data": {
      "image/png": "[encoded data removed]",
      "text/plain": [
       "<Figure size 432x144 with 2 Axes>"
      ]
     },
     "metadata": {
      "needs_background": "light"
     },
     "output_type": "display_data"
    }
   ],
   "source": [
    "fs, ax = plt.subplots(1, 2)\n",
    "for n, c in enumerate(['Degree', 'Clustering']):\n",
    "    na.plot_factors_bylocation_fullgraph(ax[n], full_graph, full_graph_lowrel, c)\n",
    "    na.stats_bylocation_fullgraph(full_graph, full_graph_lowrel, c)\n",
    "\n",
    "sns.despine(fs)\n",
    "fs.set_size_inches((6, 2))\n",
    "fs.savefig(os.path.join(SaveFigureFolder, 'Deg_CC_byanimal_alllowrelcells_Task1.pdf'), bbox_inches='tight')"
   ]
  },
  {
   "cell_type": "markdown",
   "metadata": {},
   "source": [
    "## Task3_Task4"
   ]
  },
  {
   "cell_type": "code",
   "execution_count": 8,
   "metadata": {
    "ExecuteTime": {
     "end_time": "2023-10-17T18:19:04.119784Z",
     "start_time": "2023-10-17T18:18:52.150386Z"
    }
   },
   "outputs": [
    {
     "name": "stdout",
     "output_type": "stream",
     "text": [
      "NR34\n",
      "Analysing..59 cells\n",
      "CFC17\n",
      "Analysing..79 cells\n",
      "NR32\n",
      "Analysing..18 cells\n",
      "CFC16\n",
      "Analysing..12 cells\n",
      "CFC18\n",
      "Analysing..101 cells\n"
     ]
    }
   ],
   "source": [
    "taskstocompare = 'Task4'\n",
    "full_graph_highrel_task3, by_location_highrel_task3, by_animal_highrel_task3, temp = na.get_adjacency_matrix(taskstocompare, basetask='Task3',\n",
    "                                   reliability_type='High', subsample=False,\n",
    "                                   SaveFolder=os.path.join(SaveFolder, 'Highreliability'))"
   ]
  },
  {
   "cell_type": "code",
   "execution_count": 9,
   "metadata": {
    "ExecuteTime": {
     "end_time": "2023-10-17T18:30:26.831935Z",
     "start_time": "2023-10-17T18:19:04.122472Z"
    }
   },
   "outputs": [
    {
     "name": "stdout",
     "output_type": "stream",
     "text": [
      "NR34\n",
      "Analysing..522 cells\n",
      "CFC17\n",
      "Analysing..207 cells\n",
      "NR32\n",
      "Analysing..253 cells\n",
      "CFC16\n",
      "Analysing..511 cells\n",
      "CFC18\n",
      "Analysing..593 cells\n"
     ]
    }
   ],
   "source": [
    "taskstocompare = 'Task4'\n",
    "full_graph_lowrel_task3, by_location_lowrel_task3, by_animal_lowrel_task3, temp = na.get_adjacency_matrix(taskstocompare, basetask='Task3',\n",
    "                                   reliability_type='Low', subsample=False,\n",
    "                                   SaveFolder=os.path.join(SaveFolder, 'Lowreliability'))"
   ]
  },
  {
   "cell_type": "code",
   "execution_count": 15,
   "metadata": {
    "ExecuteTime": {
     "end_time": "2023-10-17T18:34:52.206595Z",
     "start_time": "2023-10-17T18:34:47.882582Z"
    }
   },
   "outputs": [
    {
     "name": "stdout",
     "output_type": "stream",
     "text": [
      "Norm_Degree\n",
      "Location 1: t-statistic 26.651, p-values 0.000\n",
      "Location 2: t-statistic 9.145, p-values 0.000\n",
      "Location 3: t-statistic 9.998, p-values 0.000\n",
      "Location 4: t-statistic 7.886, p-values 0.000\n",
      "Location 5: t-statistic 13.461, p-values 0.000\n",
      "Clustering\n",
      "Location 1: t-statistic 11.356, p-values 0.000\n",
      "Location 2: t-statistic 25.465, p-values 0.000\n",
      "Location 3: t-statistic 25.664, p-values 0.000\n",
      "Location 4: t-statistic 23.673, p-values 0.000\n",
      "Location 5: t-statistic 20.418, p-values 0.000\n"
     ]
    },
    {
     "data": {
      "image/png": "[encoded data removed]",
      "text/plain": [
       "<Figure size 432x144 with 2 Axes>"
      ]
     },
     "metadata": {
      "needs_background": "light"
     },
     "output_type": "display_data"
    }
   ],
   "source": [
    "fs, ax = plt.subplots(1, 2)\n",
    "for n, c in enumerate(['Degree', 'Clustering']):\n",
    "    na.plot_factors_bylocation_fullgraph(ax[n], full_graph_highrel_task3, full_graph_lowrel_task3, c)\n",
    "    na.stats_bylocation_fullgraph(full_graph_highrel_task3, full_graph_lowrel_task3, c)\n",
    "\n",
    "sns.despine(fs)\n",
    "fs.set_size_inches((6, 2))\n",
    "fs.savefig(os.path.join(SaveFigureFolder, 'Deg_CC_byanimal_alllowrelcells_Task3.pdf'), bbox_inches='tight')"
   ]
  },
  {
   "cell_type": "code",
   "execution_count": null,
   "metadata": {
    "ExecuteTime": {
     "end_time": "2023-08-24T17:31:38.373270Z",
     "start_time": "2023-08-24T17:31:37.647037Z"
    }
   },
   "outputs": [],
   "source": [
    "fs, ax = plt.subplots(1, 2)\n",
    "na.plot_factors_bylocation(ax[0], by_location_highrel_task3, by_location_lowrel_task3, column_name='Degree')\n",
    "na.plot_factors_bylocation(ax[1], by_location_highrel_task3, by_location_lowrel_task3, column_name='Clustering')\n",
    "sns.despine(fs)\n",
    "ax[0].set_ylim((0.07, 0.45))\n",
    "ax[1].set_ylim((0.1, 0.4))\n",
    "fs.set_size_inches((3, 2))\n",
    "fs.savefig(os.path.join(SaveFigureFolder, 'Deg_CC_bytrack_alllowrelcells_Task3.pdf'), bbox_inches='tight')"
   ]
  },
  {
   "cell_type": "code",
   "execution_count": null,
   "metadata": {
    "ExecuteTime": {
     "end_time": "2023-08-24T17:31:39.319550Z",
     "start_time": "2023-08-24T17:31:38.377461Z"
    }
   },
   "outputs": [],
   "source": [
    "fs, ax = plt.subplots(1, 2)\n",
    "na.plot_factors_by_animal(ax[0], by_animal_highrel_task3, by_animal_lowrel_task3, column_name='Degree')\n",
    "na.plot_factors_by_animal(ax[1], by_animal_highrel_task3, by_animal_lowrel_task3, column_name='Clustering')\n",
    "sns.despine(fs)\n",
    "ax[0].set_ylim((0, 0.35))\n",
    "ax[1].set_ylim((0, 0.45))\n",
    "fs.set_size_inches((3, 2))\n",
    "fs.savefig(os.path.join(SaveFigureFolder, 'Deg_CC_byanimal_alllowrelcells_Task3.pdf'), bbox_inches='tight')"
   ]
  },
  {
   "cell_type": "code",
   "execution_count": null,
   "metadata": {},
   "outputs": [],
   "source": []
  }
 ],
 "metadata": {
  "kernelspec": {
   "display_name": "Python 3",
   "language": "python",
   "name": "python3"
  },
  "language_info": {
   "codemirror_mode": {
    "name": "ipython",
    "version": 3
   },
   "file_extension": ".py",
   "mimetype": "text/x-python",
   "name": "python",
   "nbconvert_exporter": "python",
   "pygments_lexer": "ipython3",
   "version": "3.8.5"
  },
  "toc": {
   "base_numbering": 1,
   "nav_menu": {},
   "number_sections": true,
   "sideBar": true,
   "skip_h1_title": false,
   "title_cell": "Table of Contents",
   "title_sidebar": "Contents",
   "toc_cell": false,
   "toc_position": {},
   "toc_section_display": true,
   "toc_window_display": false
  }
 },
 "nbformat": 4,
 "nbformat_minor": 4
}
