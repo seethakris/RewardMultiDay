{
 "cells": [
  {
   "cell_type": "code",
   "execution_count": 1,
   "metadata": {
    "ExecuteTime": {
     "end_time": "2023-08-24T16:18:28.919654Z",
     "start_time": "2023-08-24T16:18:25.875275Z"
    }
   },
   "outputs": [],
   "source": [
    "import os\n",
    "import scipy.io\n",
    "import matplotlib.pyplot as plt\n",
    "import numpy as np\n",
    "import seaborn as sns\n",
    "sns.set_context('paper', font_scale=1.1)\n",
    "import pandas as pd\n",
    "import warnings\n",
    "import sys\n",
    "\n",
    "warnings.filterwarnings('ignore')\n",
    "%matplotlib inline\n",
    "%load_ext autoreload\n",
    "%autoreload 2"
   ]
  },
  {
   "cell_type": "code",
   "execution_count": 2,
   "metadata": {
    "ExecuteTime": {
     "end_time": "2023-08-24T16:18:29.565093Z",
     "start_time": "2023-08-24T16:18:28.926409Z"
    }
   },
   "outputs": [],
   "source": [
    "from create_data_byreliability import GetData as gd"
   ]
  },
  {
   "cell_type": "code",
   "execution_count": 1,
   "metadata": {
    "ExecuteTime": {
     "end_time": "2023-10-17T18:33:57.447569Z",
     "start_time": "2023-10-17T18:33:57.434980Z"
    }
   },
   "outputs": [],
   "source": [
    "DirectoryName = '/Users/seetha/Box Sync/MultiDayData/Data/'\n",
    "CombinedFolderName = '/Users/seetha/Box Sync/MultiDayData/PlaceCellResultsAll/'\n",
    "SaveFolder = '/Users/seetha/Box Sync/MultiDayData/NetworkAnalysis/'\n",
    "SaveFigureFolder = '/Users/seetha/Box Sync/MultiDayData/MultiDayPaper/Figures/FigurepanelsPDF/NewNetworkFigs/'"
   ]
  },
  {
   "cell_type": "code",
   "execution_count": 61,
   "metadata": {
    "ExecuteTime": {
     "end_time": "2023-08-24T17:33:01.004328Z",
     "start_time": "2023-08-24T17:33:00.943593Z"
    }
   },
   "outputs": [],
   "source": [
    "def plot_graph_factors_bytrack_iterated_csv(ax, filename, column_name, fucked=False):\n",
    "    \n",
    "    df_highrel = pd.read_csv(filename)\n",
    "    df_highrel = df_highrel.rename(columns={df_highrel.columns[0]:'BinnedLocation'})\n",
    "    df_highrel = df_highrel.drop([0, 1])\n",
    "    df_highrel = df_highrel.dropna()\n",
    "    \n",
    "    mean_by_loc = pd.DataFrame()\n",
    "    mean_by_loc['Location'] = df_highrel['BinnedLocation'].astype(int)\n",
    "    if column_name == 'Degree':\n",
    "        if fucked:\n",
    "            norm_mean = df_highrel['Degree.1'].astype(float)/df_highrel['Degree'].astype(int)\n",
    "        else:\n",
    "            norm_mean = df_highrel['Degree'].astype(float)/df_highrel['Degree.2'].astype(int)\n",
    "        mean_by_loc['Mean'] = norm_mean\n",
    "    else:\n",
    "        if fucked:\n",
    "            norm_mean = df_highrel['%s.1'%column_name].astype(float)\n",
    "        else:\n",
    "            norm_mean = df_highrel[column_name].astype(float)\n",
    "        mean_by_loc['Mean'] = norm_mean\n",
    "    \n",
    "    g  = mean_by_loc.groupby(by='Location').agg(['mean', 'sem']) \n",
    "    ax.plot(np.arange(len(g)), g['Mean']['mean'])\n",
    "    ax.fill_between(np.arange(len(g)), g['Mean']['mean']-g['Mean']['sem'], \n",
    "                    g['Mean']['mean']+g['Mean']['sem'], alpha=0.5)\n",
    "    return g"
   ]
  },
  {
   "cell_type": "code",
   "execution_count": 71,
   "metadata": {
    "ExecuteTime": {
     "end_time": "2023-08-24T17:34:12.115175Z",
     "start_time": "2023-08-24T17:34:11.998020Z"
    }
   },
   "outputs": [],
   "source": [
    "def plot_graph_factors_byanimal_iterated_csv(filename1, column_name, fucked=False):\n",
    "    df_highrel = pd.read_csv(filename1)\n",
    "    df_highrel = df_highrel.rename(columns={df_highrel.columns[0]:'AnimalName'})\n",
    "    df_highrel = df_highrel.drop([0, 1])\n",
    "\n",
    "    mean_by_loc = pd.DataFrame()\n",
    "    mean_by_loc['AnimalName'] = df_highrel['AnimalName'].astype(str)\n",
    "    if column_name == 'Degree':\n",
    "        if fucked:\n",
    "            norm_mean = df_highrel['Degree.1'].astype(float)/df_highrel['Degree'].astype(int)\n",
    "        else:\n",
    "            norm_mean = df_highrel['Degree'].astype(float)/df_highrel['Degree.2'].astype(int)\n",
    "        mean_by_loc['Mean'] = norm_mean\n",
    "    else:\n",
    "        if fucked:\n",
    "            norm_mean = df_highrel['%s.1'%column_name].astype(float)\n",
    "        else:\n",
    "            norm_mean = df_highrel[column_name].astype(float)\n",
    "        mean_by_loc['Mean'] = norm_mean\n",
    "    g  = mean_by_loc.groupby(by='AnimalName').mean()\n",
    "    return g"
   ]
  },
  {
   "cell_type": "markdown",
   "metadata": {},
   "source": [
    "## Task1_Task2"
   ]
  },
  {
   "cell_type": "code",
   "execution_count": 7,
   "metadata": {
    "ExecuteTime": {
     "end_time": "2023-08-24T16:18:53.778653Z",
     "start_time": "2023-08-24T16:18:52.915085Z"
    }
   },
   "outputs": [],
   "source": [
    "na = gd(DirectoryName, CombinedFolderName)"
   ]
  },
  {
   "cell_type": "code",
   "execution_count": 9,
   "metadata": {
    "ExecuteTime": {
     "end_time": "2023-08-24T16:20:59.949961Z",
     "start_time": "2023-08-24T16:20:19.552460Z"
    },
    "scrolled": true
   },
   "outputs": [
    {
     "name": "stdout",
     "output_type": "stream",
     "text": [
      "NR34\n",
      "Analysing..99 cells\n",
      "CFC17\n",
      "Analysing..145 cells\n",
      "NR32\n",
      "Analysing..67 cells\n",
      "CFC16\n",
      "Analysing..51 cells\n",
      "CFC18\n",
      "Analysing..171 cells\n"
     ]
    }
   ],
   "source": [
    "taskstocompare = 'Task2'\n",
    "xx, by_location_highrel, by_animal_highrel, numcells = na.get_adjacency_matrix(taskstocompare, basetask='Task1',\n",
    "                                   reliability_type='High', subsample=False,\n",
    "                                   SaveFolder=os.path.join(SaveFolder, 'Highreliability'))"
   ]
  },
  {
   "cell_type": "code",
   "execution_count": 35,
   "metadata": {
    "ExecuteTime": {
     "end_time": "2023-08-24T16:27:50.155114Z",
     "start_time": "2023-08-24T16:27:50.053233Z"
    }
   },
   "outputs": [],
   "source": [
    "file1 = '/Users/seetha/Box Sync/MultiDayData/NetworkAnalysis/Lowreliability/Task1_Task2/by_location_iterated.csv'"
   ]
  },
  {
   "cell_type": "code",
   "execution_count": 36,
   "metadata": {
    "ExecuteTime": {
     "end_time": "2023-08-24T16:27:51.392781Z",
     "start_time": "2023-08-24T16:27:50.662516Z"
    }
   },
   "outputs": [
    {
     "data": {
      "image/png": "[encoded data removed]",
      "text/plain": [
       "<Figure size 216x144 with 2 Axes>"
      ]
     },
     "metadata": {
      "needs_background": "light"
     },
     "output_type": "display_data"
    }
   ],
   "source": [
    "fs, ax = plt.subplots(1, 2)\n",
    "na.plot_graph_bylocation_separate(ax[0], by_location_highrel, column_name='Degree')\n",
    "na.plot_graph_bylocation_separate(ax[1], by_location_highrel, column_name='Clustering')\n",
    "\n",
    "plot_graph_factors_bytrack_iterated_csv(ax[0], file1, column_name='Degree')\n",
    "plot_graph_factors_bytrack_iterated_csv(ax[1], file1, column_name='Clustering')\n",
    "\n",
    "ax[0].set_ylim((0.07, 0.3))\n",
    "ax[1].set_ylim((0.1, 0.4))\n",
    "sns.despine(fs)\n",
    "fs.set_size_inches((3, 2))\n",
    "fs.savefig(os.path.join(SaveFigureFolder, 'Deg_CC_bytrack_subsampledlowrelcells_Task1.pdf'), bbox_inches='tight')"
   ]
  },
  {
   "cell_type": "code",
   "execution_count": 37,
   "metadata": {
    "ExecuteTime": {
     "end_time": "2023-08-24T16:27:58.509944Z",
     "start_time": "2023-08-24T16:27:58.453089Z"
    }
   },
   "outputs": [],
   "source": [
    "file1 = '/Users/seetha/Box Sync/MultiDayData/NetworkAnalysis/Lowreliability/Task1_Task2/by_animal_iterated.csv'"
   ]
  },
  {
   "cell_type": "code",
   "execution_count": 38,
   "metadata": {
    "ExecuteTime": {
     "end_time": "2023-08-24T16:28:00.261959Z",
     "start_time": "2023-08-24T16:27:59.429348Z"
    }
   },
   "outputs": [
    {
     "name": "stdout",
     "output_type": "stream",
     "text": [
      "t=5.720, p=0.005\n",
      "t=12.657, p=0.000\n"
     ]
    },
    {
     "data": {
      "image/png": "[encoded data removed]",
      "text/plain": [
       "<Figure size 216x144 with 2 Axes>"
      ]
     },
     "metadata": {
      "needs_background": "light"
     },
     "output_type": "display_data"
    }
   ],
   "source": [
    "## By Animal\n",
    "fs, ax = plt.subplots(1, 2)\n",
    "a = plot_graph_factors_byanimal_iterated_csv(file1, column_name='Degree')\n",
    "na.plot_factors_by_animal(ax[0], by_animal_highrel, a.reset_index()['Mean'], column_name='Degree', iterated=True)\n",
    "\n",
    "a = plot_graph_factors_byanimal_iterated_csv(file1, column_name='Clustering')\n",
    "na.plot_factors_by_animal(ax[1], by_animal_highrel, a.reset_index()['Mean'], column_name='Clustering', iterated=True)\n",
    "ax[0].set_ylim((0, 0.3))\n",
    "ax[1].set_ylim((0, 0.4))\n",
    "sns.despine(fs)\n",
    "fs.set_size_inches((3, 2))\n",
    "fs.savefig(os.path.join(SaveFigureFolder, 'Deg_CC_byanimal_subsampledlowrelcells_Task1.pdf'), bbox_inches='tight')"
   ]
  },
  {
   "cell_type": "markdown",
   "metadata": {},
   "source": [
    "## Task3_Task4"
   ]
  },
  {
   "cell_type": "code",
   "execution_count": 62,
   "metadata": {
    "ExecuteTime": {
     "end_time": "2023-08-24T17:33:20.559214Z",
     "start_time": "2023-08-24T17:33:04.900036Z"
    }
   },
   "outputs": [
    {
     "name": "stdout",
     "output_type": "stream",
     "text": [
      "NR34\n",
      "Analysing..59 cells\n",
      "CFC17\n",
      "Analysing..79 cells\n",
      "NR32\n",
      "Analysing..18 cells\n",
      "CFC16\n",
      "Analysing..12 cells\n",
      "CFC18\n",
      "Analysing..101 cells\n"
     ]
    }
   ],
   "source": [
    "taskstocompare = 'Task4'\n",
    "xx, by_location_highrel_Task3, by_animal_highrel_Task3, numcells = na.get_adjacency_matrix(taskstocompare, basetask='Task3',\n",
    "                                   reliability_type='High', subsample=False,\n",
    "                                   SaveFolder=os.path.join(SaveFolder, 'Highreliability'))"
   ]
  },
  {
   "cell_type": "code",
   "execution_count": 78,
   "metadata": {
    "ExecuteTime": {
     "end_time": "2023-08-24T17:37:02.362376Z",
     "start_time": "2023-08-24T17:37:02.298333Z"
    }
   },
   "outputs": [],
   "source": [
    "file1 = '/Users/seetha/Box Sync/MultiDayData/NetworkAnalysis/Lowreliability/Task3_Task4/by_location_iterated.csv'"
   ]
  },
  {
   "cell_type": "code",
   "execution_count": 79,
   "metadata": {
    "ExecuteTime": {
     "end_time": "2023-08-24T17:37:03.475312Z",
     "start_time": "2023-08-24T17:37:02.576103Z"
    }
   },
   "outputs": [
    {
     "data": {
      "image/png": "[encoded data removed]",
      "text/plain": [
       "<Figure size 216x144 with 2 Axes>"
      ]
     },
     "metadata": {
      "needs_background": "light"
     },
     "output_type": "display_data"
    }
   ],
   "source": [
    "fs, ax = plt.subplots(1, 2)\n",
    "na.plot_graph_bylocation_separate(ax[0], by_location_highrel_Task3, column_name='Degree')\n",
    "na.plot_graph_bylocation_separate(ax[1], by_location_highrel_Task3, column_name='Clustering')\n",
    "\n",
    "plot_graph_factors_bytrack_iterated_csv(ax[0], file1, column_name='Degree', fucked=True)\n",
    "plot_graph_factors_bytrack_iterated_csv(ax[1], file1, column_name='Clustering', fucked=True)\n",
    "\n",
    "ax[0].set_ylim((0.1, 0.45))\n",
    "ax[1].set_ylim((0.1, 0.4))\n",
    "sns.despine(fs)\n",
    "fs.set_size_inches((3, 2))\n",
    "fs.savefig(os.path.join(SaveFigureFolder, 'Deg_CC_bytrack_subsampledlowrelcells_Task3.pdf'), bbox_inches='tight')"
   ]
  },
  {
   "cell_type": "code",
   "execution_count": 80,
   "metadata": {
    "ExecuteTime": {
     "end_time": "2023-08-24T17:37:06.735253Z",
     "start_time": "2023-08-24T17:37:06.636121Z"
    }
   },
   "outputs": [],
   "source": [
    "file1 = '/Users/seetha/Box Sync/MultiDayData/NetworkAnalysis/Lowreliability/Task3_Task4/by_animal_iterated.csv'"
   ]
  },
  {
   "cell_type": "code",
   "execution_count": 81,
   "metadata": {
    "ExecuteTime": {
     "end_time": "2023-08-24T17:37:08.214161Z",
     "start_time": "2023-08-24T17:37:07.162766Z"
    }
   },
   "outputs": [
    {
     "name": "stdout",
     "output_type": "stream",
     "text": [
      "t=3.843, p=0.018\n",
      "t=7.604, p=0.002\n"
     ]
    },
    {
     "data": {
      "image/png": "[encoded data removed]",
      "text/plain": [
       "<Figure size 216x144 with 2 Axes>"
      ]
     },
     "metadata": {
      "needs_background": "light"
     },
     "output_type": "display_data"
    }
   ],
   "source": [
    "## By Animal\n",
    "fs, ax = plt.subplots(1, 2)\n",
    "a = plot_graph_factors_byanimal_iterated_csv(file1, column_name='Degree', fucked=True)\n",
    "na.plot_factors_by_animal(ax[0], by_animal_highrel_Task3, a.reset_index()['Mean'], column_name='Degree', iterated=True)\n",
    "\n",
    "a = plot_graph_factors_byanimal_iterated_csv(file1, column_name='Clustering', fucked=True)\n",
    "na.plot_factors_by_animal(ax[1], by_animal_highrel_Task3, a.reset_index()['Mean'], column_name='Clustering', iterated=True)\n",
    "ax[0].set_ylim((0, 0.4))\n",
    "ax[1].set_ylim((0, 0.45))\n",
    "sns.despine(fs)\n",
    "fs.set_size_inches((3, 2))\n",
    "fs.savefig(os.path.join(SaveFigureFolder, 'Deg_CC_byanimal_subsampledlowrelcells_Task3.pdf'), bbox_inches='tight')"
   ]
  },
  {
   "cell_type": "code",
   "execution_count": null,
   "metadata": {},
   "outputs": [],
   "source": []
  }
 ],
 "metadata": {
  "kernelspec": {
   "display_name": "Python 3",
   "language": "python",
   "name": "python3"
  },
  "language_info": {
   "codemirror_mode": {
    "name": "ipython",
    "version": 3
   },
   "file_extension": ".py",
   "mimetype": "text/x-python",
   "name": "python",
   "nbconvert_exporter": "python",
   "pygments_lexer": "ipython3",
   "version": "3.8.5"
  },
  "toc": {
   "base_numbering": 1,
   "nav_menu": {},
   "number_sections": true,
   "sideBar": true,
   "skip_h1_title": false,
   "title_cell": "Table of Contents",
   "title_sidebar": "Contents",
   "toc_cell": false,
   "toc_position": {},
   "toc_section_display": true,
   "toc_window_display": false
  }
 },
 "nbformat": 4,
 "nbformat_minor": 4
}
