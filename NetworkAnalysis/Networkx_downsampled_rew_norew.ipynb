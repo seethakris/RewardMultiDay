{
 "cells": [
  {
   "cell_type": "code",
   "execution_count": 1,
   "metadata": {
    "ExecuteTime": {
     "end_time": "2023-09-26T18:51:16.604693Z",
     "start_time": "2023-09-26T18:51:12.776864Z"
    }
   },
   "outputs": [],
   "source": [
    "import os\n",
    "import scipy.io\n",
    "import matplotlib.pyplot as plt\n",
    "import numpy as np\n",
    "import seaborn as sns\n",
    "sns.set_context('paper', font_scale=1.1)\n",
    "import pandas as pd\n",
    "import warnings\n",
    "import sys\n",
    "\n",
    "warnings.filterwarnings('ignore')\n",
    "%matplotlib inline\n",
    "%load_ext autoreload\n",
    "%autoreload 2"
   ]
  },
  {
   "cell_type": "code",
   "execution_count": 2,
   "metadata": {
    "ExecuteTime": {
     "end_time": "2023-09-26T18:51:17.257151Z",
     "start_time": "2023-09-26T18:51:16.631143Z"
    }
   },
   "outputs": [],
   "source": [
    "from create_data_byreliability import GetData as gd"
   ]
  },
  {
   "cell_type": "code",
   "execution_count": 3,
   "metadata": {
    "ExecuteTime": {
     "end_time": "2023-09-26T18:51:17.347632Z",
     "start_time": "2023-09-26T18:51:17.267368Z"
    }
   },
   "outputs": [],
   "source": [
    "DirectoryName = '/Users/seetha/Box Sync/MultiDayData/Data/'\n",
    "CombinedFolderName = '/Users/seetha/Box Sync/MultiDayData/PlaceCellResultsAll/'\n",
    "SaveFolder = '/Users/seetha/Box Sync/MultiDayData/NetworkAnalysis/Allcells/'\n",
    "SaveFigureFolder = '/Users/seetha/Box Sync/MultiDayData/MultiDayPaper/Figures/FigurepanelsPDF/Networkx/'"
   ]
  },
  {
   "cell_type": "code",
   "execution_count": 4,
   "metadata": {
    "ExecuteTime": {
     "end_time": "2023-09-26T18:51:17.438669Z",
     "start_time": "2023-09-26T18:51:17.355998Z"
    }
   },
   "outputs": [],
   "source": [
    "def plot_graph_factors_bytrack_iterated_csv(ax, filename, column_name):\n",
    "    \n",
    "    df_highrel = pd.read_csv(filename)\n",
    "    df_highrel = df_highrel.rename(columns={df_highrel.columns[0]:'BinnedLocation'})\n",
    "    df_highrel = df_highrel.drop([0, 1])\n",
    "    \n",
    "    mean_by_loc = pd.DataFrame()\n",
    "    mean_by_loc['Location'] = df_highrel['BinnedLocation'].astype(int)\n",
    "    if column_name == 'Degree':\n",
    "        norm_mean = df_highrel['Degree'].astype(float)/df_highrel['Degree.2'].astype(int)\n",
    "        mean_by_loc['Mean'] = norm_mean\n",
    "    else:\n",
    "        norm_mean = df_highrel[column_name].astype(float)\n",
    "        mean_by_loc['Mean'] = norm_mean\n",
    "    \n",
    "    g  = mean_by_loc.groupby(by='Location').agg(['mean', 'sem'])\n",
    "    ax.plot(np.arange(len(g)), g['Mean']['mean'])\n",
    "    ax.fill_between(np.arange(len(g)), g['Mean']['mean']-g['Mean']['sem'], \n",
    "                    g['Mean']['mean']+g['Mean']['sem'], alpha=0.5)\n",
    "    return g"
   ]
  },
  {
   "cell_type": "code",
   "execution_count": 14,
   "metadata": {
    "ExecuteTime": {
     "end_time": "2023-09-26T18:52:27.553408Z",
     "start_time": "2023-09-26T18:52:27.447317Z"
    }
   },
   "outputs": [],
   "source": [
    "def plot_graph_factors_byanimal_iterated_csv(ax, filename1, filename2, column_name):\n",
    "    both_data = []\n",
    "    for n, i in enumerate([filename1, filename2]):\n",
    "        df_highrel = pd.read_csv(i)\n",
    "        df_highrel = df_highrel.rename(columns={df_highrel.columns[0]:'AnimalName'})\n",
    "        df_highrel = df_highrel.drop([0, 1])\n",
    "\n",
    "        mean_by_loc = pd.DataFrame()\n",
    "        mean_by_loc['AnimalName'] = df_highrel['AnimalName'].astype(str)\n",
    "        if column_name == 'Degree':\n",
    "            norm_mean = df_highrel['Degree'].astype(float)/df_highrel['Degree.2'].astype(int)                                                                \n",
    "            mean_by_loc['Mean'] = norm_mean\n",
    "        else:\n",
    "            norm_mean = df_highrel[column_name].astype(float)\n",
    "            mean_by_loc['Mean'] = norm_mean\n",
    "            \n",
    "        g  = mean_by_loc.groupby(by='AnimalName').mean()\n",
    "        ci = scipy.stats.norm.interval(alpha=0.99, loc=np.mean(g['Mean']), scale=scipy.stats.sem(g['Mean']))\n",
    "        ci = np.mean(g['Mean'])-ci[0]\n",
    "        \n",
    "#         print(g)\n",
    "        ax.bar(n, np.mean(g['Mean']), yerr=ci)\n",
    "        both_data.append(g['Mean'].to_numpy())\n",
    "        \n",
    "    for i1, i2 in zip(both_data[0], both_data[1]):\n",
    "        ax.plot([0, 1], [i1, i2], 'ko-')\n",
    "\n",
    "    t1, p = scipy.stats.ttest_rel(both_data[0], both_data[1]);\n",
    "    print('t=%0.3f, p=%0.3f' %(t1, p))"
   ]
  },
  {
   "cell_type": "markdown",
   "metadata": {},
   "source": [
    "## Location"
   ]
  },
  {
   "cell_type": "code",
   "execution_count": 15,
   "metadata": {
    "ExecuteTime": {
     "end_time": "2023-09-26T18:52:28.163330Z",
     "start_time": "2023-09-26T18:52:27.842622Z"
    }
   },
   "outputs": [],
   "source": [
    "na = gd(DirectoryName, CombinedFolderName)"
   ]
  },
  {
   "cell_type": "code",
   "execution_count": 16,
   "metadata": {
    "ExecuteTime": {
     "end_time": "2023-09-26T18:52:29.168672Z",
     "start_time": "2023-09-26T18:52:28.171396Z"
    }
   },
   "outputs": [
    {
     "data": {
      "image/png": "[encoded data removed]",
      "text/plain": [
       "<Figure size 216x144 with 2 Axes>"
      ]
     },
     "metadata": {
      "needs_background": "light"
     },
     "output_type": "display_data"
    }
   ],
   "source": [
    "file1 = '/Users/seetha/Box Sync/MultiDayData/NetworkAnalysis/Allcells_subsampled/Task1_Task2/by_location_iterated.csv'\n",
    "file2 = '/Users/seetha/Box Sync/MultiDayData/NetworkAnalysis/Allcells_subsampled/Task3_Task4/by_location_iterated.csv'\n",
    "\n",
    "fs, ax = plt.subplots(1, 2)\n",
    "plot_graph_factors_bytrack_iterated_csv(ax[0], file1, column_name='Degree')\n",
    "plot_graph_factors_bytrack_iterated_csv(ax[0], file2, column_name='Degree')\n",
    "\n",
    "plot_graph_factors_bytrack_iterated_csv(ax[1], file1, column_name='Clustering')\n",
    "plot_graph_factors_bytrack_iterated_csv(ax[1], file2, column_name='Clustering')\n",
    "\n",
    "# ax[0].set_ylim((0.07, 0.25))\n",
    "# ax[1].set_ylim((0.1, 0.4))\n",
    "sns.despine(fs)\n",
    "fs.set_size_inches((3, 2))\n",
    "fs.savefig(os.path.join(SaveFigureFolder, 'Deg_CC_bytrack_subsampledbylocation_Task1.pdf'), bbox_inches='tight')"
   ]
  },
  {
   "cell_type": "code",
   "execution_count": 17,
   "metadata": {
    "ExecuteTime": {
     "end_time": "2023-09-26T18:52:29.826436Z",
     "start_time": "2023-09-26T18:52:29.175144Z"
    }
   },
   "outputs": [
    {
     "name": "stdout",
     "output_type": "stream",
     "text": [
      "t=0.160, p=0.880\n",
      "t=7.909, p=0.001\n"
     ]
    },
    {
     "data": {
      "image/png": "[encoded data removed]",
      "text/plain": [
       "<Figure size 216x144 with 2 Axes>"
      ]
     },
     "metadata": {
      "needs_background": "light"
     },
     "output_type": "display_data"
    }
   ],
   "source": [
    "file1 = '/Users/seetha/Box Sync/MultiDayData/NetworkAnalysis/Allcells_subsampled/Task1_Task2/by_animal_iterated.csv'\n",
    "file2 = '/Users/seetha/Box Sync/MultiDayData/NetworkAnalysis/Allcells_subsampled/Task3_Task4/by_animal_iterated.csv'\n",
    "\n",
    "fs, ax = plt.subplots(1, 2)\n",
    "plot_graph_factors_byanimal_iterated_csv(ax[0], file1, file2, column_name='Degree')\n",
    "plot_graph_factors_byanimal_iterated_csv(ax[1], file1, file2, column_name='Clustering')\n",
    "\n",
    "# ax[0].set_ylim((0, 0.25))\n",
    "# ax[1].set_ylim((0, 0.4))\n",
    "sns.despine(fs)\n",
    "fs.set_size_inches((3, 2))\n",
    "# fs.savefig(os.path.join(SaveFigureFolder, 'Deg_CC_bytrack_subsampledbyloction_Task1.pdf'), bbox_inches='tight')"
   ]
  },
  {
   "cell_type": "code",
   "execution_count": null,
   "metadata": {},
   "outputs": [],
   "source": []
  }
 ],
 "metadata": {
  "kernelspec": {
   "display_name": "Python 3",
   "language": "python",
   "name": "python3"
  },
  "language_info": {
   "codemirror_mode": {
    "name": "ipython",
    "version": 3
   },
   "file_extension": ".py",
   "mimetype": "text/x-python",
   "name": "python",
   "nbconvert_exporter": "python",
   "pygments_lexer": "ipython3",
   "version": "3.8.5"
  },
  "toc": {
   "base_numbering": 1,
   "nav_menu": {},
   "number_sections": true,
   "sideBar": true,
   "skip_h1_title": false,
   "title_cell": "Table of Contents",
   "title_sidebar": "Contents",
   "toc_cell": false,
   "toc_position": {},
   "toc_section_display": true,
   "toc_window_display": false
  }
 },
 "nbformat": 4,
 "nbformat_minor": 4
}
