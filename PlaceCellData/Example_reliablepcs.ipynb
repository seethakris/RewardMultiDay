{
 "cells": [
  {
   "cell_type": "code",
   "execution_count": 2,
   "metadata": {
    "ExecuteTime": {
     "end_time": "2023-05-25T15:49:25.764997Z",
     "start_time": "2023-05-25T15:49:21.599284Z"
    }
   },
   "outputs": [],
   "source": [
    "import os\n",
    "import scipy.io\n",
    "import matplotlib.pyplot as plt\n",
    "import numpy as np\n",
    "import seaborn as sns\n",
    "sns.set_context('paper', font_scale=1.2)\n",
    "import pandas as pd\n",
    "import warnings\n",
    "import sys\n",
    "\n",
    "warnings.filterwarnings('ignore')\n",
    "%matplotlib inline\n",
    "%load_ext autoreload\n",
    "%autoreload 2"
   ]
  },
  {
   "cell_type": "code",
   "execution_count": 3,
   "metadata": {
    "ExecuteTime": {
     "end_time": "2023-05-25T15:49:25.883869Z",
     "start_time": "2023-05-25T15:49:25.771851Z"
    }
   },
   "outputs": [],
   "source": [
    "FolderName = '/Users/seetha/Box Sync/MultiDayData/Data/'\n",
    "SaveFigureFolder = '/Users/seetha/Box Sync/MultiDayData/MultiDayPaper/Figures/FigurepanelsPDF/ReliabilityExamples/'"
   ]
  },
  {
   "cell_type": "code",
   "execution_count": 4,
   "metadata": {
    "ExecuteTime": {
     "end_time": "2023-05-25T15:49:26.439078Z",
     "start_time": "2023-05-25T15:49:25.931335Z"
    }
   },
   "outputs": [],
   "source": [
    "from combine_placecells import GetData as gd"
   ]
  },
  {
   "cell_type": "code",
   "execution_count": 5,
   "metadata": {
    "ExecuteTime": {
     "end_time": "2023-05-25T15:49:26.622940Z",
     "start_time": "2023-05-25T15:49:26.469763Z"
    }
   },
   "outputs": [],
   "source": [
    "pl = gd(FolderName=FolderName)"
   ]
  },
  {
   "cell_type": "code",
   "execution_count": 53,
   "metadata": {
    "ExecuteTime": {
     "end_time": "2023-05-25T16:30:54.725734Z",
     "start_time": "2023-05-25T16:30:54.177363Z"
    }
   },
   "outputs": [
    {
     "name": "stdout",
     "output_type": "stream",
     "text": [
      "(5,)\n",
      "1698    0.303195\n",
      "Name: Reliability, dtype: float64 1698    0.66565\n",
      "Name: FiringRatio, dtype: float64 34\n"
     ]
    },
    {
     "data": {
      "image/png": "[encoded data removed]",
      "text/plain": [
       "<Figure size 216x144 with 1 Axes>"
      ]
     },
     "metadata": {
      "needs_background": "light"
     },
     "output_type": "display_data"
    }
   ],
   "source": [
    "fs, ax = plt.subplots(1, 1, sharex=True, figsize=(3, 2))\n",
    "pl.get_reliable_examples(ax, animalname='NR34', taskstoplot='Task4')\n",
    "# fs.set_size_inches((1, 1.5))\n",
    "# fs.savefig(os.path.join(SaveFigureFolder, 'Examplereliablecell9.pdf'), bbox_inches='tight', dpi=300)"
   ]
  },
  {
   "cell_type": "code",
   "execution_count": null,
   "metadata": {},
   "outputs": [],
   "source": [
    "pv."
   ]
  },
  {
   "cell_type": "code",
   "execution_count": null,
   "metadata": {},
   "outputs": [],
   "source": []
  }
 ],
 "metadata": {
  "kernelspec": {
   "display_name": "Python 3",
   "language": "python",
   "name": "python3"
  },
  "language_info": {
   "codemirror_mode": {
    "name": "ipython",
    "version": 3
   },
   "file_extension": ".py",
   "mimetype": "text/x-python",
   "name": "python",
   "nbconvert_exporter": "python",
   "pygments_lexer": "ipython3",
   "version": "3.8.5"
  },
  "toc": {
   "base_numbering": 1,
   "nav_menu": {},
   "number_sections": true,
   "sideBar": true,
   "skip_h1_title": false,
   "title_cell": "Table of Contents",
   "title_sidebar": "Contents",
   "toc_cell": false,
   "toc_position": {},
   "toc_section_display": true,
   "toc_window_display": false
  }
 },
 "nbformat": 4,
 "nbformat_minor": 4
}
