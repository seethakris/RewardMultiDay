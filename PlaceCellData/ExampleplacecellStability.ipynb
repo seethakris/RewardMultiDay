{
 "cells": [
  {
   "cell_type": "code",
   "execution_count": 1,
   "metadata": {
    "ExecuteTime": {
     "end_time": "2023-05-24T14:58:05.511365Z",
     "start_time": "2023-05-24T14:58:02.053490Z"
    }
   },
   "outputs": [],
   "source": [
    "import os\n",
    "import scipy.io\n",
    "import matplotlib.pyplot as plt\n",
    "import numpy as np\n",
    "import seaborn as sns\n",
    "sns.set_context('paper', font_scale=1.1)\n",
    "import pandas as pd\n",
    "import warnings\n",
    "\n",
    "warnings.filterwarnings('ignore')\n",
    "%matplotlib inline\n",
    "%load_ext autoreload\n",
    "%autoreload 2"
   ]
  },
  {
   "cell_type": "code",
   "execution_count": 2,
   "metadata": {
    "ExecuteTime": {
     "end_time": "2023-05-10T19:26:23.973568Z",
     "start_time": "2023-05-10T19:26:23.923449Z"
    }
   },
   "outputs": [],
   "source": [
    "FolderName = '/Users/seetha/Box Sync/MultiDayData/Data/'\n",
    "SaveFigureFolder = '/Users/seetha/Box Sync/MultiDayData/MultiDayPaper/Figures/FigurepanelsPDF/Placemap/'"
   ]
  },
  {
   "cell_type": "code",
   "execution_count": 3,
   "metadata": {
    "ExecuteTime": {
     "end_time": "2023-05-10T19:26:34.492066Z",
     "start_time": "2023-05-10T19:26:34.178351Z"
    }
   },
   "outputs": [],
   "source": [
    "from combine_placecells import GetData as gd"
   ]
  },
  {
   "cell_type": "code",
   "execution_count": 4,
   "metadata": {
    "ExecuteTime": {
     "end_time": "2023-05-10T19:26:37.460675Z",
     "start_time": "2023-05-10T19:26:37.380243Z"
    }
   },
   "outputs": [],
   "source": [
    "pl = gd(FolderName=FolderName)"
   ]
  },
  {
   "cell_type": "code",
   "execution_count": 5,
   "metadata": {
    "ExecuteTime": {
     "end_time": "2023-05-10T19:26:58.473884Z",
     "start_time": "2023-05-10T19:26:58.399585Z"
    }
   },
   "outputs": [
    {
     "data": {
      "text/plain": [
       "['NR31', 'NR34', 'CFC17', 'NR32', 'CFC16', 'CFC18']"
      ]
     },
     "execution_count": 5,
     "metadata": {},
     "output_type": "execute_result"
    }
   ],
   "source": [
    "pl.animals"
   ]
  },
  {
   "cell_type": "code",
   "execution_count": 220,
   "metadata": {
    "ExecuteTime": {
     "end_time": "2023-05-11T19:45:06.183568Z",
     "start_time": "2023-05-11T19:45:04.810448Z"
    }
   },
   "outputs": [
    {
     "name": "stdout",
     "output_type": "stream",
     "text": [
      "(47,)\n",
      "Task1 (33, 40)\n",
      "Task2 (30, 40)\n"
     ]
    },
    {
     "data": {
      "image/png": "[encoded data removed]",
      "text/plain": [
       "<Figure size 108x144 with 3 Axes>"
      ]
     },
     "metadata": {
      "needs_background": "light"
     },
     "output_type": "display_data"
    }
   ],
   "source": [
    "fs, ax = plt.subplots(3, 1, sharex=True, figsize=(3, 2))\n",
    "pl.get_example_cell(ax, cellnumber=36, animalname='CFC18', taskstoplot=['Task1', 'Task2'], \n",
    "                   tasktocompare='Task1')\n",
    "fs.set_size_inches((1.5, 2))\n",
    "fs.savefig(os.path.join(SaveFigureFolder, 'Examplestablity_reward3_ver2.pdf'), bbox_inches='tight', dpi=300)"
   ]
  },
  {
   "cell_type": "code",
   "execution_count": null,
   "metadata": {},
   "outputs": [],
   "source": [
    "10, 36"
   ]
  },
  {
   "cell_type": "code",
   "execution_count": 189,
   "metadata": {
    "ExecuteTime": {
     "end_time": "2023-05-11T19:11:12.555726Z",
     "start_time": "2023-05-11T19:11:11.548438Z"
    }
   },
   "outputs": [
    {
     "name": "stdout",
     "output_type": "stream",
     "text": [
      "(8,)\n",
      "Task3 (20, 40)\n",
      "Task4 (20, 40)\n"
     ]
    },
    {
     "data": {
      "image/png": "[encoded data removed]",
      "text/plain": [
       "<Figure size 108x144 with 3 Axes>"
      ]
     },
     "metadata": {
      "needs_background": "light"
     },
     "output_type": "display_data"
    }
   ],
   "source": [
    "fs, ax = plt.subplots(3, 1, figsize=(3, 2))\n",
    "pl.get_example_cell(ax, cellnumber=3, animalname='NR32', taskstoplot=['Task3', 'Task4'], \n",
    "                   tasktocompare='Task3')\n",
    "fs.set_size_inches((1.5, 2))\n",
    "fs.savefig(os.path.join(SaveFigureFolder, 'Examplestablity_noreward3.pdf'), bbox_inches='tight', dpi=300)"
   ]
  },
  {
   "cell_type": "code",
   "execution_count": null,
   "metadata": {},
   "outputs": [],
   "source": []
  }
 ],
 "metadata": {
  "kernelspec": {
   "display_name": "Python 3",
   "language": "python",
   "name": "python3"
  },
  "language_info": {
   "codemirror_mode": {
    "name": "ipython",
    "version": 3
   },
   "file_extension": ".py",
   "mimetype": "text/x-python",
   "name": "python",
   "nbconvert_exporter": "python",
   "pygments_lexer": "ipython3",
   "version": "3.8.5"
  },
  "toc": {
   "base_numbering": 1,
   "nav_menu": {},
   "number_sections": true,
   "sideBar": true,
   "skip_h1_title": false,
   "title_cell": "Table of Contents",
   "title_sidebar": "Contents",
   "toc_cell": false,
   "toc_position": {},
   "toc_section_display": true,
   "toc_window_display": false
  }
 },
 "nbformat": 4,
 "nbformat_minor": 4
}
