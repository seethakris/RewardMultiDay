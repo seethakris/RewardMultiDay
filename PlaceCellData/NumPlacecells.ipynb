{
 "cells": [
  {
   "cell_type": "code",
   "execution_count": 1,
   "metadata": {
    "ExecuteTime": {
     "end_time": "2023-12-10T14:42:29.533010Z",
     "start_time": "2023-12-10T14:42:20.839824Z"
    }
   },
   "outputs": [],
   "source": [
    "import os\n",
    "import scipy.io\n",
    "import matplotlib.pyplot as plt\n",
    "import numpy as np\n",
    "import seaborn as sns\n",
    "sns.set_context('paper', font_scale=1.1)\n",
    "import pandas as pd\n",
    "import warnings\n",
    "import sys\n",
    "import dabest\n",
    "import matplotlib as mpl\n",
    "import scipy.stats as st\n",
    "from mpl_toolkits.axes_grid1 import make_axes_locatable\n",
    "\n",
    "\n",
    "warnings.filterwarnings('ignore')\n",
    "%matplotlib inline\n",
    "%load_ext autoreload\n",
    "%autoreload 2"
   ]
  },
  {
   "cell_type": "code",
   "execution_count": 2,
   "metadata": {
    "ExecuteTime": {
     "end_time": "2023-12-10T14:42:29.790924Z",
     "start_time": "2023-12-10T14:42:29.552662Z"
    }
   },
   "outputs": [],
   "source": [
    "DirectoryName = '/Users/seetha/Box Sync/MultiDayData/Data/'\n",
    "CombinedFolderName = '/Users/seetha/Box Sync/MultiDayData/PlaceCellResultsAll/'\n",
    "SaveFigureFolder = '/Users/seetha/Box Sync/MultiDayData/MultiDayPaper/Figures/FigurepanelsPDF/CommonPCs/'"
   ]
  },
  {
   "cell_type": "code",
   "execution_count": 3,
   "metadata": {
    "ExecuteTime": {
     "end_time": "2023-12-10T14:42:29.901535Z",
     "start_time": "2023-12-10T14:42:29.807712Z"
    }
   },
   "outputs": [],
   "source": [
    "from numplacecells import GetData as gd"
   ]
  },
  {
   "cell_type": "code",
   "execution_count": 4,
   "metadata": {
    "ExecuteTime": {
     "end_time": "2023-12-10T14:42:30.682955Z",
     "start_time": "2023-12-10T14:42:29.909328Z"
    }
   },
   "outputs": [
    {
     "name": "stdout",
     "output_type": "stream",
     "text": [
      "Index(['Task', 'CellNumber', 'PlaceCellNumber', 'NumPlacecells', 'COM',\n",
      "       'WeightedCOM', 'Precision', 'Precision_rising', 'Width', 'FiringRatio',\n",
      "       'Firingintensity', 'Reliability', 'animalname'],\n",
      "      dtype='object')\n"
     ]
    }
   ],
   "source": [
    "taskstoplot = ['Task1', 'Task2', 'Task3', 'Task4', 'Task5']\n",
    "num = gd(FolderName=DirectoryName, CombinedDataFolder=CombinedFolderName, taskstoplot=taskstoplot)"
   ]
  },
  {
   "cell_type": "code",
   "execution_count": 5,
   "metadata": {
    "ExecuteTime": {
     "end_time": "2023-12-10T14:42:30.732718Z",
     "start_time": "2023-12-10T14:42:30.685120Z"
    }
   },
   "outputs": [],
   "source": [
    "commondf = num.updateddf[num.updateddf['CommonCells']]"
   ]
  },
  {
   "cell_type": "code",
   "execution_count": 7,
   "metadata": {
    "ExecuteTime": {
     "end_time": "2023-12-10T14:42:56.103538Z",
     "start_time": "2023-12-10T14:42:52.076902Z"
    }
   },
   "outputs": [],
   "source": [
    "numcelldict = {k:[] for k in ['Task', 'animalname', 'CellNumber', 'NumPlacecells']}\n",
    "for a in num.animals:\n",
    "    df = commondf[commondf['animalname']==a]\n",
    "    numcells = df['CellNumber'].unique()\n",
    "    for c in numcells:\n",
    "        for t in taskstoplot:\n",
    "            numcelldict['Task'].append(t)\n",
    "            numcelldict['CellNumber'].append(c)\n",
    "            numcelldict['animalname'].append(a)\n",
    "            numplacecells = df[(df['Task']==t) & (df['CellNumber']==c)]['NumPlacecells'].to_numpy()\n",
    "            if len(numplacecells):\n",
    "                numcelldict['NumPlacecells'].append(numplacecells[0])\n",
    "            else:\n",
    "                numcelldict['NumPlacecells'].append(np.nan)"
   ]
  },
  {
   "cell_type": "code",
   "execution_count": 8,
   "metadata": {
    "ExecuteTime": {
     "end_time": "2023-12-10T14:42:56.718034Z",
     "start_time": "2023-12-10T14:42:56.106458Z"
    }
   },
   "outputs": [],
   "source": [
    "numcelldf = pd.DataFrame.from_dict(numcelldict)\n",
    "numcelldf = numcelldf.pivot(index=['animalname', 'CellNumber'], columns=['Task'], values=['NumPlacecells'])\n",
    "numcelldf = numcelldf.reset_index() #.dropna() #.droplevel(level=0, axis=1)"
   ]
  },
  {
   "cell_type": "code",
   "execution_count": 9,
   "metadata": {
    "ExecuteTime": {
     "end_time": "2023-12-10T14:42:57.219918Z",
     "start_time": "2023-12-10T14:42:56.721906Z"
    }
   },
   "outputs": [],
   "source": [
    "#Total place cells per animal\n",
    "numtotalplacecells = []\n",
    "for a in num.animals:\n",
    "    pfparams = np.load(\n",
    "        os.path.join(DirectoryName, a, 'PlaceCells', f'%s_placecell_data.npz' % a), allow_pickle=True)\n",
    "    celllist = []\n",
    "    for t in taskstoplot:\n",
    "        celllist.extend(pfparams['sig_PFs_cellnum_revised'].item()[t])\n",
    "    numtotalplacecells.append(len(set(celllist)))\n",
    "#Find place cells common among all\n",
    "numcells = []\n",
    "for a in np.unique(numcelldf['animalname']):\n",
    "    numcells.append(len(numcelldf[numcelldf['animalname']==a]))"
   ]
  },
  {
   "cell_type": "code",
   "execution_count": 19,
   "metadata": {
    "ExecuteTime": {
     "end_time": "2023-12-10T14:45:43.559983Z",
     "start_time": "2023-12-10T14:45:43.503100Z"
    }
   },
   "outputs": [],
   "source": [
    "#Total imaged cells\n",
    "numtotalcells = []\n",
    "for a in num.animals:\n",
    "    pfparams = np.load(\n",
    "        os.path.join(DirectoryName, a, 'PlaceCells', f'%s_placecell_data.npz' % a), allow_pickle=True)\n",
    "    numtotalcells.append(pfparams['numcells'])"
   ]
  },
  {
   "cell_type": "code",
   "execution_count": 23,
   "metadata": {
    "ExecuteTime": {
     "end_time": "2023-12-10T14:47:11.151112Z",
     "start_time": "2023-12-10T14:47:11.099544Z"
    }
   },
   "outputs": [
    {
     "name": "stdout",
     "output_type": "stream",
     "text": [
      "1376.0 622.7432116868305\n"
     ]
    }
   ],
   "source": [
    "data = numtotalcells\n",
    "ci = st.norm.interval(alpha=0.99, loc=np.mean(data), scale=st.sem(data))\n",
    "print(np.mean(data), ci[0])"
   ]
  },
  {
   "cell_type": "code",
   "execution_count": 89,
   "metadata": {
    "ExecuteTime": {
     "end_time": "2023-08-07T16:17:56.468446Z",
     "start_time": "2023-08-07T16:17:56.416936Z"
    }
   },
   "outputs": [
    {
     "name": "stdout",
     "output_type": "stream",
     "text": [
      "25.393759130885606\n",
      "22.90695980199272 -22.90695980199272\n"
     ]
    }
   ],
   "source": [
    "data = np.array(numcells)/np.array(numtotalplacecells)*100\n",
    "print(np.mean(data))\n",
    "ci = st.norm.interval(alpha=0.99, loc=np.mean(data), scale=st.sem(data))\n",
    "# print(ci[0])\n",
    "print(np.mean(data)-ci[0], np.mean(data)-ci[1])"
   ]
  },
  {
   "cell_type": "code",
   "execution_count": 81,
   "metadata": {
    "ExecuteTime": {
     "end_time": "2023-08-07T16:16:22.308637Z",
     "start_time": "2023-08-07T16:16:21.811007Z"
    }
   },
   "outputs": [
    {
     "data": {
      "image/png": "[encoded data removed]",
      "text/plain": [
       "<Figure size 216x144 with 1 Axes>"
      ]
     },
     "metadata": {
      "needs_background": "light"
     },
     "output_type": "display_data"
    }
   ],
   "source": [
    "fs, ax = plt.subplots(1, figsize=(3, 2))\n",
    "ax.plot(data, '.-', markersize=10)\n",
    "sns.despine(ax=ax)\n",
    "fs.savefig(os.path.join(SaveFigureFolder, 'Numplacecell_peranimal.pdf'), bbox_inches='tight')"
   ]
  },
  {
   "cell_type": "code",
   "execution_count": 69,
   "metadata": {
    "ExecuteTime": {
     "end_time": "2023-06-14T20:32:56.431137Z",
     "start_time": "2023-06-14T20:32:55.333085Z"
    }
   },
   "outputs": [
    {
     "name": "stdout",
     "output_type": "stream",
     "text": [
      "(322, 5)\n",
      "(255, 5)\n",
      "(577, 5)\n",
      "(577, 5)\n"
     ]
    },
    {
     "data": {
      "image/png": "[encoded data removed]",
      "text/plain": [
       "<Figure size 288x360 with 2 Axes>"
      ]
     },
     "metadata": {
      "needs_background": "light"
     },
     "output_type": "display_data"
    }
   ],
   "source": [
    "fs, ax = plt.subplots(1, figsize=(4, 5))\n",
    "temp = numcelldf[taskstoplot]\n",
    "mat1 = temp.loc[(temp!=1).any(axis=1)].to_numpy()\n",
    "idx = np.argsort(mat1[:, 0])\n",
    "mat1 = mat1[idx, :]\n",
    "print(mat1.shape)\n",
    "\n",
    "mat2 = temp.loc[(temp==1).all(axis=1)].to_numpy()\n",
    "mat = np.vstack((mat2, mat1))\n",
    "print(mat2.shape)\n",
    "print(mat.shape)\n",
    "print(temp.shape)\n",
    "\n",
    "sns.heatmap(mat, cmap=sns.color_palette('Paired', 4), ax=ax)\n",
    "fs.savefig(os.path.join(SaveFigureFolder, 'Placecellfate_multicells.tiff'), bbox_inches='tight', dpi=300)"
   ]
  },
  {
   "cell_type": "code",
   "execution_count": 73,
   "metadata": {
    "ExecuteTime": {
     "end_time": "2023-06-14T20:33:33.124002Z",
     "start_time": "2023-06-14T20:33:33.078370Z"
    }
   },
   "outputs": [],
   "source": [
    "mat1 = temp.loc[(temp!=1).any(axis=1)]\n",
    "subset = mat1[mat1['Task1']==1]"
   ]
  },
  {
   "cell_type": "code",
   "execution_count": 81,
   "metadata": {
    "ExecuteTime": {
     "end_time": "2023-06-14T20:35:42.324434Z",
     "start_time": "2023-06-14T20:35:41.936442Z"
    }
   },
   "outputs": [
    {
     "name": "stdout",
     "output_type": "stream",
     "text": [
      "[[  0.   1.   2.]\n",
      " [142.  59.   4.]]\n",
      "[[ 0.  1.  2.]\n",
      " [98. 98.  9.]]\n",
      "[[  0.   1.   2.]\n",
      " [103.  94.   8.]]\n",
      "[[  0.   1.   2.]\n",
      " [128.  72.   5.]]\n"
     ]
    },
    {
     "data": {
      "image/png": "[encoded data removed]",
      "text/plain": [
       "<Figure size 144x144 with 1 Axes>"
      ]
     },
     "metadata": {
      "needs_background": "light"
     },
     "output_type": "display_data"
    }
   ],
   "source": [
    "fs, ax = plt.subplots(1)\n",
    "prob = []\n",
    "for t in taskstoplot[1:]:\n",
    "    diff = subset[t] - subset['Task1']\n",
    "    counts = np.array(np.unique(diff, return_counts=True))\n",
    "    print(counts)\n",
    "    prob.append(np.sum(counts[1, 1:])/np.sum(counts[1, :]))\n",
    "ax.bar(np.arange(4), prob)\n",
    "ax.set_ylim((0, 0.6))\n",
    "ax.locator_params(axis='y', nbins=3)\n",
    "fs.set_size_inches((2, 2))\n",
    "fs.savefig(os.path.join(SaveFigureFolder, 'Probabilityofplacecellincrease.pdf'), bbox_inches='tight', dpi=300)"
   ]
  },
  {
   "cell_type": "code",
   "execution_count": 27,
   "metadata": {
    "ExecuteTime": {
     "end_time": "2023-08-04T23:00:24.585313Z",
     "start_time": "2023-08-04T23:00:24.516996Z"
    }
   },
   "outputs": [
    {
     "data": {
      "text/plain": [
       "9155"
      ]
     },
     "execution_count": 27,
     "metadata": {},
     "output_type": "execute_result"
    }
   ],
   "source": [
    "df = num.get_placecell_perc_peranimal(taskstoplot)\n",
    "df['Numplacecells'].sum()"
   ]
  },
  {
   "cell_type": "code",
   "execution_count": 5,
   "metadata": {
    "ExecuteTime": {
     "end_time": "2023-08-07T15:33:19.670235Z",
     "start_time": "2023-08-07T15:33:19.619312Z"
    }
   },
   "outputs": [],
   "source": []
  },
  {
   "cell_type": "code",
   "execution_count": null,
   "metadata": {},
   "outputs": [],
   "source": []
  }
 ],
 "metadata": {
  "kernelspec": {
   "display_name": "Python 3",
   "language": "python",
   "name": "python3"
  },
  "language_info": {
   "codemirror_mode": {
    "name": "ipython",
    "version": 3
   },
   "file_extension": ".py",
   "mimetype": "text/x-python",
   "name": "python",
   "nbconvert_exporter": "python",
   "pygments_lexer": "ipython3",
   "version": "3.8.5"
  },
  "toc": {
   "base_numbering": 1,
   "nav_menu": {},
   "number_sections": true,
   "sideBar": true,
   "skip_h1_title": false,
   "title_cell": "Table of Contents",
   "title_sidebar": "Contents",
   "toc_cell": false,
   "toc_position": {},
   "toc_section_display": true,
   "toc_window_display": false
  }
 },
 "nbformat": 4,
 "nbformat_minor": 4
}
