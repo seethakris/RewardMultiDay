{
 "cells": [
  {
   "cell_type": "code",
   "execution_count": 1,
   "metadata": {
    "ExecuteTime": {
     "end_time": "2023-11-16T21:53:41.668526Z",
     "start_time": "2023-11-16T21:53:38.554856Z"
    }
   },
   "outputs": [],
   "source": [
    "import os\n",
    "import scipy.io\n",
    "import matplotlib.pyplot as plt\n",
    "import numpy as np\n",
    "import seaborn as sns\n",
    "sns.set_context('paper', font_scale=1.2)\n",
    "import pandas as pd\n",
    "import warnings\n",
    "import sys\n",
    "import dabest\n",
    "\n",
    "warnings.filterwarnings('ignore')\n",
    "%matplotlib inline\n",
    "%load_ext autoreload\n",
    "%autoreload 2"
   ]
  },
  {
   "cell_type": "code",
   "execution_count": 2,
   "metadata": {
    "ExecuteTime": {
     "end_time": "2023-11-16T21:53:41.742070Z",
     "start_time": "2023-11-16T21:53:41.672800Z"
    }
   },
   "outputs": [],
   "source": [
    "DirectoryName = '/Users/seetha/Box Sync/MultiDayData/Data/'\n",
    "CombinedFolderName = '/Users/seetha/Box Sync/MultiDayData/PlaceCellResultsAll/'\n",
    "SaveFigureFolder = '/Users/seetha/Box Sync/MultiDayData/MultiDayPaper/Figures/FigurepanelsPDF/CommonPCs/'"
   ]
  },
  {
   "cell_type": "code",
   "execution_count": 3,
   "metadata": {
    "ExecuteTime": {
     "end_time": "2023-11-16T21:53:41.908764Z",
     "start_time": "2023-11-16T21:53:41.752771Z"
    }
   },
   "outputs": [],
   "source": [
    "from numplacecells import GetData as gd"
   ]
  },
  {
   "cell_type": "code",
   "execution_count": 4,
   "metadata": {
    "ExecuteTime": {
     "end_time": "2023-11-16T21:53:42.706657Z",
     "start_time": "2023-11-16T21:53:41.912460Z"
    }
   },
   "outputs": [
    {
     "name": "stdout",
     "output_type": "stream",
     "text": [
      "Index(['Task', 'CellNumber', 'PlaceCellNumber', 'NumPlacecells', 'COM',\n",
      "       'WeightedCOM', 'Precision', 'Precision_rising', 'Width', 'FiringRatio',\n",
      "       'Firingintensity', 'Reliability', 'animalname'],\n",
      "      dtype='object')\n"
     ]
    }
   ],
   "source": [
    "taskstoplot = ['Task1', 'Task2', 'Task3', 'Task4', 'Task5']\n",
    "num = gd(FolderName=DirectoryName, CombinedDataFolder=CombinedFolderName, taskstoplot=taskstoplot)"
   ]
  },
  {
   "cell_type": "code",
   "execution_count": 5,
   "metadata": {
    "ExecuteTime": {
     "end_time": "2023-11-16T21:53:58.657991Z",
     "start_time": "2023-11-16T21:53:58.553808Z"
    }
   },
   "outputs": [],
   "source": [
    "uncommondf = num.updateddf[~num.updateddf['CommonCells']]"
   ]
  },
  {
   "cell_type": "code",
   "execution_count": 6,
   "metadata": {
    "ExecuteTime": {
     "end_time": "2023-11-16T21:53:59.613590Z",
     "start_time": "2023-11-16T21:53:59.553986Z"
    }
   },
   "outputs": [],
   "source": [
    "commondf = num.updateddf[num.updateddf['CommonCells']]"
   ]
  },
  {
   "cell_type": "markdown",
   "metadata": {},
   "source": [
    "## Get reliability of all cells"
   ]
  },
  {
   "cell_type": "code",
   "execution_count": 10,
   "metadata": {
    "ExecuteTime": {
     "end_time": "2023-11-16T21:55:18.399037Z",
     "start_time": "2023-11-16T21:55:14.219176Z"
    }
   },
   "outputs": [],
   "source": [
    "reldict = {k:[] for k in ['Task', 'animalname', 'CellNumber', 'Reliability']}\n",
    "for a in num.animals:\n",
    "    df = commondf[commondf['animalname']==a]\n",
    "    numcells = df['CellNumber'].unique()\n",
    "    for c in numcells:\n",
    "        for t in taskstoplot:\n",
    "            reldict['Task'].append(t)\n",
    "            reldict['CellNumber'].append(c)\n",
    "            reldict['animalname'].append(a)\n",
    "            reliability = df[(df['Task']==t) & (df['CellNumber']==c)]['Reliability'].to_numpy()            \n",
    "            if len(reliability):\n",
    "                reldict['Reliability'].append(reliability[0])\n",
    "            else:\n",
    "                reldict['Reliability'].append(np.nan)"
   ]
  },
  {
   "cell_type": "code",
   "execution_count": 7,
   "metadata": {
    "ExecuteTime": {
     "end_time": "2023-08-09T17:30:59.479866Z",
     "start_time": "2023-08-09T17:30:59.244624Z"
    }
   },
   "outputs": [],
   "source": [
    "reldf = pd.DataFrame.from_dict(reldict)\n",
    "reldf = reldf.pivot(index=['animalname', 'CellNumber'], columns=['Task'], values=['Reliability'])\n",
    "# reldf = reldf.reset_index().dropna()"
   ]
  },
  {
   "cell_type": "code",
   "execution_count": 8,
   "metadata": {
    "ExecuteTime": {
     "end_time": "2023-08-09T17:30:59.724826Z",
     "start_time": "2023-08-09T17:30:59.556404Z"
    }
   },
   "outputs": [
    {
     "data": {
      "text/html": [
       "<div>\n",
       "<style scoped>\n",
       "    .dataframe tbody tr th:only-of-type {\n",
       "        vertical-align: middle;\n",
       "    }\n",
       "\n",
       "    .dataframe tbody tr th {\n",
       "        vertical-align: top;\n",
       "    }\n",
       "\n",
       "    .dataframe thead th {\n",
       "        text-align: right;\n",
       "    }\n",
       "</style>\n",
       "<table border=\"1\" class=\"dataframe\">\n",
       "  <thead>\n",
       "    <tr style=\"text-align: right;\">\n",
       "      <th></th>\n",
       "      <th>Task</th>\n",
       "      <th>Task1</th>\n",
       "      <th>Task2</th>\n",
       "      <th>Task3</th>\n",
       "      <th>Task4</th>\n",
       "      <th>Task5</th>\n",
       "    </tr>\n",
       "    <tr>\n",
       "      <th>animalname</th>\n",
       "      <th>CellNumber</th>\n",
       "      <th></th>\n",
       "      <th></th>\n",
       "      <th></th>\n",
       "      <th></th>\n",
       "      <th></th>\n",
       "    </tr>\n",
       "  </thead>\n",
       "  <tbody>\n",
       "    <tr>\n",
       "      <th rowspan=\"3\" valign=\"top\">NR34</th>\n",
       "      <th>129</th>\n",
       "      <td>0.946049</td>\n",
       "      <td>0.919521</td>\n",
       "      <td>0.268406</td>\n",
       "      <td>0.337744</td>\n",
       "      <td>0.137906</td>\n",
       "    </tr>\n",
       "    <tr>\n",
       "      <th>514</th>\n",
       "      <td>0.940192</td>\n",
       "      <td>0.631046</td>\n",
       "      <td>0.242543</td>\n",
       "      <td>0.556274</td>\n",
       "      <td>NaN</td>\n",
       "    </tr>\n",
       "    <tr>\n",
       "      <th>252</th>\n",
       "      <td>0.935896</td>\n",
       "      <td>0.919480</td>\n",
       "      <td>0.428074</td>\n",
       "      <td>0.420505</td>\n",
       "      <td>0.251564</td>\n",
       "    </tr>\n",
       "    <tr>\n",
       "      <th>CFC17</th>\n",
       "      <th>108</th>\n",
       "      <td>0.935880</td>\n",
       "      <td>0.896841</td>\n",
       "      <td>0.806795</td>\n",
       "      <td>0.769540</td>\n",
       "      <td>0.854709</td>\n",
       "    </tr>\n",
       "    <tr>\n",
       "      <th>NR34</th>\n",
       "      <th>625</th>\n",
       "      <td>0.933016</td>\n",
       "      <td>0.926189</td>\n",
       "      <td>0.811507</td>\n",
       "      <td>0.575015</td>\n",
       "      <td>0.330650</td>\n",
       "    </tr>\n",
       "  </tbody>\n",
       "</table>\n",
       "</div>"
      ],
      "text/plain": [
       "Task                      Task1     Task2     Task3     Task4     Task5\n",
       "animalname CellNumber                                                  \n",
       "NR34       129         0.946049  0.919521  0.268406  0.337744  0.137906\n",
       "           514         0.940192  0.631046  0.242543  0.556274       NaN\n",
       "           252         0.935896  0.919480  0.428074  0.420505  0.251564\n",
       "CFC17      108         0.935880  0.896841  0.806795  0.769540  0.854709\n",
       "NR34       625         0.933016  0.926189  0.811507  0.575015  0.330650"
      ]
     },
     "execution_count": 8,
     "metadata": {},
     "output_type": "execute_result"
    }
   ],
   "source": [
    "data = reldf['Reliability']\n",
    "data = data.sort_values(by=['Task1', 'Task2', 'Task5'], ascending=False)\n",
    "data.head()"
   ]
  },
  {
   "cell_type": "code",
   "execution_count": 9,
   "metadata": {
    "ExecuteTime": {
     "end_time": "2023-08-09T17:31:00.649346Z",
     "start_time": "2023-08-09T17:30:59.856990Z"
    }
   },
   "outputs": [
    {
     "data": {
      "image/png": "[encoded data removed]",
      "text/plain": [
       "<Figure size 432x288 with 2 Axes>"
      ]
     },
     "metadata": {
      "needs_background": "light"
     },
     "output_type": "display_data"
    }
   ],
   "source": [
    "fs, ax = plt.subplots(1)\n",
    "sns.heatmap(data=data, vmin=0, vmax=1, cmap=sns.color_palette(\"RdBu\", as_cmap=True), ax=ax)\n",
    "ax.axis('off');\n",
    "fs.savefig(os.path.join(SaveFigureFolder, 'Reliability_heatmap_allcommonPCs.tiff'), bbox_inches='tight', dpi=300)"
   ]
  },
  {
   "cell_type": "code",
   "execution_count": 10,
   "metadata": {
    "ExecuteTime": {
     "end_time": "2023-08-09T17:31:00.768681Z",
     "start_time": "2023-08-09T17:31:00.657062Z"
    }
   },
   "outputs": [
    {
     "data": {
      "text/html": [
       "<div>\n",
       "<style scoped>\n",
       "    .dataframe tbody tr th:only-of-type {\n",
       "        vertical-align: middle;\n",
       "    }\n",
       "\n",
       "    .dataframe tbody tr th {\n",
       "        vertical-align: top;\n",
       "    }\n",
       "\n",
       "    .dataframe thead th {\n",
       "        text-align: right;\n",
       "    }\n",
       "</style>\n",
       "<table border=\"1\" class=\"dataframe\">\n",
       "  <thead>\n",
       "    <tr style=\"text-align: right;\">\n",
       "      <th></th>\n",
       "      <th>Task</th>\n",
       "      <th>Task1</th>\n",
       "      <th>Task2</th>\n",
       "      <th>Task3</th>\n",
       "      <th>Task4</th>\n",
       "      <th>Task5</th>\n",
       "    </tr>\n",
       "    <tr>\n",
       "      <th>animalname</th>\n",
       "      <th>CellNumber</th>\n",
       "      <th></th>\n",
       "      <th></th>\n",
       "      <th></th>\n",
       "      <th></th>\n",
       "      <th></th>\n",
       "    </tr>\n",
       "  </thead>\n",
       "  <tbody>\n",
       "    <tr>\n",
       "      <th rowspan=\"3\" valign=\"top\">NR34</th>\n",
       "      <th>129</th>\n",
       "      <td>0.946049</td>\n",
       "      <td>0.919521</td>\n",
       "      <td>0.268406</td>\n",
       "      <td>0.337744</td>\n",
       "      <td>0.137906</td>\n",
       "    </tr>\n",
       "    <tr>\n",
       "      <th>514</th>\n",
       "      <td>0.940192</td>\n",
       "      <td>0.631046</td>\n",
       "      <td>0.242543</td>\n",
       "      <td>0.556274</td>\n",
       "      <td>NaN</td>\n",
       "    </tr>\n",
       "    <tr>\n",
       "      <th>252</th>\n",
       "      <td>0.935896</td>\n",
       "      <td>0.919480</td>\n",
       "      <td>0.428074</td>\n",
       "      <td>0.420505</td>\n",
       "      <td>0.251564</td>\n",
       "    </tr>\n",
       "    <tr>\n",
       "      <th>CFC17</th>\n",
       "      <th>108</th>\n",
       "      <td>0.935880</td>\n",
       "      <td>0.896841</td>\n",
       "      <td>0.806795</td>\n",
       "      <td>0.769540</td>\n",
       "      <td>0.854709</td>\n",
       "    </tr>\n",
       "    <tr>\n",
       "      <th>NR34</th>\n",
       "      <th>625</th>\n",
       "      <td>0.933016</td>\n",
       "      <td>0.926189</td>\n",
       "      <td>0.811507</td>\n",
       "      <td>0.575015</td>\n",
       "      <td>0.330650</td>\n",
       "    </tr>\n",
       "  </tbody>\n",
       "</table>\n",
       "</div>"
      ],
      "text/plain": [
       "Task                      Task1     Task2     Task3     Task4     Task5\n",
       "animalname CellNumber                                                  \n",
       "NR34       129         0.946049  0.919521  0.268406  0.337744  0.137906\n",
       "           514         0.940192  0.631046  0.242543  0.556274       NaN\n",
       "           252         0.935896  0.919480  0.428074  0.420505  0.251564\n",
       "CFC17      108         0.935880  0.896841  0.806795  0.769540  0.854709\n",
       "NR34       625         0.933016  0.926189  0.811507  0.575015  0.330650"
      ]
     },
     "execution_count": 10,
     "metadata": {},
     "output_type": "execute_result"
    }
   ],
   "source": [
    "data = data.sort_values(by=taskstoplot, ascending=False)\n",
    "data.head()"
   ]
  },
  {
   "cell_type": "code",
   "execution_count": 11,
   "metadata": {
    "ExecuteTime": {
     "end_time": "2023-08-09T17:31:01.567383Z",
     "start_time": "2023-08-09T17:31:00.791652Z"
    }
   },
   "outputs": [
    {
     "name": "stdout",
     "output_type": "stream",
     "text": [
      "33\n"
     ]
    },
    {
     "data": {
      "image/png": "[encoded data removed]",
      "text/plain": [
       "<Figure size 432x288 with 2 Axes>"
      ]
     },
     "metadata": {
      "needs_background": "light"
     },
     "output_type": "display_data"
    }
   ],
   "source": [
    "fs, ax = plt.subplots(1)\n",
    "print(len(data[data>=0.5].dropna()))\n",
    "sns.heatmap(data=data[data>=0.5].dropna(), vmin=0, vmax=1, cmap=sns.color_palette(\"RdBu\", as_cmap=True), ax=ax)\n",
    "ax.axis('off')\n",
    "fs.savefig(os.path.join(SaveFigureFolder, 'Reliability_heatmap_commonhighreliable.tiff'), bbox_inches='tight', dpi=300)"
   ]
  },
  {
   "cell_type": "markdown",
   "metadata": {
    "ExecuteTime": {
     "end_time": "2023-08-07T19:33:29.807839Z",
     "start_time": "2023-08-07T19:33:29.747930Z"
    }
   },
   "source": [
    "## Get reliability of single place cells"
   ]
  },
  {
   "cell_type": "code",
   "execution_count": 51,
   "metadata": {
    "ExecuteTime": {
     "end_time": "2023-08-09T17:50:54.222885Z",
     "start_time": "2023-08-09T17:50:50.454530Z"
    }
   },
   "outputs": [],
   "source": [
    "reldict = {k:[] for k in ['Task', 'animalname', 'CellNumber', 'Reliability']}\n",
    "for a in num.animals:\n",
    "    df = commondf[commondf['animalname']==a]\n",
    "    numcells = df['CellNumber'].unique()\n",
    "    for c in numcells:\n",
    "        for t in taskstoplot:\n",
    "            reldict['Task'].append(t)\n",
    "            reldict['CellNumber'].append(c)\n",
    "            reldict['animalname'].append(a)\n",
    "            reliability = df[(df['Task']==t) & (df['CellNumber']==c)]['Reliability'].to_numpy()            \n",
    "            if len(reliability)==1:\n",
    "                reldict['Reliability'].append(reliability[0])\n",
    "            else:\n",
    "                reldict['Reliability'].append(np.nan)"
   ]
  },
  {
   "cell_type": "code",
   "execution_count": 52,
   "metadata": {
    "ExecuteTime": {
     "end_time": "2023-08-09T17:50:54.298159Z",
     "start_time": "2023-08-09T17:50:54.225716Z"
    }
   },
   "outputs": [],
   "source": [
    "reldf = pd.DataFrame.from_dict(reldict)\n",
    "reldf = reldf.pivot(index=['animalname', 'CellNumber'], columns=['Task'], values=['Reliability'])\n",
    "reldf = reldf.reset_index().dropna()"
   ]
  },
  {
   "cell_type": "code",
   "execution_count": 55,
   "metadata": {
    "ExecuteTime": {
     "end_time": "2023-08-09T17:51:07.318703Z",
     "start_time": "2023-08-09T17:51:07.253554Z"
    }
   },
   "outputs": [
    {
     "data": {
      "text/html": [
       "<div>\n",
       "<style scoped>\n",
       "    .dataframe tbody tr th:only-of-type {\n",
       "        vertical-align: middle;\n",
       "    }\n",
       "\n",
       "    .dataframe tbody tr th {\n",
       "        vertical-align: top;\n",
       "    }\n",
       "\n",
       "    .dataframe thead th {\n",
       "        text-align: right;\n",
       "    }\n",
       "</style>\n",
       "<table border=\"1\" class=\"dataframe\">\n",
       "  <thead>\n",
       "    <tr style=\"text-align: right;\">\n",
       "      <th>Task</th>\n",
       "      <th></th>\n",
       "      <th></th>\n",
       "      <th></th>\n",
       "      <th>Task1</th>\n",
       "      <th>Task2</th>\n",
       "      <th>Task3</th>\n",
       "      <th>Task4</th>\n",
       "      <th>Task5</th>\n",
       "    </tr>\n",
       "  </thead>\n",
       "  <tbody>\n",
       "    <tr>\n",
       "      <th>0</th>\n",
       "      <td>2</td>\n",
       "      <td>CFC16</td>\n",
       "      <td>25</td>\n",
       "      <td>0.176016</td>\n",
       "      <td>0.370542</td>\n",
       "      <td>0.195675</td>\n",
       "      <td>0.074955</td>\n",
       "      <td>0.409595</td>\n",
       "    </tr>\n",
       "    <tr>\n",
       "      <th>1</th>\n",
       "      <td>5</td>\n",
       "      <td>CFC16</td>\n",
       "      <td>42</td>\n",
       "      <td>0.231165</td>\n",
       "      <td>0.317507</td>\n",
       "      <td>0.119218</td>\n",
       "      <td>0.104011</td>\n",
       "      <td>0.278749</td>\n",
       "    </tr>\n",
       "    <tr>\n",
       "      <th>2</th>\n",
       "      <td>6</td>\n",
       "      <td>CFC16</td>\n",
       "      <td>44</td>\n",
       "      <td>0.225456</td>\n",
       "      <td>0.770215</td>\n",
       "      <td>0.433987</td>\n",
       "      <td>0.406075</td>\n",
       "      <td>0.628873</td>\n",
       "    </tr>\n",
       "    <tr>\n",
       "      <th>3</th>\n",
       "      <td>7</td>\n",
       "      <td>CFC16</td>\n",
       "      <td>45</td>\n",
       "      <td>0.440464</td>\n",
       "      <td>0.623213</td>\n",
       "      <td>0.662165</td>\n",
       "      <td>0.411084</td>\n",
       "      <td>0.690923</td>\n",
       "    </tr>\n",
       "    <tr>\n",
       "      <th>4</th>\n",
       "      <td>9</td>\n",
       "      <td>CFC16</td>\n",
       "      <td>57</td>\n",
       "      <td>0.143871</td>\n",
       "      <td>0.332310</td>\n",
       "      <td>0.122705</td>\n",
       "      <td>0.319964</td>\n",
       "      <td>0.159601</td>\n",
       "    </tr>\n",
       "    <tr>\n",
       "      <th>...</th>\n",
       "      <td>...</td>\n",
       "      <td>...</td>\n",
       "      <td>...</td>\n",
       "      <td>...</td>\n",
       "      <td>...</td>\n",
       "      <td>...</td>\n",
       "      <td>...</td>\n",
       "      <td>...</td>\n",
       "    </tr>\n",
       "    <tr>\n",
       "      <th>272</th>\n",
       "      <td>648</td>\n",
       "      <td>NR34</td>\n",
       "      <td>702</td>\n",
       "      <td>0.549192</td>\n",
       "      <td>0.674105</td>\n",
       "      <td>0.196541</td>\n",
       "      <td>0.370305</td>\n",
       "      <td>0.136727</td>\n",
       "    </tr>\n",
       "    <tr>\n",
       "      <th>273</th>\n",
       "      <td>650</td>\n",
       "      <td>NR34</td>\n",
       "      <td>715</td>\n",
       "      <td>0.283874</td>\n",
       "      <td>0.583151</td>\n",
       "      <td>0.310785</td>\n",
       "      <td>0.220177</td>\n",
       "      <td>0.206526</td>\n",
       "    </tr>\n",
       "    <tr>\n",
       "      <th>274</th>\n",
       "      <td>652</td>\n",
       "      <td>NR34</td>\n",
       "      <td>782</td>\n",
       "      <td>0.321627</td>\n",
       "      <td>0.749468</td>\n",
       "      <td>0.239271</td>\n",
       "      <td>0.484510</td>\n",
       "      <td>0.048794</td>\n",
       "    </tr>\n",
       "    <tr>\n",
       "      <th>275</th>\n",
       "      <td>653</td>\n",
       "      <td>NR34</td>\n",
       "      <td>864</td>\n",
       "      <td>0.198439</td>\n",
       "      <td>0.304104</td>\n",
       "      <td>0.143229</td>\n",
       "      <td>0.129277</td>\n",
       "      <td>0.131074</td>\n",
       "    </tr>\n",
       "    <tr>\n",
       "      <th>276</th>\n",
       "      <td>654</td>\n",
       "      <td>NR34</td>\n",
       "      <td>889</td>\n",
       "      <td>0.204868</td>\n",
       "      <td>0.602875</td>\n",
       "      <td>0.267096</td>\n",
       "      <td>0.486033</td>\n",
       "      <td>0.273694</td>\n",
       "    </tr>\n",
       "  </tbody>\n",
       "</table>\n",
       "<p>277 rows × 8 columns</p>\n",
       "</div>"
      ],
      "text/plain": [
       "Task                      Task1     Task2     Task3     Task4     Task5\n",
       "0       2  CFC16   25  0.176016  0.370542  0.195675  0.074955  0.409595\n",
       "1       5  CFC16   42  0.231165  0.317507  0.119218  0.104011  0.278749\n",
       "2       6  CFC16   44  0.225456  0.770215  0.433987  0.406075  0.628873\n",
       "3       7  CFC16   45  0.440464  0.623213  0.662165  0.411084  0.690923\n",
       "4       9  CFC16   57  0.143871  0.332310  0.122705  0.319964  0.159601\n",
       "..    ...    ...  ...       ...       ...       ...       ...       ...\n",
       "272   648   NR34  702  0.549192  0.674105  0.196541  0.370305  0.136727\n",
       "273   650   NR34  715  0.283874  0.583151  0.310785  0.220177  0.206526\n",
       "274   652   NR34  782  0.321627  0.749468  0.239271  0.484510  0.048794\n",
       "275   653   NR34  864  0.198439  0.304104  0.143229  0.129277  0.131074\n",
       "276   654   NR34  889  0.204868  0.602875  0.267096  0.486033  0.273694\n",
       "\n",
       "[277 rows x 8 columns]"
      ]
     },
     "execution_count": 55,
     "metadata": {},
     "output_type": "execute_result"
    }
   ],
   "source": [
    "x = reldf.reset_index().droplevel(level=0, axis=1)\n",
    "ind = x.index[(x[['Task1', 'Task2']]>=0.5).all(1)]\n",
    "print(len(ind))\n",
    "print(len(x))\n",
    "print(len(ind)/len(x))"
   ]
  },
  {
   "cell_type": "code",
   "execution_count": 16,
   "metadata": {
    "ExecuteTime": {
     "end_time": "2023-08-09T17:31:05.708337Z",
     "start_time": "2023-08-09T17:31:05.627770Z"
    }
   },
   "outputs": [
    {
     "data": {
      "text/html": [
       "<div>\n",
       "<style scoped>\n",
       "    .dataframe tbody tr th:only-of-type {\n",
       "        vertical-align: middle;\n",
       "    }\n",
       "\n",
       "    .dataframe tbody tr th {\n",
       "        vertical-align: top;\n",
       "    }\n",
       "\n",
       "    .dataframe thead th {\n",
       "        text-align: right;\n",
       "    }\n",
       "</style>\n",
       "<table border=\"1\" class=\"dataframe\">\n",
       "  <thead>\n",
       "    <tr style=\"text-align: right;\">\n",
       "      <th>Task</th>\n",
       "      <th>Task1</th>\n",
       "      <th>Task2</th>\n",
       "      <th>Task3</th>\n",
       "      <th>Task4</th>\n",
       "      <th>Task5</th>\n",
       "    </tr>\n",
       "  </thead>\n",
       "  <tbody>\n",
       "    <tr>\n",
       "      <th>174</th>\n",
       "      <td>0.935880</td>\n",
       "      <td>0.896841</td>\n",
       "      <td>0.806795</td>\n",
       "      <td>0.769540</td>\n",
       "      <td>0.854709</td>\n",
       "    </tr>\n",
       "    <tr>\n",
       "      <th>644</th>\n",
       "      <td>0.933016</td>\n",
       "      <td>0.926189</td>\n",
       "      <td>0.811507</td>\n",
       "      <td>0.575015</td>\n",
       "      <td>0.330650</td>\n",
       "    </tr>\n",
       "    <tr>\n",
       "      <th>281</th>\n",
       "      <td>0.924313</td>\n",
       "      <td>0.928670</td>\n",
       "      <td>0.590394</td>\n",
       "      <td>0.525205</td>\n",
       "      <td>0.401704</td>\n",
       "    </tr>\n",
       "    <tr>\n",
       "      <th>220</th>\n",
       "      <td>0.923041</td>\n",
       "      <td>0.908394</td>\n",
       "      <td>0.856305</td>\n",
       "      <td>0.706509</td>\n",
       "      <td>0.920562</td>\n",
       "    </tr>\n",
       "    <tr>\n",
       "      <th>191</th>\n",
       "      <td>0.910215</td>\n",
       "      <td>0.506771</td>\n",
       "      <td>0.881529</td>\n",
       "      <td>0.693476</td>\n",
       "      <td>0.770244</td>\n",
       "    </tr>\n",
       "  </tbody>\n",
       "</table>\n",
       "</div>"
      ],
      "text/plain": [
       "Task     Task1     Task2     Task3     Task4     Task5\n",
       "174   0.935880  0.896841  0.806795  0.769540  0.854709\n",
       "644   0.933016  0.926189  0.811507  0.575015  0.330650\n",
       "281   0.924313  0.928670  0.590394  0.525205  0.401704\n",
       "220   0.923041  0.908394  0.856305  0.706509  0.920562\n",
       "191   0.910215  0.506771  0.881529  0.693476  0.770244"
      ]
     },
     "execution_count": 16,
     "metadata": {},
     "output_type": "execute_result"
    }
   ],
   "source": [
    "data = reldf['Reliability']\n",
    "s = data.sum(axis=1)\n",
    "data = data.sort_values(by=['Task1', 'Task2', 'Task5'], ascending=False)\n",
    "data.head()"
   ]
  },
  {
   "cell_type": "code",
   "execution_count": 17,
   "metadata": {
    "ExecuteTime": {
     "end_time": "2023-08-09T17:31:06.313430Z",
     "start_time": "2023-08-09T17:31:05.713157Z"
    }
   },
   "outputs": [
    {
     "data": {
      "image/png": "[encoded data removed]",
      "text/plain": [
       "<Figure size 432x288 with 2 Axes>"
      ]
     },
     "metadata": {
      "needs_background": "light"
     },
     "output_type": "display_data"
    }
   ],
   "source": [
    "fs, ax = plt.subplots(1)\n",
    "sns.heatmap(data=data, vmin=0, vmax=1, cmap=sns.color_palette(\"RdBu\", as_cmap=True), ax=ax)\n",
    "ax.axis('off')\n",
    "fs.savefig(os.path.join(SaveFigureFolder, 'Reliability_heatmap_singlePFs.tiff'), bbox_inches='tight', dpi=300)"
   ]
  },
  {
   "cell_type": "code",
   "execution_count": 18,
   "metadata": {
    "ExecuteTime": {
     "end_time": "2023-08-09T17:31:06.825762Z",
     "start_time": "2023-08-09T17:31:06.322532Z"
    }
   },
   "outputs": [
    {
     "data": {
      "image/png": "[encoded data removed]",
      "text/plain": [
       "<Figure size 432x288 with 2 Axes>"
      ]
     },
     "metadata": {
      "needs_background": "light"
     },
     "output_type": "display_data"
    }
   ],
   "source": [
    "fs, ax = plt.subplots(1)\n",
    "sns.heatmap(data=data[data>=0.5].dropna(), vmin=0, vmax=1, cmap=sns.color_palette(\"RdBu\", as_cmap=True), ax=ax)\n",
    "ax.axis('off')\n",
    "fs.savefig(os.path.join(SaveFigureFolder, 'Reliability_heatmap_commonhighreliable.tiff'), bbox_inches='tight', dpi=300)"
   ]
  },
  {
   "cell_type": "markdown",
   "metadata": {},
   "source": [
    "## Reliability and out of field firing ratio correlation"
   ]
  },
  {
   "cell_type": "code",
   "execution_count": 6,
   "metadata": {
    "ExecuteTime": {
     "end_time": "2023-08-10T20:02:34.212325Z",
     "start_time": "2023-08-10T20:02:34.089224Z"
    }
   },
   "outputs": [],
   "source": [
    "a = commondf[commondf['Task'].isin(['taskstoplot'])][['Reliability', 'FiringRatio']]\n",
    "a = a.dropna()"
   ]
  },
  {
   "cell_type": "code",
   "execution_count": 7,
   "metadata": {
    "ExecuteTime": {
     "end_time": "2023-08-10T20:02:37.879251Z",
     "start_time": "2023-08-10T20:02:36.005220Z"
    }
   },
   "outputs": [
    {
     "name": "stdout",
     "output_type": "stream",
     "text": [
      "Corr=-0.369, P=0.000\n"
     ]
    },
    {
     "data": {
      "image/png": "[encoded data removed]",
      "text/plain": [
       "<Figure size 180x144 with 1 Axes>"
      ]
     },
     "metadata": {
      "needs_background": "light"
     },
     "output_type": "display_data"
    }
   ],
   "source": [
    "fs, ax = plt.subplots(1)\n",
    "sns.regplot(x='Reliability', y='FiringRatio', data=a, marker='o',\n",
    "                scatter_kws={'s':6}, ax=ax)\n",
    "c, p = scipy.stats.pearsonr(a['Reliability'], a['FiringRatio'])\n",
    "print('Corr=%0.3f, P=%0.3f' %(c, p))\n",
    "sns.despine(ax=ax)\n",
    "fs.set_size_inches((2.5, 2))\n",
    "fs.savefig(os.path.join(SaveFigureFolder, 'Reliability_vs_firingratio.pdf'), bbox_inches='tight')"
   ]
  },
  {
   "cell_type": "code",
   "execution_count": 21,
   "metadata": {
    "ExecuteTime": {
     "end_time": "2023-08-09T17:31:08.535373Z",
     "start_time": "2023-08-09T17:31:08.381770Z"
    }
   },
   "outputs": [
    {
     "name": "stdout",
     "output_type": "stream",
     "text": [
      "Corr=-0.326, P=0.000\n",
      "Corr=-0.326, P=0.000\n",
      "Corr=-0.340, P=0.000\n",
      "Corr=-0.338, P=0.000\n",
      "Corr=-0.416, P=0.000\n"
     ]
    }
   ],
   "source": [
    "c1 = []\n",
    "for t in taskstoplot:\n",
    "    a = commondf[commondf['Task']==t][['Reliability', 'FiringRatio']]\n",
    "    a = a.dropna()\n",
    "    c, p = scipy.stats.pearsonr(a['Reliability'], a['FiringRatio'])\n",
    "    c1.append(c)\n",
    "    print('Corr=%0.3f, P=%0.3f' %(c, p))"
   ]
  },
  {
   "cell_type": "code",
   "execution_count": 22,
   "metadata": {
    "ExecuteTime": {
     "end_time": "2023-08-09T17:31:08.621177Z",
     "start_time": "2023-08-09T17:31:08.545936Z"
    }
   },
   "outputs": [
    {
     "data": {
      "text/plain": [
       "-0.34940909408918275"
      ]
     },
     "execution_count": 22,
     "metadata": {},
     "output_type": "execute_result"
    }
   ],
   "source": [
    "np.mean(c1)"
   ]
  },
  {
   "cell_type": "markdown",
   "metadata": {},
   "source": [
    "## Reliability versus remapping in common place cells"
   ]
  },
  {
   "cell_type": "markdown",
   "metadata": {
    "ExecuteTime": {
     "end_time": "2023-08-09T17:33:58.190420Z",
     "start_time": "2023-08-09T17:33:58.095517Z"
    }
   },
   "source": [
    "### COM with Task1"
   ]
  },
  {
   "cell_type": "code",
   "execution_count": 8,
   "metadata": {
    "ExecuteTime": {
     "end_time": "2023-08-10T20:56:48.564229Z",
     "start_time": "2023-08-10T20:56:44.999281Z"
    }
   },
   "outputs": [],
   "source": [
    "reldict = {k:[] for k in ['Task', 'animalname', 'CellNumber', 'Reliability']}\n",
    "for a in num.animals:\n",
    "    df = commondf[commondf['animalname']==a]\n",
    "    numcells = df['CellNumber'].unique()\n",
    "    for c in numcells:\n",
    "        for t in taskstoplot:\n",
    "            reldict['Task'].append(t)\n",
    "            reldict['CellNumber'].append(c)\n",
    "            reldict['animalname'].append(a)\n",
    "            reliability = df[(df['Task']==t) & (df['CellNumber']==c)]['Reliability'].to_numpy()            \n",
    "            if len(reliability)==1:\n",
    "                reldict['Reliability'].append(reliability[0])\n",
    "            else:\n",
    "                reldict['Reliability'].append(np.nan)"
   ]
  },
  {
   "cell_type": "code",
   "execution_count": 9,
   "metadata": {
    "ExecuteTime": {
     "end_time": "2023-08-10T20:56:54.081432Z",
     "start_time": "2023-08-10T20:56:50.354951Z"
    }
   },
   "outputs": [],
   "source": [
    "comdict = {k:[] for k in ['Task', 'animalname', 'CellNumber', 'WeightedCOM']}\n",
    "for a in num.animals:\n",
    "    df = commondf[commondf['animalname']==a]\n",
    "    numcells = df['CellNumber'].unique()\n",
    "    for c in numcells:\n",
    "        for t in taskstoplot:\n",
    "            comdict['Task'].append(t)\n",
    "            comdict['CellNumber'].append(c)\n",
    "            comdict['animalname'].append(a)\n",
    "            com = df[(df['Task']==t) & (df['CellNumber']==c)]['WeightedCOM'].to_numpy()            \n",
    "            if len(com)==1:\n",
    "                comdict['WeightedCOM'].append(com[0])\n",
    "            else:\n",
    "                comdict['WeightedCOM'].append(np.nan)"
   ]
  },
  {
   "cell_type": "code",
   "execution_count": 10,
   "metadata": {
    "ExecuteTime": {
     "end_time": "2023-08-10T20:56:54.184251Z",
     "start_time": "2023-08-10T20:56:54.084185Z"
    }
   },
   "outputs": [],
   "source": [
    "reldf = pd.DataFrame.from_dict(reldict)\n",
    "reldf = reldf.pivot(index=['animalname', 'CellNumber'], columns=['Task'], values=['Reliability'])\n",
    "reldf = reldf.reset_index().dropna()"
   ]
  },
  {
   "cell_type": "code",
   "execution_count": 11,
   "metadata": {
    "ExecuteTime": {
     "end_time": "2023-08-10T20:56:54.274765Z",
     "start_time": "2023-08-10T20:56:54.188726Z"
    }
   },
   "outputs": [],
   "source": [
    "comdf = pd.DataFrame.from_dict(comdict)\n",
    "comdf = comdf.pivot(index=['animalname', 'CellNumber'], columns=['Task'], values=['WeightedCOM'])\n",
    "comdf = comdf.reset_index().dropna()"
   ]
  },
  {
   "cell_type": "code",
   "execution_count": 12,
   "metadata": {
    "ExecuteTime": {
     "end_time": "2023-08-10T20:56:56.148917Z",
     "start_time": "2023-08-10T20:56:55.992148Z"
    }
   },
   "outputs": [
    {
     "data": {
      "text/html": [
       "<div>\n",
       "<style scoped>\n",
       "    .dataframe tbody tr th:only-of-type {\n",
       "        vertical-align: middle;\n",
       "    }\n",
       "\n",
       "    .dataframe tbody tr th {\n",
       "        vertical-align: top;\n",
       "    }\n",
       "\n",
       "    .dataframe thead tr th {\n",
       "        text-align: left;\n",
       "    }\n",
       "</style>\n",
       "<table border=\"1\" class=\"dataframe\">\n",
       "  <thead>\n",
       "    <tr>\n",
       "      <th></th>\n",
       "      <th>animalname</th>\n",
       "      <th>CellNumber</th>\n",
       "      <th colspan=\"5\" halign=\"left\">Reliability</th>\n",
       "      <th colspan=\"5\" halign=\"left\">WeightedCOM</th>\n",
       "      <th>Diff_Task2</th>\n",
       "      <th>Diff_Task3</th>\n",
       "      <th>Diff_Task4</th>\n",
       "      <th>Diff_Task5</th>\n",
       "    </tr>\n",
       "    <tr>\n",
       "      <th>Task</th>\n",
       "      <th></th>\n",
       "      <th></th>\n",
       "      <th>Task1</th>\n",
       "      <th>Task2</th>\n",
       "      <th>Task3</th>\n",
       "      <th>Task4</th>\n",
       "      <th>Task5</th>\n",
       "      <th>Task1</th>\n",
       "      <th>Task2</th>\n",
       "      <th>Task3</th>\n",
       "      <th>Task4</th>\n",
       "      <th>Task5</th>\n",
       "      <th></th>\n",
       "      <th></th>\n",
       "      <th></th>\n",
       "      <th></th>\n",
       "    </tr>\n",
       "  </thead>\n",
       "  <tbody>\n",
       "    <tr>\n",
       "      <th>2</th>\n",
       "      <td>CFC16</td>\n",
       "      <td>25</td>\n",
       "      <td>0.176016</td>\n",
       "      <td>0.370542</td>\n",
       "      <td>0.195675</td>\n",
       "      <td>0.074955</td>\n",
       "      <td>0.409595</td>\n",
       "      <td>7.807550</td>\n",
       "      <td>6.196291</td>\n",
       "      <td>9.224117</td>\n",
       "      <td>12.933575</td>\n",
       "      <td>8.106968</td>\n",
       "      <td>1.611259</td>\n",
       "      <td>1.416567</td>\n",
       "      <td>5.126025</td>\n",
       "      <td>0.299417</td>\n",
       "    </tr>\n",
       "    <tr>\n",
       "      <th>5</th>\n",
       "      <td>CFC16</td>\n",
       "      <td>42</td>\n",
       "      <td>0.231165</td>\n",
       "      <td>0.317507</td>\n",
       "      <td>0.119218</td>\n",
       "      <td>0.104011</td>\n",
       "      <td>0.278749</td>\n",
       "      <td>35.367053</td>\n",
       "      <td>36.650177</td>\n",
       "      <td>31.770851</td>\n",
       "      <td>32.806902</td>\n",
       "      <td>29.336318</td>\n",
       "      <td>1.283124</td>\n",
       "      <td>3.596202</td>\n",
       "      <td>2.560151</td>\n",
       "      <td>6.030735</td>\n",
       "    </tr>\n",
       "    <tr>\n",
       "      <th>6</th>\n",
       "      <td>CFC16</td>\n",
       "      <td>44</td>\n",
       "      <td>0.225456</td>\n",
       "      <td>0.770215</td>\n",
       "      <td>0.433987</td>\n",
       "      <td>0.406075</td>\n",
       "      <td>0.628873</td>\n",
       "      <td>37.960576</td>\n",
       "      <td>38.157052</td>\n",
       "      <td>37.499877</td>\n",
       "      <td>34.649757</td>\n",
       "      <td>38.057436</td>\n",
       "      <td>0.196476</td>\n",
       "      <td>0.460700</td>\n",
       "      <td>3.310819</td>\n",
       "      <td>0.096859</td>\n",
       "    </tr>\n",
       "    <tr>\n",
       "      <th>7</th>\n",
       "      <td>CFC16</td>\n",
       "      <td>45</td>\n",
       "      <td>0.440464</td>\n",
       "      <td>0.623213</td>\n",
       "      <td>0.662165</td>\n",
       "      <td>0.411084</td>\n",
       "      <td>0.690923</td>\n",
       "      <td>33.232810</td>\n",
       "      <td>33.815395</td>\n",
       "      <td>35.717712</td>\n",
       "      <td>32.929517</td>\n",
       "      <td>33.444938</td>\n",
       "      <td>0.582586</td>\n",
       "      <td>2.484902</td>\n",
       "      <td>0.303293</td>\n",
       "      <td>0.212128</td>\n",
       "    </tr>\n",
       "    <tr>\n",
       "      <th>9</th>\n",
       "      <td>CFC16</td>\n",
       "      <td>57</td>\n",
       "      <td>0.143871</td>\n",
       "      <td>0.332310</td>\n",
       "      <td>0.122705</td>\n",
       "      <td>0.319964</td>\n",
       "      <td>0.159601</td>\n",
       "      <td>29.264342</td>\n",
       "      <td>36.592154</td>\n",
       "      <td>3.456125</td>\n",
       "      <td>32.144857</td>\n",
       "      <td>36.045110</td>\n",
       "      <td>7.327813</td>\n",
       "      <td>25.808217</td>\n",
       "      <td>2.880515</td>\n",
       "      <td>6.780768</td>\n",
       "    </tr>\n",
       "  </tbody>\n",
       "</table>\n",
       "</div>"
      ],
      "text/plain": [
       "     animalname CellNumber Reliability                                \\\n",
       "Task                             Task1     Task2     Task3     Task4   \n",
       "2         CFC16         25    0.176016  0.370542  0.195675  0.074955   \n",
       "5         CFC16         42    0.231165  0.317507  0.119218  0.104011   \n",
       "6         CFC16         44    0.225456  0.770215  0.433987  0.406075   \n",
       "7         CFC16         45    0.440464  0.623213  0.662165  0.411084   \n",
       "9         CFC16         57    0.143871  0.332310  0.122705  0.319964   \n",
       "\n",
       "               WeightedCOM                                              \\\n",
       "Task     Task5       Task1      Task2      Task3      Task4      Task5   \n",
       "2     0.409595    7.807550   6.196291   9.224117  12.933575   8.106968   \n",
       "5     0.278749   35.367053  36.650177  31.770851  32.806902  29.336318   \n",
       "6     0.628873   37.960576  38.157052  37.499877  34.649757  38.057436   \n",
       "7     0.690923   33.232810  33.815395  35.717712  32.929517  33.444938   \n",
       "9     0.159601   29.264342  36.592154   3.456125  32.144857  36.045110   \n",
       "\n",
       "     Diff_Task2 Diff_Task3 Diff_Task4 Diff_Task5  \n",
       "Task                                              \n",
       "2      1.611259   1.416567   5.126025   0.299417  \n",
       "5      1.283124   3.596202   2.560151   6.030735  \n",
       "6      0.196476   0.460700   3.310819   0.096859  \n",
       "7      0.582586   2.484902   0.303293   0.212128  \n",
       "9      7.327813  25.808217   2.880515   6.780768  "
      ]
     },
     "execution_count": 12,
     "metadata": {},
     "output_type": "execute_result"
    }
   ],
   "source": [
    "merged_df = pd.merge(reldf, comdf, left_index=True, right_index=True, how='outer', suffixes=('', '_y'))\n",
    "merged_df.drop(columns=list(merged_df.filter(regex='_y')), axis=1, inplace=True)\n",
    "for t in taskstoplot[1:]:\n",
    "    merged_df['Diff_%s' %t] = (merged_df['WeightedCOM']['Task1']-merged_df['WeightedCOM'][t]).abs()\n",
    "merged_df.head()"
   ]
  },
  {
   "cell_type": "code",
   "execution_count": 17,
   "metadata": {
    "ExecuteTime": {
     "end_time": "2023-08-10T20:57:44.874045Z",
     "start_time": "2023-08-10T20:57:44.826539Z"
    }
   },
   "outputs": [
    {
     "data": {
      "text/plain": [
       "10.719419236326395"
      ]
     },
     "execution_count": 17,
     "metadata": {},
     "output_type": "execute_result"
    }
   ],
   "source": [
    "merged_df['Diff_Task2'].mean()*5"
   ]
  },
  {
   "cell_type": "code",
   "execution_count": 127,
   "metadata": {
    "ExecuteTime": {
     "end_time": "2023-08-09T19:07:08.586661Z",
     "start_time": "2023-08-09T19:07:08.505459Z"
    }
   },
   "outputs": [
    {
     "name": "stdout",
     "output_type": "stream",
     "text": [
      "96\n"
     ]
    },
    {
     "data": {
      "text/html": [
       "<div>\n",
       "<style scoped>\n",
       "    .dataframe tbody tr th:only-of-type {\n",
       "        vertical-align: middle;\n",
       "    }\n",
       "\n",
       "    .dataframe tbody tr th {\n",
       "        vertical-align: top;\n",
       "    }\n",
       "\n",
       "    .dataframe thead th {\n",
       "        text-align: right;\n",
       "    }\n",
       "</style>\n",
       "<table border=\"1\" class=\"dataframe\">\n",
       "  <thead>\n",
       "    <tr style=\"text-align: right;\">\n",
       "      <th></th>\n",
       "      <th>CellNumber</th>\n",
       "      <th>animalname</th>\n",
       "      <th>Task</th>\n",
       "      <th>Reliability</th>\n",
       "      <th>Remap</th>\n",
       "    </tr>\n",
       "  </thead>\n",
       "  <tbody>\n",
       "    <tr>\n",
       "      <th>0</th>\n",
       "      <td>303</td>\n",
       "      <td>CFC16</td>\n",
       "      <td>Task1</td>\n",
       "      <td>0.235966</td>\n",
       "      <td>Less</td>\n",
       "    </tr>\n",
       "    <tr>\n",
       "      <th>1</th>\n",
       "      <td>328</td>\n",
       "      <td>CFC16</td>\n",
       "      <td>Task1</td>\n",
       "      <td>0.648066</td>\n",
       "      <td>Less</td>\n",
       "    </tr>\n",
       "    <tr>\n",
       "      <th>2</th>\n",
       "      <td>382</td>\n",
       "      <td>CFC16</td>\n",
       "      <td>Task1</td>\n",
       "      <td>0.397894</td>\n",
       "      <td>Less</td>\n",
       "    </tr>\n",
       "    <tr>\n",
       "      <th>3</th>\n",
       "      <td>572</td>\n",
       "      <td>CFC16</td>\n",
       "      <td>Task1</td>\n",
       "      <td>0.440387</td>\n",
       "      <td>Less</td>\n",
       "    </tr>\n",
       "    <tr>\n",
       "      <th>4</th>\n",
       "      <td>737</td>\n",
       "      <td>CFC16</td>\n",
       "      <td>Task1</td>\n",
       "      <td>0.440375</td>\n",
       "      <td>Less</td>\n",
       "    </tr>\n",
       "  </tbody>\n",
       "</table>\n",
       "</div>"
      ],
      "text/plain": [
       "   CellNumber animalname   Task  Reliability Remap\n",
       "0         303      CFC16  Task1     0.235966  Less\n",
       "1         328      CFC16  Task1     0.648066  Less\n",
       "2         382      CFC16  Task1     0.397894  Less\n",
       "3         572      CFC16  Task1     0.440387  Less\n",
       "4         737      CFC16  Task1     0.440375  Less"
      ]
     },
     "execution_count": 127,
     "metadata": {},
     "output_type": "execute_result"
    }
   ],
   "source": [
    "remap_less = merged_df[(merged_df[['Diff_Task2', 'Diff_Task3', 'Diff_Task4', 'Diff_Task5']]<=2).all(1)]\n",
    "print(len(remap_less))\n",
    "remap_less = remap_less[['animalname', 'CellNumber', 'Reliability']]\n",
    "remap_less = remap_less.set_index(['animalname','CellNumber'])\n",
    "remap_less.columns = remap_less.columns.droplevel(0)\n",
    "remap_less = remap_less.reset_index()\n",
    "melteddf_less = remap_less.melt(id_vars=['CellNumber', 'animalname'], var_name='Task', value_name='Reliability')\n",
    "melteddf_less['Remap'] = 'Less'\n",
    "melteddf_less.head()"
   ]
  },
  {
   "cell_type": "code",
   "execution_count": 128,
   "metadata": {
    "ExecuteTime": {
     "end_time": "2023-08-09T19:07:09.127559Z",
     "start_time": "2023-08-09T19:07:09.037963Z"
    }
   },
   "outputs": [
    {
     "name": "stdout",
     "output_type": "stream",
     "text": [
      "181\n"
     ]
    },
    {
     "data": {
      "text/html": [
       "<div>\n",
       "<style scoped>\n",
       "    .dataframe tbody tr th:only-of-type {\n",
       "        vertical-align: middle;\n",
       "    }\n",
       "\n",
       "    .dataframe tbody tr th {\n",
       "        vertical-align: top;\n",
       "    }\n",
       "\n",
       "    .dataframe thead th {\n",
       "        text-align: right;\n",
       "    }\n",
       "</style>\n",
       "<table border=\"1\" class=\"dataframe\">\n",
       "  <thead>\n",
       "    <tr style=\"text-align: right;\">\n",
       "      <th></th>\n",
       "      <th>CellNumber</th>\n",
       "      <th>animalname</th>\n",
       "      <th>Task</th>\n",
       "      <th>Reliability</th>\n",
       "      <th>Remap</th>\n",
       "    </tr>\n",
       "  </thead>\n",
       "  <tbody>\n",
       "    <tr>\n",
       "      <th>0</th>\n",
       "      <td>25</td>\n",
       "      <td>CFC16</td>\n",
       "      <td>Task1</td>\n",
       "      <td>0.176016</td>\n",
       "      <td>More</td>\n",
       "    </tr>\n",
       "    <tr>\n",
       "      <th>1</th>\n",
       "      <td>42</td>\n",
       "      <td>CFC16</td>\n",
       "      <td>Task1</td>\n",
       "      <td>0.231165</td>\n",
       "      <td>More</td>\n",
       "    </tr>\n",
       "    <tr>\n",
       "      <th>2</th>\n",
       "      <td>44</td>\n",
       "      <td>CFC16</td>\n",
       "      <td>Task1</td>\n",
       "      <td>0.225456</td>\n",
       "      <td>More</td>\n",
       "    </tr>\n",
       "    <tr>\n",
       "      <th>3</th>\n",
       "      <td>45</td>\n",
       "      <td>CFC16</td>\n",
       "      <td>Task1</td>\n",
       "      <td>0.440464</td>\n",
       "      <td>More</td>\n",
       "    </tr>\n",
       "    <tr>\n",
       "      <th>4</th>\n",
       "      <td>57</td>\n",
       "      <td>CFC16</td>\n",
       "      <td>Task1</td>\n",
       "      <td>0.143871</td>\n",
       "      <td>More</td>\n",
       "    </tr>\n",
       "  </tbody>\n",
       "</table>\n",
       "</div>"
      ],
      "text/plain": [
       "   CellNumber animalname   Task  Reliability Remap\n",
       "0          25      CFC16  Task1     0.176016  More\n",
       "1          42      CFC16  Task1     0.231165  More\n",
       "2          44      CFC16  Task1     0.225456  More\n",
       "3          45      CFC16  Task1     0.440464  More\n",
       "4          57      CFC16  Task1     0.143871  More"
      ]
     },
     "execution_count": 128,
     "metadata": {},
     "output_type": "execute_result"
    }
   ],
   "source": [
    "remap_more = merged_df[(merged_df[['Diff_Task2', 'Diff_Task3', 'Diff_Task4', 'Diff_Task5']]>2).any(1)]\n",
    "print(len(remap_more))\n",
    "remap_more = remap_more[['animalname', 'CellNumber', 'Reliability']]\n",
    "remap_more = remap_more.set_index(['animalname','CellNumber'])\n",
    "remap_more.columns = remap_more.columns.droplevel(0)\n",
    "remap_more = remap_more.reset_index()\n",
    "melteddf_more = remap_more.melt(id_vars=['CellNumber', 'animalname'], var_name='Task', value_name='Reliability')\n",
    "melteddf_more['Remap'] = 'More'\n",
    "melteddf_more.head()"
   ]
  },
  {
   "cell_type": "code",
   "execution_count": 159,
   "metadata": {
    "ExecuteTime": {
     "end_time": "2023-08-09T19:38:52.401079Z",
     "start_time": "2023-08-09T19:38:50.317394Z"
    }
   },
   "outputs": [
    {
     "data": {
      "image/png": "[encoded data removed]",
      "text/plain": [
       "<Figure size 360x216 with 2 Axes>"
      ]
     },
     "metadata": {
      "needs_background": "light"
     },
     "output_type": "display_data"
    }
   ],
   "source": [
    "fs, ax = plt.subplots(1, 2, sharex='all', sharey='all')\n",
    "for n, df in enumerate([melteddf_less, melteddf_more]):\n",
    "    sns.boxplot(data=df, x='Task', y='Reliability',\n",
    "                showfliers=False, ax=ax[n])\n",
    "\n",
    "for n, data in enumerate([remap_less, remap_more]):\n",
    "    for i, r in data.iterrows():\n",
    "        ax[n].plot(np.arange(len(taskstoplot))+0.25, r[taskstoplot], 'k-', linewidth=0.2, alpha=0.5)\n",
    "        \n",
    "for a in ax:\n",
    "    sns.despine(ax=a)\n",
    "\n",
    "fs.set_size_inches((5, 3))\n",
    "fs.savefig(os.path.join(SaveFigureFolder, 'Reliability_withamountofremapping.pdf'), bbox_inches='tight')"
   ]
  },
  {
   "cell_type": "code",
   "execution_count": 160,
   "metadata": {
    "ExecuteTime": {
     "end_time": "2023-08-09T19:39:05.086978Z",
     "start_time": "2023-08-09T19:39:04.477863Z"
    }
   },
   "outputs": [
    {
     "data": {
      "image/png": "[encoded data removed]",
      "text/plain": [
       "<Figure size 360x216 with 1 Axes>"
      ]
     },
     "metadata": {
      "needs_background": "light"
     },
     "output_type": "display_data"
    }
   ],
   "source": [
    "fs, ax = plt.subplots(1)\n",
    "df = pd.concat((melteddf_more, melteddf_less))\n",
    "sns.boxplot(data=df, x='Task', y='Reliability', hue='Remap', hue_order=['Less', 'More'], showfliers=False, ax=ax)\n",
    "sns.despine(ax=ax)\n",
    "ax.legend_.remove()\n",
    "fs.set_size_inches((5, 3))\n",
    "fs.savefig(os.path.join(SaveFigureFolder, 'Reliability_betweenremappingamounts.pdf'), bbox_inches='tight')"
   ]
  },
  {
   "cell_type": "code",
   "execution_count": 177,
   "metadata": {
    "ExecuteTime": {
     "end_time": "2023-08-10T01:09:09.995838Z",
     "start_time": "2023-08-10T01:09:09.941340Z"
    }
   },
   "outputs": [
    {
     "data": {
      "text/html": [
       "<table class=\"simpletable\">\n",
       "<caption>Test Multiple Comparison ks_2samp \n",
       "FWER=0.05 method=bonf\n",
       "alphacSidak=0.01, alphacBonf=0.005</caption>\n",
       "<tr>\n",
       "  <th>group1</th> <th>group2</th>  <th>stat</th>   <th>pval</th>  <th>pval_corr</th> <th>reject</th>\n",
       "</tr>\n",
       "<tr>\n",
       "   <td>Task1</td>  <td>Task2</td> <td>0.2265</td> <td>0.0002</td>  <td>0.0018</td>    <td>True</td> \n",
       "</tr>\n",
       "<tr>\n",
       "   <td>Task1</td>  <td>Task3</td> <td>0.2099</td> <td>0.0007</td>  <td>0.0066</td>    <td>True</td> \n",
       "</tr>\n",
       "<tr>\n",
       "   <td>Task1</td>  <td>Task4</td> <td>0.2265</td> <td>0.0002</td>  <td>0.0018</td>    <td>True</td> \n",
       "</tr>\n",
       "<tr>\n",
       "   <td>Task1</td>  <td>Task5</td> <td>0.0994</td> <td>0.3331</td>    <td>1.0</td>     <td>False</td>\n",
       "</tr>\n",
       "<tr>\n",
       "   <td>Task2</td>  <td>Task3</td> <td>0.3978</td>   <td>0.0</td>     <td>0.0</td>     <td>True</td> \n",
       "</tr>\n",
       "<tr>\n",
       "   <td>Task2</td>  <td>Task4</td> <td>0.3702</td>   <td>0.0</td>     <td>0.0</td>     <td>True</td> \n",
       "</tr>\n",
       "<tr>\n",
       "   <td>Task2</td>  <td>Task5</td> <td>0.1768</td> <td>0.0069</td>  <td>0.0689</td>    <td>False</td>\n",
       "</tr>\n",
       "<tr>\n",
       "   <td>Task3</td>  <td>Task4</td> <td>0.0884</td> <td>0.4803</td>    <td>1.0</td>     <td>False</td>\n",
       "</tr>\n",
       "<tr>\n",
       "   <td>Task3</td>  <td>Task5</td> <td>0.2431</td>   <td>0.0</td>   <td>0.0004</td>    <td>True</td> \n",
       "</tr>\n",
       "<tr>\n",
       "   <td>Task4</td>  <td>Task5</td>  <td>0.232</td> <td>0.0001</td>  <td>0.0011</td>    <td>True</td> \n",
       "</tr>\n",
       "</table>"
      ],
      "text/plain": [
       "<class 'statsmodels.iolib.table.SimpleTable'>"
      ]
     },
     "execution_count": 177,
     "metadata": {},
     "output_type": "execute_result"
    }
   ],
   "source": [
    "from scipy import stats\n",
    "import statsmodels.stats.multicomp as mc\n",
    "\n",
    "comp1 = mc.MultiComparison(melteddf_more['Reliability'], melteddf_more['Task'])\n",
    "tbl, a1, a2 = comp1.allpairtest(stats.ks_2samp, method= \"bonf\")\n",
    "tbl"
   ]
  },
  {
   "cell_type": "code",
   "execution_count": 168,
   "metadata": {
    "ExecuteTime": {
     "end_time": "2023-08-09T20:37:23.952592Z",
     "start_time": "2023-08-09T20:36:55.433417Z"
    }
   },
   "outputs": [
    {
     "data": {
      "image/png": "[encoded data removed]",
      "text/plain": [
       "<Figure size 288x288 with 1 Axes>"
      ]
     },
     "metadata": {},
     "output_type": "display_data"
    }
   ],
   "source": [
    "fs, ax = plt.subplots(1)\n",
    "remap_less['Index'] = remap_less.index\n",
    "sequential_repeated_measures = dabest.load(remap_less, idx=('Task1', 'Task2', 'Task3', 'Task4', 'Task5'),\n",
    "                                             id_col=\"Index\", paired='sequential')\n",
    "sequential_repeated_measures.mean_diff.plot(ax=ax, float_contrast=False, es_marker_size=5);\n",
    "fs.set_size_inches((4, 4))\n",
    "fs.savefig(os.path.join(SaveFigureFolder, 'Reliability_withlessremapping_dabest.pdf'), bbox_inches='tight')"
   ]
  },
  {
   "cell_type": "code",
   "execution_count": 169,
   "metadata": {
    "ExecuteTime": {
     "end_time": "2023-08-09T20:38:11.588532Z",
     "start_time": "2023-08-09T20:37:24.036811Z"
    }
   },
   "outputs": [
    {
     "data": {
      "image/png": "[encoded data removed]",
      "text/plain": [
       "<Figure size 288x288 with 1 Axes>"
      ]
     },
     "metadata": {},
     "output_type": "display_data"
    }
   ],
   "source": [
    "fs, ax = plt.subplots(1)\n",
    "remap_more['Index'] = remap_more.index\n",
    "sequential_repeated_measures = dabest.load(remap_more, idx=('Task1', 'Task2', 'Task3', 'Task4', 'Task5'),\n",
    "                                             id_col=\"Index\", paired='sequential')\n",
    "sequential_repeated_measures.mean_diff.plot(ax=ax, float_contrast=False, es_marker_size=5);\n",
    "fs.set_size_inches((4, 4))\n",
    "fs.savefig(os.path.join(SaveFigureFolder, 'Reliability_withmoreremapping_dabest.pdf'), bbox_inches='tight')"
   ]
  },
  {
   "cell_type": "code",
   "execution_count": 189,
   "metadata": {
    "ExecuteTime": {
     "end_time": "2023-08-10T01:22:01.913016Z",
     "start_time": "2023-08-10T01:22:01.724718Z"
    }
   },
   "outputs": [
    {
     "name": "stdout",
     "output_type": "stream",
     "text": [
      "Task: Task1, tstat=0.290, p=0.000\n",
      "Task: Task2, tstat=0.235, p=0.002\n",
      "Task: Task3, tstat=0.325, p=0.000\n",
      "Task: Task4, tstat=0.312, p=0.000\n",
      "Task: Task5, tstat=0.202, p=0.010\n"
     ]
    }
   ],
   "source": [
    "df = pd.concat((melteddf_more, melteddf_less))\n",
    "\n",
    "for t in taskstoplot:\n",
    "    data1 = df[(df['Task']==t) & (df['Remap']=='Less')]['Reliability']\n",
    "    data2 = df[(df['Task']==t) & (df['Remap']=='More')]['Reliability']\n",
    "    a, p = stats.ks_2samp(data1, data2)\n",
    "    print('Task: %s, tstat=%0.3f, p=%0.3f' %(t, a, p))"
   ]
  },
  {
   "cell_type": "markdown",
   "metadata": {},
   "source": [
    "## Reliability numbers common versus uncommon"
   ]
  },
  {
   "cell_type": "code",
   "execution_count": 34,
   "metadata": {
    "ExecuteTime": {
     "end_time": "2023-11-16T22:05:58.794121Z",
     "start_time": "2023-11-16T22:05:54.431492Z"
    }
   },
   "outputs": [],
   "source": [
    "reldict = {k:[] for k in ['Task', 'animalname', 'CellNumber', 'Reliability']}\n",
    "for a in num.animals:\n",
    "    df = commondf[commondf['animalname']==a]\n",
    "    numcells = df['CellNumber'].unique()\n",
    "    for c in numcells:\n",
    "        for t in taskstoplot:\n",
    "            reldict['Task'].append(t)\n",
    "            reldict['CellNumber'].append(c)\n",
    "            reldict['animalname'].append(a)\n",
    "            reliability = df[(df['Task']==t) & (df['CellNumber']==c)]['Reliability'].to_numpy()            \n",
    "            if len(reliability):\n",
    "                reldict['Reliability'].append(reliability[0])\n",
    "            else:\n",
    "                reldict['Reliability'].append(np.nan)"
   ]
  },
  {
   "cell_type": "code",
   "execution_count": 35,
   "metadata": {
    "ExecuteTime": {
     "end_time": "2023-11-16T22:05:58.862742Z",
     "start_time": "2023-11-16T22:05:58.797270Z"
    }
   },
   "outputs": [],
   "source": [
    "reldf = pd.DataFrame.from_dict(reldict)\n",
    "reldf = reldf.pivot(index=['animalname', 'CellNumber'], columns=['Task'], values=['Reliability'])\n",
    "# reldf = reldf.reset_index().dropna()"
   ]
  },
  {
   "cell_type": "code",
   "execution_count": 36,
   "metadata": {
    "ExecuteTime": {
     "end_time": "2023-11-16T22:05:58.945354Z",
     "start_time": "2023-11-16T22:05:58.868822Z"
    }
   },
   "outputs": [
    {
     "data": {
      "text/html": [
       "<div>\n",
       "<style scoped>\n",
       "    .dataframe tbody tr th:only-of-type {\n",
       "        vertical-align: middle;\n",
       "    }\n",
       "\n",
       "    .dataframe tbody tr th {\n",
       "        vertical-align: top;\n",
       "    }\n",
       "\n",
       "    .dataframe thead th {\n",
       "        text-align: right;\n",
       "    }\n",
       "</style>\n",
       "<table border=\"1\" class=\"dataframe\">\n",
       "  <thead>\n",
       "    <tr style=\"text-align: right;\">\n",
       "      <th></th>\n",
       "      <th>Task</th>\n",
       "      <th>Task1</th>\n",
       "      <th>Task2</th>\n",
       "      <th>Task3</th>\n",
       "      <th>Task4</th>\n",
       "      <th>Task5</th>\n",
       "    </tr>\n",
       "    <tr>\n",
       "      <th>animalname</th>\n",
       "      <th>CellNumber</th>\n",
       "      <th></th>\n",
       "      <th></th>\n",
       "      <th></th>\n",
       "      <th></th>\n",
       "      <th></th>\n",
       "    </tr>\n",
       "  </thead>\n",
       "  <tbody>\n",
       "    <tr>\n",
       "      <th rowspan=\"3\" valign=\"top\">NR34</th>\n",
       "      <th>129</th>\n",
       "      <td>0.946049</td>\n",
       "      <td>0.919521</td>\n",
       "      <td>0.268406</td>\n",
       "      <td>0.337744</td>\n",
       "      <td>0.137906</td>\n",
       "    </tr>\n",
       "    <tr>\n",
       "      <th>514</th>\n",
       "      <td>0.940192</td>\n",
       "      <td>0.631046</td>\n",
       "      <td>0.242543</td>\n",
       "      <td>0.556274</td>\n",
       "      <td>NaN</td>\n",
       "    </tr>\n",
       "    <tr>\n",
       "      <th>252</th>\n",
       "      <td>0.935896</td>\n",
       "      <td>0.919480</td>\n",
       "      <td>0.428074</td>\n",
       "      <td>0.420505</td>\n",
       "      <td>0.251564</td>\n",
       "    </tr>\n",
       "    <tr>\n",
       "      <th>CFC17</th>\n",
       "      <th>108</th>\n",
       "      <td>0.935880</td>\n",
       "      <td>0.896841</td>\n",
       "      <td>0.806795</td>\n",
       "      <td>0.769540</td>\n",
       "      <td>0.854709</td>\n",
       "    </tr>\n",
       "    <tr>\n",
       "      <th>NR34</th>\n",
       "      <th>625</th>\n",
       "      <td>0.933016</td>\n",
       "      <td>0.926189</td>\n",
       "      <td>0.811507</td>\n",
       "      <td>0.575015</td>\n",
       "      <td>0.330650</td>\n",
       "    </tr>\n",
       "  </tbody>\n",
       "</table>\n",
       "</div>"
      ],
      "text/plain": [
       "Task                      Task1     Task2     Task3     Task4     Task5\n",
       "animalname CellNumber                                                  \n",
       "NR34       129         0.946049  0.919521  0.268406  0.337744  0.137906\n",
       "           514         0.940192  0.631046  0.242543  0.556274       NaN\n",
       "           252         0.935896  0.919480  0.428074  0.420505  0.251564\n",
       "CFC17      108         0.935880  0.896841  0.806795  0.769540  0.854709\n",
       "NR34       625         0.933016  0.926189  0.811507  0.575015  0.330650"
      ]
     },
     "execution_count": 36,
     "metadata": {},
     "output_type": "execute_result"
    }
   ],
   "source": [
    "data = reldf['Reliability']\n",
    "data = data.sort_values(by=['Task1', 'Task2', 'Task5'], ascending=False)\n",
    "data.head()"
   ]
  },
  {
   "cell_type": "code",
   "execution_count": 38,
   "metadata": {
    "ExecuteTime": {
     "end_time": "2023-11-16T22:06:09.255364Z",
     "start_time": "2023-11-16T22:06:09.214570Z"
    }
   },
   "outputs": [],
   "source": [
    "df = num.updateddf"
   ]
  },
  {
   "cell_type": "code",
   "execution_count": 39,
   "metadata": {
    "ExecuteTime": {
     "end_time": "2023-11-16T22:06:09.730989Z",
     "start_time": "2023-11-16T22:06:09.683794Z"
    }
   },
   "outputs": [
    {
     "data": {
      "text/plain": [
       "186"
      ]
     },
     "execution_count": 39,
     "metadata": {},
     "output_type": "execute_result"
    }
   ],
   "source": [
    "len(df[(df['Task']=='Task3') & (df['Reliability']>=0.5) & (df['CommonCells']==True)])"
   ]
  },
  {
   "cell_type": "code",
   "execution_count": 40,
   "metadata": {
    "ExecuteTime": {
     "end_time": "2023-11-16T22:06:32.005674Z",
     "start_time": "2023-11-16T22:06:31.952426Z"
    }
   },
   "outputs": [
    {
     "data": {
      "text/plain": [
       "33"
      ]
     },
     "execution_count": 40,
     "metadata": {},
     "output_type": "execute_result"
    }
   ],
   "source": [
    "len(data[data>=0.5].dropna())"
   ]
  },
  {
   "cell_type": "code",
   "execution_count": 41,
   "metadata": {
    "ExecuteTime": {
     "end_time": "2023-11-16T22:06:53.374989Z",
     "start_time": "2023-11-16T22:06:53.325056Z"
    }
   },
   "outputs": [
    {
     "data": {
      "text/plain": [
       "269"
      ]
     },
     "execution_count": 41,
     "metadata": {},
     "output_type": "execute_result"
    }
   ],
   "source": [
    "len(df[(df['Task']=='Task3') & (df['Reliability']>=0.5)])"
   ]
  },
  {
   "cell_type": "code",
   "execution_count": 42,
   "metadata": {
    "ExecuteTime": {
     "end_time": "2023-11-16T22:07:04.875549Z",
     "start_time": "2023-11-16T22:07:04.834067Z"
    }
   },
   "outputs": [
    {
     "data": {
      "text/plain": [
       "0.12267657992565056"
      ]
     },
     "execution_count": 42,
     "metadata": {},
     "output_type": "execute_result"
    }
   ],
   "source": [
    "33/269"
   ]
  },
  {
   "cell_type": "code",
   "execution_count": null,
   "metadata": {},
   "outputs": [],
   "source": []
  }
 ],
 "metadata": {
  "kernelspec": {
   "display_name": "Python 3",
   "language": "python",
   "name": "python3"
  },
  "language_info": {
   "codemirror_mode": {
    "name": "ipython",
    "version": 3
   },
   "file_extension": ".py",
   "mimetype": "text/x-python",
   "name": "python",
   "nbconvert_exporter": "python",
   "pygments_lexer": "ipython3",
   "version": "3.8.5"
  },
  "toc": {
   "base_numbering": 1,
   "nav_menu": {},
   "number_sections": true,
   "sideBar": true,
   "skip_h1_title": false,
   "title_cell": "Table of Contents",
   "title_sidebar": "Contents",
   "toc_cell": false,
   "toc_position": {},
   "toc_section_display": true,
   "toc_window_display": false
  }
 },
 "nbformat": 4,
 "nbformat_minor": 4
}
