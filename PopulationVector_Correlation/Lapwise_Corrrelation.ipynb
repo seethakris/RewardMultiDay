{
 "cells": [
  {
   "cell_type": "code",
   "execution_count": 1,
   "metadata": {
    "ExecuteTime": {
     "end_time": "2023-12-10T14:51:13.520510Z",
     "start_time": "2023-12-10T14:51:10.397756Z"
    }
   },
   "outputs": [],
   "source": [
    "import os\n",
    "import scipy.io\n",
    "import matplotlib.pyplot as plt\n",
    "import numpy as np\n",
    "import seaborn as sns\n",
    "sns.set_context('paper', font_scale=1.1)\n",
    "import pandas as pd\n",
    "import warnings\n",
    "from scipy import stats\n",
    "import sys\n",
    "\n",
    "warnings.filterwarnings('ignore')\n",
    "%matplotlib inline\n",
    "%load_ext autoreload\n",
    "%autoreload 2"
   ]
  },
  {
   "cell_type": "code",
   "execution_count": 2,
   "metadata": {
    "ExecuteTime": {
     "end_time": "2023-12-10T14:51:13.605166Z",
     "start_time": "2023-12-10T14:51:13.523264Z"
    }
   },
   "outputs": [],
   "source": [
    "from lapwise_corrrelation import GetData as gd"
   ]
  },
  {
   "cell_type": "code",
   "execution_count": 3,
   "metadata": {
    "ExecuteTime": {
     "end_time": "2023-12-10T14:51:13.679500Z",
     "start_time": "2023-12-10T14:51:13.612369Z"
    }
   },
   "outputs": [],
   "source": [
    "DirectoryName = '/Users/seetha/Box Sync/MultiDayData/Data/'\n",
    "SaveFigureFolder = '/Users/seetha/Box Sync/MultiDayData/MultiDayPaper/Figures/FigurepanelsPDF/PV_correlation/'"
   ]
  },
  {
   "cell_type": "code",
   "execution_count": 4,
   "metadata": {
    "ExecuteTime": {
     "end_time": "2023-12-10T14:52:07.169438Z",
     "start_time": "2023-12-10T14:51:13.688779Z"
    }
   },
   "outputs": [
    {
     "name": "stdout",
     "output_type": "stream",
     "text": [
      "NR34\n",
      "CFC17\n",
      "NR32\n",
      "CFC16\n",
      "CFC18\n"
     ]
    }
   ],
   "source": [
    "lc1 = gd(FolderName=DirectoryName, base_task='Task1')"
   ]
  },
  {
   "cell_type": "code",
   "execution_count": 5,
   "metadata": {
    "ExecuteTime": {
     "end_time": "2023-12-10T14:53:30.308220Z",
     "start_time": "2023-12-10T14:52:07.172209Z"
    }
   },
   "outputs": [
    {
     "name": "stdout",
     "output_type": "stream",
     "text": [
      "NR34\n",
      "CFC17\n",
      "NR32\n",
      "CFC16\n",
      "CFC18\n"
     ]
    }
   ],
   "source": [
    "lc2 = gd(FolderName=DirectoryName, base_task='Task3')"
   ]
  },
  {
   "cell_type": "code",
   "execution_count": 6,
   "metadata": {
    "ExecuteTime": {
     "end_time": "2023-12-10T14:53:34.655501Z",
     "start_time": "2023-12-10T14:53:30.311312Z"
    }
   },
   "outputs": [
    {
     "name": "stdout",
     "output_type": "stream",
     "text": [
      "NR34\n"
     ]
    },
    {
     "ename": "KeyboardInterrupt",
     "evalue": "",
     "output_type": "error",
     "traceback": [
      "\u001b[0;31m---------------------------------------------------------------------------\u001b[0m",
      "\u001b[0;31mKeyboardInterrupt\u001b[0m                         Traceback (most recent call last)",
      "\u001b[0;32m<ipython-input-6-4e00b6cac256>\u001b[0m in \u001b[0;36m<module>\u001b[0;34m\u001b[0m\n\u001b[0;32m----> 1\u001b[0;31m \u001b[0mlc3\u001b[0m \u001b[0;34m=\u001b[0m \u001b[0mgd\u001b[0m\u001b[0;34m(\u001b[0m\u001b[0mFolderName\u001b[0m\u001b[0;34m=\u001b[0m\u001b[0mDirectoryName\u001b[0m\u001b[0;34m,\u001b[0m \u001b[0mbase_task\u001b[0m\u001b[0;34m=\u001b[0m\u001b[0;34m'Task2'\u001b[0m\u001b[0;34m)\u001b[0m\u001b[0;34m\u001b[0m\u001b[0;34m\u001b[0m\u001b[0m\n\u001b[0m",
      "\u001b[0;32m~/Box Sync/MultiDayData/Scripts/PopulationVector_Correlation/lapwise_corrrelation.py\u001b[0m in \u001b[0;36m__init__\u001b[0;34m(self, FolderName, base_task)\u001b[0m\n\u001b[1;32m     26\u001b[0m         \u001b[0;32mfor\u001b[0m \u001b[0ma\u001b[0m \u001b[0;32min\u001b[0m \u001b[0mself\u001b[0m\u001b[0;34m.\u001b[0m\u001b[0manimals\u001b[0m\u001b[0;34m:\u001b[0m\u001b[0;34m\u001b[0m\u001b[0;34m\u001b[0m\u001b[0m\n\u001b[1;32m     27\u001b[0m             \u001b[0mprint\u001b[0m\u001b[0;34m(\u001b[0m\u001b[0ma\u001b[0m\u001b[0;34m)\u001b[0m\u001b[0;34m\u001b[0m\u001b[0;34m\u001b[0m\u001b[0m\n\u001b[0;32m---> 28\u001b[0;31m             \u001b[0mself\u001b[0m\u001b[0;34m.\u001b[0m\u001b[0mcorr_animal\u001b[0m\u001b[0;34m[\u001b[0m\u001b[0ma\u001b[0m\u001b[0;34m]\u001b[0m \u001b[0;34m=\u001b[0m \u001b[0mself\u001b[0m\u001b[0;34m.\u001b[0m\u001b[0mcorrelate_acivity_of_allcellsbytask\u001b[0m\u001b[0;34m(\u001b[0m\u001b[0ma\u001b[0m\u001b[0;34m,\u001b[0m \u001b[0mbase_task\u001b[0m\u001b[0;34m)\u001b[0m\u001b[0;34m\u001b[0m\u001b[0;34m\u001b[0m\u001b[0m\n\u001b[0m\u001b[1;32m     29\u001b[0m \u001b[0;34m\u001b[0m\u001b[0m\n\u001b[1;32m     30\u001b[0m     \u001b[0;32mdef\u001b[0m \u001b[0mget_place_cellinfo\u001b[0m\u001b[0;34m(\u001b[0m\u001b[0mself\u001b[0m\u001b[0;34m,\u001b[0m \u001b[0manimal\u001b[0m\u001b[0;34m)\u001b[0m\u001b[0;34m:\u001b[0m\u001b[0;34m\u001b[0m\u001b[0;34m\u001b[0m\u001b[0m\n",
      "\u001b[0;32m~/Box Sync/MultiDayData/Scripts/PopulationVector_Correlation/lapwise_corrrelation.py\u001b[0m in \u001b[0;36mcorrelate_acivity_of_allcellsbytask\u001b[0;34m(self, animal, TaskA)\u001b[0m\n\u001b[1;32m     60\u001b[0m                 \u001b[0;31m# plt.plot(np.nanmean(data_formapping[0, c][:, -5:], 1))\u001b[0m\u001b[0;34m\u001b[0m\u001b[0;34m\u001b[0m\u001b[0;34m\u001b[0m\u001b[0m\n\u001b[1;32m     61\u001b[0m                 \u001b[0;31m# plt.show()\u001b[0m\u001b[0;34m\u001b[0m\u001b[0;34m\u001b[0m\u001b[0;34m\u001b[0m\u001b[0m\n\u001b[0;32m---> 62\u001b[0;31m                 \u001b[0mdata2\u001b[0m \u001b[0;34m=\u001b[0m \u001b[0mnp\u001b[0m\u001b[0;34m.\u001b[0m\u001b[0mnan_to_num\u001b[0m\u001b[0;34m(\u001b[0m\u001b[0mx\u001b[0m\u001b[0;34m[\u001b[0m\u001b[0;34m'Allbinned_F'\u001b[0m\u001b[0;34m]\u001b[0m\u001b[0;34m[\u001b[0m\u001b[0;36m0\u001b[0m\u001b[0;34m,\u001b[0m \u001b[0mc\u001b[0m\u001b[0;34m]\u001b[0m\u001b[0;34m)\u001b[0m\u001b[0;34m\u001b[0m\u001b[0;34m\u001b[0m\u001b[0m\n\u001b[0m\u001b[1;32m     63\u001b[0m                 \u001b[0;32mfor\u001b[0m \u001b[0ml\u001b[0m \u001b[0;32min\u001b[0m \u001b[0mrange\u001b[0m\u001b[0;34m(\u001b[0m\u001b[0;36m0\u001b[0m\u001b[0;34m,\u001b[0m \u001b[0mlaps\u001b[0m\u001b[0;34m)\u001b[0m\u001b[0;34m:\u001b[0m\u001b[0;34m\u001b[0m\u001b[0;34m\u001b[0m\u001b[0m\n\u001b[1;32m     64\u001b[0m                     \u001b[0mtemp\u001b[0m \u001b[0;34m=\u001b[0m \u001b[0mnp\u001b[0m\u001b[0;34m.\u001b[0m\u001b[0mcorrcoef\u001b[0m\u001b[0;34m(\u001b[0m\u001b[0mdata2\u001b[0m\u001b[0;34m[\u001b[0m\u001b[0;34m:\u001b[0m\u001b[0;34m,\u001b[0m \u001b[0ml\u001b[0m\u001b[0;34m]\u001b[0m\u001b[0;34m,\u001b[0m \u001b[0mdata1\u001b[0m\u001b[0;34m)\u001b[0m\u001b[0;34m[\u001b[0m\u001b[0;36m0\u001b[0m\u001b[0;34m,\u001b[0m \u001b[0;36m1\u001b[0m\u001b[0;34m]\u001b[0m\u001b[0;34m\u001b[0m\u001b[0;34m\u001b[0m\u001b[0m\n",
      "\u001b[0;32m/opt/anaconda3/envs/noreward/lib/python3.8/site-packages/numpy/core/overrides.py\u001b[0m in \u001b[0;36mnan_to_num\u001b[0;34m(*args, **kwargs)\u001b[0m\n",
      "\u001b[0;32m/opt/anaconda3/envs/noreward/lib/python3.8/site-packages/numpy/lib/type_check.py\u001b[0m in \u001b[0;36mnan_to_num\u001b[0;34m(x, copy, nan, posinf, neginf)\u001b[0m\n\u001b[1;32m    507\u001b[0m \u001b[0;34m\u001b[0m\u001b[0m\n\u001b[1;32m    508\u001b[0m     \u001b[0mdest\u001b[0m \u001b[0;34m=\u001b[0m \u001b[0;34m(\u001b[0m\u001b[0mx\u001b[0m\u001b[0;34m.\u001b[0m\u001b[0mreal\u001b[0m\u001b[0;34m,\u001b[0m \u001b[0mx\u001b[0m\u001b[0;34m.\u001b[0m\u001b[0mimag\u001b[0m\u001b[0;34m)\u001b[0m \u001b[0;32mif\u001b[0m \u001b[0miscomplex\u001b[0m \u001b[0;32melse\u001b[0m \u001b[0;34m(\u001b[0m\u001b[0mx\u001b[0m\u001b[0;34m,\u001b[0m\u001b[0;34m)\u001b[0m\u001b[0;34m\u001b[0m\u001b[0;34m\u001b[0m\u001b[0m\n\u001b[0;32m--> 509\u001b[0;31m     \u001b[0mmaxf\u001b[0m\u001b[0;34m,\u001b[0m \u001b[0mminf\u001b[0m \u001b[0;34m=\u001b[0m \u001b[0m_getmaxmin\u001b[0m\u001b[0;34m(\u001b[0m\u001b[0mx\u001b[0m\u001b[0;34m.\u001b[0m\u001b[0mreal\u001b[0m\u001b[0;34m.\u001b[0m\u001b[0mdtype\u001b[0m\u001b[0;34m)\u001b[0m\u001b[0;34m\u001b[0m\u001b[0;34m\u001b[0m\u001b[0m\n\u001b[0m\u001b[1;32m    510\u001b[0m     \u001b[0;32mif\u001b[0m \u001b[0mposinf\u001b[0m \u001b[0;32mis\u001b[0m \u001b[0;32mnot\u001b[0m \u001b[0;32mNone\u001b[0m\u001b[0;34m:\u001b[0m\u001b[0;34m\u001b[0m\u001b[0;34m\u001b[0m\u001b[0m\n\u001b[1;32m    511\u001b[0m         \u001b[0mmaxf\u001b[0m \u001b[0;34m=\u001b[0m \u001b[0mposinf\u001b[0m\u001b[0;34m\u001b[0m\u001b[0;34m\u001b[0m\u001b[0m\n",
      "\u001b[0;32m/opt/anaconda3/envs/noreward/lib/python3.8/site-packages/numpy/lib/type_check.py\u001b[0m in \u001b[0;36m_getmaxmin\u001b[0;34m(t)\u001b[0m\n\u001b[1;32m    393\u001b[0m \u001b[0;34m\u001b[0m\u001b[0m\n\u001b[1;32m    394\u001b[0m \u001b[0;32mdef\u001b[0m \u001b[0m_getmaxmin\u001b[0m\u001b[0;34m(\u001b[0m\u001b[0mt\u001b[0m\u001b[0;34m)\u001b[0m\u001b[0;34m:\u001b[0m\u001b[0;34m\u001b[0m\u001b[0;34m\u001b[0m\u001b[0m\n\u001b[0;32m--> 395\u001b[0;31m     \u001b[0;32mfrom\u001b[0m \u001b[0mnumpy\u001b[0m\u001b[0;34m.\u001b[0m\u001b[0mcore\u001b[0m \u001b[0;32mimport\u001b[0m \u001b[0mgetlimits\u001b[0m\u001b[0;34m\u001b[0m\u001b[0;34m\u001b[0m\u001b[0m\n\u001b[0m\u001b[1;32m    396\u001b[0m     \u001b[0mf\u001b[0m \u001b[0;34m=\u001b[0m \u001b[0mgetlimits\u001b[0m\u001b[0;34m.\u001b[0m\u001b[0mfinfo\u001b[0m\u001b[0;34m(\u001b[0m\u001b[0mt\u001b[0m\u001b[0;34m)\u001b[0m\u001b[0;34m\u001b[0m\u001b[0;34m\u001b[0m\u001b[0m\n\u001b[1;32m    397\u001b[0m     \u001b[0;32mreturn\u001b[0m \u001b[0mf\u001b[0m\u001b[0;34m.\u001b[0m\u001b[0mmax\u001b[0m\u001b[0;34m,\u001b[0m \u001b[0mf\u001b[0m\u001b[0;34m.\u001b[0m\u001b[0mmin\u001b[0m\u001b[0;34m\u001b[0m\u001b[0;34m\u001b[0m\u001b[0m\n",
      "\u001b[0;32m/opt/anaconda3/envs/noreward/lib/python3.8/importlib/_bootstrap.py\u001b[0m in \u001b[0;36m_handle_fromlist\u001b[0;34m(module, fromlist, import_, recursive)\u001b[0m\n",
      "\u001b[0;31mKeyboardInterrupt\u001b[0m: "
     ]
    }
   ],
   "source": [
    "lc3 = gd(FolderName=DirectoryName, base_task='Task2')"
   ]
  },
  {
   "cell_type": "code",
   "execution_count": null,
   "metadata": {
    "ExecuteTime": {
     "end_time": "2023-12-10T14:53:34.697666Z",
     "start_time": "2023-12-10T14:51:14.853Z"
    }
   },
   "outputs": [],
   "source": [
    "lc4 = gd(FolderName=DirectoryName, base_task='Task4')"
   ]
  },
  {
   "cell_type": "code",
   "execution_count": 7,
   "metadata": {
    "ExecuteTime": {
     "end_time": "2023-12-10T14:53:38.536053Z",
     "start_time": "2023-12-10T14:53:38.464778Z"
    }
   },
   "outputs": [],
   "source": [
    "tasklist = ['Task1', 'Task2']\n",
    "b1, l1 = lc1.plot_first_vs_lastlap(tasklist)\n",
    "\n",
    "tasklist = ['Task3', 'Task4']\n",
    "b2, l2 = lc2.plot_first_vs_lastlap(tasklist)"
   ]
  },
  {
   "cell_type": "code",
   "execution_count": 9,
   "metadata": {
    "ExecuteTime": {
     "end_time": "2023-12-10T14:53:53.324072Z",
     "start_time": "2023-12-10T14:53:53.225373Z"
    }
   },
   "outputs": [
    {
     "name": "stdout",
     "output_type": "stream",
     "text": [
      "Mean 0.591, CI 0.061\n",
      "Mean 0.427, CI 0.051\n"
     ]
    }
   ],
   "source": [
    "for n, d1 in enumerate([l1, l2]):\n",
    "    m1 = np.mean(d1, 0)\n",
    "    ci = stats.norm.interval(alpha=0.99, loc=np.mean(m1), scale=stats.sem(m1))\n",
    "    print('Mean %0.3f, CI %0.3f' %(np.mean(m1) , np.mean(m1)-ci[0]))"
   ]
  },
  {
   "cell_type": "code",
   "execution_count": 14,
   "metadata": {
    "ExecuteTime": {
     "end_time": "2023-12-10T14:59:11.161893Z",
     "start_time": "2023-12-10T14:59:11.061209Z"
    }
   },
   "outputs": [
    {
     "data": {
      "text/plain": [
       "1.707307953558064e-05"
      ]
     },
     "execution_count": 14,
     "metadata": {},
     "output_type": "execute_result"
    }
   ],
   "source": [
    "t, p = scipy.stats.ttest_rel(np.mean(l1, 0), np.mean(l2, 0))\n",
    "p"
   ]
  },
  {
   "cell_type": "code",
   "execution_count": 27,
   "metadata": {
    "ExecuteTime": {
     "end_time": "2023-08-14T19:01:54.859476Z",
     "start_time": "2023-08-14T19:01:54.603602Z"
    }
   },
   "outputs": [
    {
     "data": {
      "image/png": "[encoded data removed]",
      "text/plain": [
       "<Figure size 216x86.4 with 1 Axes>"
      ]
     },
     "metadata": {
      "needs_background": "light"
     },
     "output_type": "display_data"
    }
   ],
   "source": [
    "fs, ax = plt.subplots(1)\n",
    "x = [-1, +1]\n",
    "color = ['black', 'grey']\n",
    "marker = ['o', 'o']\n",
    "for n, (d1, d2) in enumerate(zip([b1, b2], [l1, l2])):\n",
    "#     ax.errorbar(np.arange(0, 1), np.mean(d1), yerr=scipy.stats.sem(d1), marker='.')\n",
    "\n",
    "    ax.errorbar(np.arange(0, np.size(d2, 1)), np.mean(d2, 0), yerr=scipy.stats.sem(d2, 0), marker='.')\n",
    "    for i in range(10):\n",
    "        ax.plot(np.ones_like([d2[:, i]]).squeeze()*i+(x[n]*0.25), d2[:, i], linewidth=0,\n",
    "                marker=marker[n], markersize=3, color=color[n])\n",
    "fs.set_size_inches((3, 1.2))\n",
    "# fs.savefig(os.path.join(SaveFigureFolder, 'lap_correlation_withprevday.pdf'), bbox_inches='tight', dpi=300)"
   ]
  },
  {
   "cell_type": "code",
   "execution_count": 16,
   "metadata": {
    "ExecuteTime": {
     "end_time": "2023-08-14T19:00:05.294144Z",
     "start_time": "2023-08-14T19:00:05.214555Z"
    }
   },
   "outputs": [
    {
     "name": "stdout",
     "output_type": "stream",
     "text": [
      "lap 0, t=0.895, p=0.422, sig=False\n",
      "lap 1, t=2.728, p=0.053, sig=False\n",
      "lap 2, t=2.773, p=0.050, sig=False\n",
      "lap 3, t=2.819, p=0.048, sig=True\n",
      "lap 4, t=2.396, p=0.075, sig=False\n",
      "lap 5, t=5.953, p=0.004, sig=True\n",
      "lap 6, t=4.125, p=0.015, sig=True\n",
      "lap 7, t=2.991, p=0.040, sig=True\n",
      "lap 8, t=3.522, p=0.024, sig=True\n",
      "lap 9, t=3.349, p=0.029, sig=True\n"
     ]
    }
   ],
   "source": [
    "for i in range(10):\n",
    "    t, p = scipy.stats.ttest_rel(l1[:, i], l2[:, i])\n",
    "    print('lap %d, t=%0.3f, p=%0.3f, sig=%s' %(i, t, p, p<=0.05))"
   ]
  },
  {
   "cell_type": "code",
   "execution_count": 21,
   "metadata": {
    "ExecuteTime": {
     "end_time": "2023-08-14T19:00:56.028125Z",
     "start_time": "2023-08-14T19:00:55.980930Z"
    }
   },
   "outputs": [
    {
     "data": {
      "text/plain": [
       "array([[0.21808467, 0.4185723 , 0.36506454, 0.10839027, 0.07367307,\n",
       "        0.42596379, 0.44720873, 0.54938539, 0.49363116, 0.52802768],\n",
       "       [0.44095755, 0.61133622, 0.62818765, 0.573106  , 0.55079804,\n",
       "        0.56943492, 0.60059675, 0.61437567, 0.31657314, 0.55410561],\n",
       "       [0.31628735, 0.47367044, 0.19226115, 0.17039593, 0.34222396,\n",
       "        0.44549325, 0.39764567, 0.42399975, 0.44414411, 0.18708237],\n",
       "       [0.19549635, 0.21634598, 0.21836745, 0.46089128, 0.55903139,\n",
       "        0.46454643, 0.53805035, 0.48389768, 0.52847683, 0.48298278],\n",
       "       [0.3923726 , 0.48290091, 0.52257446, 0.54298805, 0.38477329,\n",
       "        0.49075716, 0.57801199, 0.38395753, 0.36740417, 0.55957956]])"
      ]
     },
     "execution_count": 21,
     "metadata": {},
     "output_type": "execute_result"
    }
   ],
   "source": [
    "l2"
   ]
  },
  {
   "cell_type": "code",
   "execution_count": 28,
   "metadata": {
    "ExecuteTime": {
     "end_time": "2023-08-14T19:02:01.518309Z",
     "start_time": "2023-08-14T19:02:01.437554Z"
    }
   },
   "outputs": [
    {
     "data": {
      "text/plain": [
       "0.6087542589328011"
      ]
     },
     "execution_count": 28,
     "metadata": {},
     "output_type": "execute_result"
    }
   ],
   "source": []
  },
  {
   "cell_type": "markdown",
   "metadata": {},
   "source": [
    "## With rereward"
   ]
  },
  {
   "cell_type": "code",
   "execution_count": 52,
   "metadata": {
    "ExecuteTime": {
     "end_time": "2023-08-14T21:35:40.767463Z",
     "start_time": "2023-08-14T21:35:40.602287Z"
    }
   },
   "outputs": [],
   "source": [
    "tasklist = ['Task2', 'Task5']\n",
    "b1, l1 = lc3.plot_first_vs_lastlap(tasklist)\n",
    "\n",
    "tasklist = ['Task4', 'Task5']\n",
    "b2, l2 = lc4.plot_first_vs_lastlap(tasklist)"
   ]
  },
  {
   "cell_type": "code",
   "execution_count": 53,
   "metadata": {
    "ExecuteTime": {
     "end_time": "2023-08-14T21:35:44.775355Z",
     "start_time": "2023-08-14T21:35:44.508889Z"
    }
   },
   "outputs": [
    {
     "data": {
      "image/png": "[encoded data removed]",
      "text/plain": [
       "<Figure size 216x86.4 with 1 Axes>"
      ]
     },
     "metadata": {
      "needs_background": "light"
     },
     "output_type": "display_data"
    }
   ],
   "source": [
    "fs, ax = plt.subplots(1)\n",
    "x = [-1, +1]\n",
    "color = ['black', 'grey']\n",
    "marker = ['o', 'o']\n",
    "for n, (d1, d2) in enumerate(zip([b1, b2], [l1, l2])):\n",
    "#     ax.errorbar(np.arange(0, 1), np.mean(d1), yerr=scipy.stats.sem(d1), marker='.')\n",
    "    ax.errorbar(np.arange(0, np.size(d2, 1)), np.mean(d2, 0), yerr=scipy.stats.sem(d2, 0), marker='.')\n",
    "    for i in range(10):\n",
    "        ax.plot(np.ones_like([d2[:, i]]).squeeze()*i+(x[n]*0.25), d2[:, i], linewidth=0,\n",
    "                marker=marker[n], markersize=3, color=color[n])\n",
    "fs.set_size_inches((3, 1.2))\n",
    "# fs.savefig(os.path.join(SaveFigureFolder, 'lap_correlation_withprevday_rerewarded.pdf'), bbox_inches='tight', dpi=300)"
   ]
  },
  {
   "cell_type": "code",
   "execution_count": 60,
   "metadata": {
    "ExecuteTime": {
     "end_time": "2023-08-14T21:53:58.968038Z",
     "start_time": "2023-08-14T21:53:58.811718Z"
    }
   },
   "outputs": [
    {
     "data": {
      "text/plain": [
       "array([0.50040781, 0.43185771, 0.45361912, 0.48136815, 0.53449639,\n",
       "       0.49845054, 0.51387085, 0.53467318, 0.5465211 , 0.56469874])"
      ]
     },
     "execution_count": 60,
     "metadata": {},
     "output_type": "execute_result"
    }
   ],
   "source": [
    "np.mean(l2, 0)"
   ]
  },
  {
   "cell_type": "code",
   "execution_count": 54,
   "metadata": {
    "ExecuteTime": {
     "end_time": "2023-08-14T21:35:48.828782Z",
     "start_time": "2023-08-14T21:35:48.762555Z"
    }
   },
   "outputs": [
    {
     "name": "stdout",
     "output_type": "stream",
     "text": [
      "lap 0, t=2.909, p=0.044, sig=True\n",
      "lap 1, t=5.638, p=0.005, sig=True\n",
      "lap 2, t=2.852, p=0.046, sig=True\n",
      "lap 3, t=1.610, p=0.183, sig=False\n",
      "lap 4, t=0.991, p=0.378, sig=False\n",
      "lap 5, t=0.335, p=0.754, sig=False\n",
      "lap 6, t=0.159, p=0.881, sig=False\n",
      "lap 7, t=-0.355, p=0.740, sig=False\n",
      "lap 8, t=0.392, p=0.715, sig=False\n",
      "lap 9, t=0.081, p=0.939, sig=False\n"
     ]
    }
   ],
   "source": [
    "for i in range(10):\n",
    "    t, p = scipy.stats.ttest_rel(l2[:, i], l1[:, i])\n",
    "    print('lap %d, t=%0.3f, p=%0.3f, sig=%s' %(i, t, p, p<=0.05))"
   ]
  },
  {
   "cell_type": "code",
   "execution_count": null,
   "metadata": {},
   "outputs": [],
   "source": []
  }
 ],
 "metadata": {
  "kernelspec": {
   "display_name": "Python 3",
   "language": "python",
   "name": "python3"
  },
  "language_info": {
   "codemirror_mode": {
    "name": "ipython",
    "version": 3
   },
   "file_extension": ".py",
   "mimetype": "text/x-python",
   "name": "python",
   "nbconvert_exporter": "python",
   "pygments_lexer": "ipython3",
   "version": "3.8.5"
  },
  "toc": {
   "base_numbering": 1,
   "nav_menu": {},
   "number_sections": true,
   "sideBar": true,
   "skip_h1_title": false,
   "title_cell": "Table of Contents",
   "title_sidebar": "Contents",
   "toc_cell": false,
   "toc_position": {},
   "toc_section_display": true,
   "toc_window_display": false
  }
 },
 "nbformat": 4,
 "nbformat_minor": 4
}
