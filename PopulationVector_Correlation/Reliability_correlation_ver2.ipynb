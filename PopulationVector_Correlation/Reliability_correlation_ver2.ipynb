{
 "cells": [
  {
   "cell_type": "code",
   "execution_count": 1,
   "metadata": {
    "ExecuteTime": {
     "end_time": "2023-11-27T22:08:01.602737Z",
     "start_time": "2023-11-27T22:07:58.440052Z"
    }
   },
   "outputs": [],
   "source": [
    "import os\n",
    "import scipy.io\n",
    "import matplotlib.pyplot as plt\n",
    "import numpy as np\n",
    "import seaborn as sns\n",
    "sns.set_context('paper', font_scale=1.1)\n",
    "import pandas as pd\n",
    "import warnings\n",
    "import sys\n",
    "import dabest\n",
    "from scipy import stats\n",
    "warnings.filterwarnings('ignore')\n",
    "%matplotlib inline\n",
    "%load_ext autoreload\n",
    "%autoreload 2"
   ]
  },
  {
   "cell_type": "code",
   "execution_count": 2,
   "metadata": {
    "ExecuteTime": {
     "end_time": "2023-11-27T22:08:01.705146Z",
     "start_time": "2023-11-27T22:08:01.607727Z"
    }
   },
   "outputs": [],
   "source": [
    "from reliability_correlation import GetData as gd2"
   ]
  },
  {
   "cell_type": "code",
   "execution_count": 3,
   "metadata": {
    "ExecuteTime": {
     "end_time": "2023-11-27T22:08:01.793337Z",
     "start_time": "2023-11-27T22:08:01.710760Z"
    }
   },
   "outputs": [],
   "source": [
    "DirectoryName = '/Users/seetha/Box Sync/MultiDayData/Data/'\n",
    "CombinedFolderName = '/Users/seetha/Box Sync/MultiDayData/PlaceCellResultsAll/'\n",
    "SaveFigureFolder = '/Users/seetha/Box Sync/MultiDayData/MultiDayPaper/Figures/FigurepanelsPDF/PV_correlation_rel/'"
   ]
  },
  {
   "cell_type": "markdown",
   "metadata": {},
   "source": [
    "## With Task1"
   ]
  },
  {
   "cell_type": "code",
   "execution_count": 4,
   "metadata": {
    "ExecuteTime": {
     "end_time": "2023-11-27T22:08:26.546213Z",
     "start_time": "2023-11-27T22:08:01.809036Z"
    }
   },
   "outputs": [
    {
     "name": "stdout",
     "output_type": "stream",
     "text": [
      "Index(['Task', 'CellNumber', 'PlaceCellNumber', 'NumPlacecells', 'COM',\n",
      "       'WeightedCOM', 'Precision', 'Precision_rising', 'Width', 'FiringRatio',\n",
      "       'Firingintensity', 'Reliability', 'animalname'],\n",
      "      dtype='object')\n",
      "NR34\n",
      "High (99,)\n",
      "Low (193,)\n",
      "CFC17\n",
      "High (145,)\n",
      "Low (127,)\n",
      "NR32\n",
      "High (67,)\n",
      "Low (116,)\n",
      "CFC16\n",
      "High (51,)\n",
      "Low (425,)\n",
      "CFC18\n",
      "High (171,)\n",
      "Low (328,)\n"
     ]
    }
   ],
   "source": [
    "r1 = gd2(FolderName=DirectoryName, CombinedDataFolder=CombinedFolderName, \n",
    "         basetask=['Task1'], taskstoplot=['Task2', 'Task5'])"
   ]
  },
  {
   "cell_type": "code",
   "execution_count": 5,
   "metadata": {
    "ExecuteTime": {
     "end_time": "2023-11-27T22:08:46.210643Z",
     "start_time": "2023-11-27T22:08:26.550331Z"
    }
   },
   "outputs": [
    {
     "name": "stdout",
     "output_type": "stream",
     "text": [
      "Index(['Task', 'CellNumber', 'PlaceCellNumber', 'NumPlacecells', 'COM',\n",
      "       'WeightedCOM', 'Precision', 'Precision_rising', 'Width', 'FiringRatio',\n",
      "       'Firingintensity', 'Reliability', 'animalname'],\n",
      "      dtype='object')\n",
      "NR34\n",
      "High (59,)\n",
      "Low (522,)\n",
      "CFC17\n",
      "High (79,)\n",
      "Low (207,)\n",
      "NR32\n",
      "High (18,)\n",
      "Low (253,)\n",
      "CFC16\n",
      "High (12,)\n",
      "Low (511,)\n",
      "CFC18\n",
      "High (101,)\n",
      "Low (593,)\n"
     ]
    }
   ],
   "source": [
    "r2 = gd2(FolderName=DirectoryName, CombinedDataFolder=CombinedFolderName, \n",
    "         basetask=['Task3'], taskstoplot=['Task4'])"
   ]
  },
  {
   "cell_type": "code",
   "execution_count": null,
   "metadata": {
    "ExecuteTime": {
     "end_time": "2023-11-16T20:36:35.745252Z",
     "start_time": "2023-11-16T20:36:35.660154Z"
    }
   },
   "outputs": [],
   "source": [
    "X = r2.animal_highrel['Task4'] + r1.animal_highrel['Task2']\n",
    "np.mean(np.asarray(X)[:, 1:].flatten())"
   ]
  },
  {
   "cell_type": "code",
   "execution_count": null,
   "metadata": {
    "ExecuteTime": {
     "end_time": "2023-11-16T20:34:47.341983Z",
     "start_time": "2023-11-16T20:34:47.294385Z"
    }
   },
   "outputs": [],
   "source": [
    "for i in [r1.animal_highrel['Task2'], r1.animal_lowrel['Task2']]:\n",
    "    data = np.asarray(i)[:, 0].flatten() #lapnumber\n",
    "    mean = np.mean(data)\n",
    "    ci = stats.norm.interval(alpha=0.99, loc=np.mean(data), scale=stats.sem(data))\n",
    "    print('Mean %0.3f, CI %0.3f' %(mean, mean-ci[0]))"
   ]
  },
  {
   "cell_type": "code",
   "execution_count": null,
   "metadata": {
    "ExecuteTime": {
     "end_time": "2023-11-16T20:34:47.888537Z",
     "start_time": "2023-11-16T20:34:47.839745Z"
    }
   },
   "outputs": [],
   "source": [
    "for i in [r2.animal_highrel['Task4'], r2.animal_lowrel['Task4']]:\n",
    "    data = np.asarray(i)[:, 0].flatten() #lapnumber\n",
    "    mean = np.mean(data)\n",
    "    ci = stats.norm.interval(alpha=0.99, loc=np.mean(data), scale=stats.sem(data))\n",
    "    print('Mean %0.3f, CI %0.3f' %(mean, mean-ci[0]))"
   ]
  },
  {
   "cell_type": "code",
   "execution_count": null,
   "metadata": {
    "ExecuteTime": {
     "end_time": "2023-10-13T22:07:09.988557Z",
     "start_time": "2023-10-13T22:07:09.029727Z"
    }
   },
   "outputs": [],
   "source": [
    "fs, ax = plt.subplots(1, 2)\n",
    "r1.plot_lapwise_correlation(ax)\n",
    "for a in ax:\n",
    "    a.set_ylim(0, 0.9)\n",
    "sns.despine(fs)\n",
    "fs.set_size_inches((6, 2))\n",
    "fs.savefig(os.path.join(SaveFigureFolder, 'Lapwisecorrelationtrace_byreliability_Task1.pdf'), bbox_inches='tight')"
   ]
  },
  {
   "cell_type": "code",
   "execution_count": null,
   "metadata": {
    "ExecuteTime": {
     "end_time": "2023-10-13T22:07:16.255955Z",
     "start_time": "2023-10-13T22:07:12.985819Z"
    }
   },
   "outputs": [],
   "source": [
    "fs, ax = plt.subplots(2, 2, sharex='row', sharey='row')\n",
    "r1.plot_by_reliability(ax, taskstoplot=['Task2', 'Task5'])\n",
    "for a in ax[0, :]:\n",
    "    a.set_ylim(0, 1)\n",
    "    a.set_xlim(-0.5, 1)\n",
    "for a in ax[1, :]:\n",
    "    a.set_ylim(0, 0.8)\n",
    "fs.tight_layout()\n",
    "fs.set_size_inches((4, 5))\n",
    "fs.savefig(os.path.join(SaveFigureFolder, 'Correlationbyreliability_Task1.pdf'), bbox_inches='tight')"
   ]
  },
  {
   "cell_type": "code",
   "execution_count": null,
   "metadata": {},
   "outputs": [],
   "source": []
  },
  {
   "cell_type": "markdown",
   "metadata": {},
   "source": [
    "## With Task3"
   ]
  },
  {
   "cell_type": "code",
   "execution_count": null,
   "metadata": {
    "ExecuteTime": {
     "end_time": "2023-08-21T16:54:35.902141Z",
     "start_time": "2023-08-21T16:54:34.514927Z"
    }
   },
   "outputs": [],
   "source": [
    "fs, ax = plt.subplots(1, 2)\n",
    "r2.plot_lapwise_correlation(ax)\n",
    "for a in ax:\n",
    "    a.set_ylim(0, 0.9)\n",
    "sns.despine(fs)\n",
    "fs.set_size_inches((6, 2))\n",
    "fs.savefig(os.path.join(SaveFigureFolder, 'Lapwisecorrelationtrace_byreliability_Task3.pdf'), bbox_inches='tight')"
   ]
  },
  {
   "cell_type": "code",
   "execution_count": null,
   "metadata": {
    "ExecuteTime": {
     "end_time": "2023-08-21T16:54:39.779195Z",
     "start_time": "2023-08-21T16:54:35.921442Z"
    }
   },
   "outputs": [],
   "source": [
    "fs, ax = plt.subplots(2, 2, sharex='row', sharey='row')\n",
    "r2.plot_by_reliability(ax, taskstoplot=['Task4'])\n",
    "for a in ax[0, :]:\n",
    "    a.set_ylim(0, 1)\n",
    "    a.set_xlim(-0.5, 1)\n",
    "for a in ax[1, :]:\n",
    "    a.set_ylim(0, 0.8)\n",
    "fs.tight_layout()\n",
    "fs.set_size_inches((4, 5))\n",
    "fs.savefig(os.path.join(SaveFigureFolder, 'Correlationbyreliability_Task3.pdf'), bbox_inches='tight')"
   ]
  },
  {
   "cell_type": "markdown",
   "metadata": {},
   "source": [
    "## Plot rewarded and unrewarded"
   ]
  },
  {
   "cell_type": "code",
   "execution_count": 6,
   "metadata": {
    "ExecuteTime": {
     "end_time": "2023-11-27T22:08:57.969920Z",
     "start_time": "2023-11-27T22:08:57.923464Z"
    }
   },
   "outputs": [],
   "source": [
    "r1.corrdf['Reliability_Type'] = 'High_Task1'\n",
    "r1.corrdf.loc[r1.corrdf['Reliability']<0.5, 'Reliability_Type'] = 'Low_Task1'"
   ]
  },
  {
   "cell_type": "code",
   "execution_count": 7,
   "metadata": {
    "ExecuteTime": {
     "end_time": "2023-11-27T22:08:58.289811Z",
     "start_time": "2023-11-27T22:08:58.241703Z"
    }
   },
   "outputs": [],
   "source": [
    "r2.corrdf['Reliability_Type'] = 'High_Task3'\n",
    "r2.corrdf.loc[r2.corrdf['Reliability']<0.5, 'Reliability_Type'] = 'Low_Task3'\n",
    "r1.corrdf['Reward'] = 'Yes'\n",
    "r2.corrdf['Reward'] = 'No'"
   ]
  },
  {
   "cell_type": "code",
   "execution_count": 8,
   "metadata": {
    "ExecuteTime": {
     "end_time": "2023-11-27T22:09:02.115802Z",
     "start_time": "2023-11-27T22:09:02.035089Z"
    }
   },
   "outputs": [],
   "source": [
    "df = pd.concat((r1.corrdf, r2.corrdf))\n",
    "df = df[df['Task'].isin(['Task2', 'Task4'])]\n",
    "df = df.dropna()"
   ]
  },
  {
   "cell_type": "code",
   "execution_count": 9,
   "metadata": {
    "ExecuteTime": {
     "end_time": "2023-11-27T22:09:02.461974Z",
     "start_time": "2023-11-27T22:09:02.379139Z"
    }
   },
   "outputs": [
    {
     "data": {
      "text/plain": [
       "array(['Task2', 'Task4'], dtype=object)"
      ]
     },
     "execution_count": 9,
     "metadata": {},
     "output_type": "execute_result"
    }
   ],
   "source": [
    "df['Task'].unique()"
   ]
  },
  {
   "cell_type": "code",
   "execution_count": 10,
   "metadata": {
    "ExecuteTime": {
     "end_time": "2023-11-27T22:09:02.810263Z",
     "start_time": "2023-11-27T22:09:02.719993Z"
    }
   },
   "outputs": [
    {
     "data": {
      "text/html": [
       "<div>\n",
       "<style scoped>\n",
       "    .dataframe tbody tr th:only-of-type {\n",
       "        vertical-align: middle;\n",
       "    }\n",
       "\n",
       "    .dataframe tbody tr th {\n",
       "        vertical-align: top;\n",
       "    }\n",
       "\n",
       "    .dataframe thead th {\n",
       "        text-align: right;\n",
       "    }\n",
       "</style>\n",
       "<table border=\"1\" class=\"dataframe\">\n",
       "  <thead>\n",
       "    <tr style=\"text-align: right;\">\n",
       "      <th>Reliability_Type</th>\n",
       "      <th>AnimalName</th>\n",
       "      <th>High_Task1</th>\n",
       "      <th>High_Task3</th>\n",
       "      <th>Low_Task1</th>\n",
       "      <th>Low_Task3</th>\n",
       "    </tr>\n",
       "  </thead>\n",
       "  <tbody>\n",
       "    <tr>\n",
       "      <th>0</th>\n",
       "      <td>CFC16</td>\n",
       "      <td>0.474203</td>\n",
       "      <td>0.705788</td>\n",
       "      <td>0.242050</td>\n",
       "      <td>0.309551</td>\n",
       "    </tr>\n",
       "    <tr>\n",
       "      <th>1</th>\n",
       "      <td>CFC17</td>\n",
       "      <td>0.667964</td>\n",
       "      <td>0.767814</td>\n",
       "      <td>0.402047</td>\n",
       "      <td>0.407084</td>\n",
       "    </tr>\n",
       "    <tr>\n",
       "      <th>2</th>\n",
       "      <td>CFC18</td>\n",
       "      <td>0.689376</td>\n",
       "      <td>0.665683</td>\n",
       "      <td>0.391060</td>\n",
       "      <td>0.437851</td>\n",
       "    </tr>\n",
       "    <tr>\n",
       "      <th>3</th>\n",
       "      <td>NR32</td>\n",
       "      <td>0.609352</td>\n",
       "      <td>0.420399</td>\n",
       "      <td>0.466028</td>\n",
       "      <td>0.261275</td>\n",
       "    </tr>\n",
       "    <tr>\n",
       "      <th>4</th>\n",
       "      <td>NR34</td>\n",
       "      <td>0.643743</td>\n",
       "      <td>0.475972</td>\n",
       "      <td>0.474971</td>\n",
       "      <td>0.166486</td>\n",
       "    </tr>\n",
       "  </tbody>\n",
       "</table>\n",
       "</div>"
      ],
      "text/plain": [
       "Reliability_Type AnimalName  High_Task1  High_Task3  Low_Task1  Low_Task3\n",
       "0                     CFC16    0.474203    0.705788   0.242050   0.309551\n",
       "1                     CFC17    0.667964    0.767814   0.402047   0.407084\n",
       "2                     CFC18    0.689376    0.665683   0.391060   0.437851\n",
       "3                      NR32    0.609352    0.420399   0.466028   0.261275\n",
       "4                      NR34    0.643743    0.475972   0.474971   0.166486"
      ]
     },
     "execution_count": 10,
     "metadata": {},
     "output_type": "execute_result"
    }
   ],
   "source": [
    "thisdata = df.groupby(by=['AnimalName', 'Reliability_Type'])['Correlation'].mean().reset_index()\n",
    "thisdata = thisdata.pivot(index='AnimalName', columns='Reliability_Type', values='Correlation').reset_index()\n",
    "thisdata"
   ]
  },
  {
   "cell_type": "code",
   "execution_count": 11,
   "metadata": {
    "ExecuteTime": {
     "end_time": "2023-11-27T22:09:09.264266Z",
     "start_time": "2023-11-27T22:09:08.639003Z"
    }
   },
   "outputs": [
    {
     "data": {
      "image/png": "[encoded data removed]",
      "text/plain": [
       "<Figure size 144x144 with 1 Axes>"
      ]
     },
     "metadata": {
      "needs_background": "light"
     },
     "output_type": "display_data"
    }
   ],
   "source": [
    "fs, ax = plt.subplots(1)\n",
    "order = ['High_Task1', 'Low_Task1', 'High_Task3', 'Low_Task3']\n",
    "sns.barplot(data=df, x='Reliability_Type', y='Correlation', order=order, ax=ax)\n",
    "for i, r in thisdata.iterrows():\n",
    "    ax.plot([0.25, 1.25, 2.25, 3.25], r[order].to_list(), 'k.-', markersize=5)\n",
    "sns.despine(fs)\n",
    "ax.locator_params(axis='y', nbins=4)\n",
    "fs.set_size_inches((2, 2))\n",
    "# fs.savefig(os.path.join(SaveFigureFolder, 'Correlationbyreliability_alltasks_point6.pdf'), bbox_inches='tight')"
   ]
  },
  {
   "cell_type": "code",
   "execution_count": 12,
   "metadata": {
    "ExecuteTime": {
     "end_time": "2023-11-27T22:09:10.016309Z",
     "start_time": "2023-11-27T22:09:09.864269Z"
    }
   },
   "outputs": [
    {
     "data": {
      "text/html": [
       "<table class=\"simpletable\">\n",
       "<caption>Test Multiple Comparison ttest_rel \n",
       "FWER=0.05 method=bonf\n",
       "alphacSidak=0.01, alphacBonf=0.008</caption>\n",
       "<tr>\n",
       "    <th>group1</th>     <th>group2</th>    <th>stat</th>   <th>pval</th>  <th>pval_corr</th> <th>reject</th>\n",
       "</tr>\n",
       "<tr>\n",
       "  <td>High_Task1</td> <td>High_Task3</td> <td>0.1227</td> <td>0.9083</td>    <td>1.0</td>     <td>False</td>\n",
       "</tr>\n",
       "<tr>\n",
       "  <td>High_Task1</td>  <td>Low_Task1</td> <td>7.6314</td> <td>0.0016</td>  <td>0.0095</td>    <td>True</td> \n",
       "</tr>\n",
       "<tr>\n",
       "  <td>High_Task1</td>  <td>Low_Task3</td> <td>5.6821</td> <td>0.0047</td>  <td>0.0284</td>    <td>True</td> \n",
       "</tr>\n",
       "<tr>\n",
       "  <td>High_Task3</td>  <td>Low_Task1</td> <td>2.1094</td> <td>0.1026</td>  <td>0.6154</td>    <td>False</td>\n",
       "</tr>\n",
       "<tr>\n",
       "  <td>High_Task3</td>  <td>Low_Task3</td> <td>6.6988</td> <td>0.0026</td>  <td>0.0155</td>    <td>True</td> \n",
       "</tr>\n",
       "<tr>\n",
       "   <td>Low_Task1</td>  <td>Low_Task3</td> <td>1.0489</td> <td>0.3534</td>    <td>1.0</td>     <td>False</td>\n",
       "</tr>\n",
       "</table>"
      ],
      "text/plain": [
       "<class 'statsmodels.iolib.table.SimpleTable'>"
      ]
     },
     "execution_count": 12,
     "metadata": {},
     "output_type": "execute_result"
    }
   ],
   "source": [
    "from scipy import stats\n",
    "import statsmodels.stats.multicomp as mc\n",
    "subset_m = thisdata[order].melt()\n",
    "comp1 = mc.MultiComparison(subset_m['value'], subset_m['Reliability_Type'])\n",
    "tbl, a1, a2 = comp1.allpairtest(stats.ttest_rel, method= \"bonf\")\n",
    "tbl"
   ]
  },
  {
   "cell_type": "code",
   "execution_count": null,
   "metadata": {},
   "outputs": [],
   "source": []
  }
 ],
 "metadata": {
  "kernelspec": {
   "display_name": "Python 3",
   "language": "python",
   "name": "python3"
  },
  "language_info": {
   "codemirror_mode": {
    "name": "ipython",
    "version": 3
   },
   "file_extension": ".py",
   "mimetype": "text/x-python",
   "name": "python",
   "nbconvert_exporter": "python",
   "pygments_lexer": "ipython3",
   "version": "3.8.5"
  },
  "toc": {
   "base_numbering": 1,
   "nav_menu": {},
   "number_sections": true,
   "sideBar": true,
   "skip_h1_title": false,
   "title_cell": "Table of Contents",
   "title_sidebar": "Contents",
   "toc_cell": false,
   "toc_position": {},
   "toc_section_display": true,
   "toc_window_display": false
  }
 },
 "nbformat": 4,
 "nbformat_minor": 4
}
