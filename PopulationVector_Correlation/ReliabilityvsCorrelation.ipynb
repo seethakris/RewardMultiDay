{
 "cells": [
  {
   "cell_type": "code",
   "execution_count": 1,
   "metadata": {
    "ExecuteTime": {
     "end_time": "2023-11-27T22:01:48.721462Z",
     "start_time": "2023-11-27T22:01:43.669656Z"
    }
   },
   "outputs": [],
   "source": [
    "import os\n",
    "import scipy.io\n",
    "import matplotlib.pyplot as plt\n",
    "import numpy as np\n",
    "import seaborn as sns\n",
    "sns.set_context('paper', font_scale=1.1)\n",
    "import pandas as pd\n",
    "import warnings\n",
    "import sys\n",
    "import dabest\n",
    "\n",
    "warnings.filterwarnings('ignore')\n",
    "%matplotlib inline\n",
    "%load_ext autoreload\n",
    "%autoreload 2"
   ]
  },
  {
   "cell_type": "code",
   "execution_count": 2,
   "metadata": {
    "ExecuteTime": {
     "end_time": "2023-11-27T22:01:48.858527Z",
     "start_time": "2023-11-27T22:01:48.731246Z"
    }
   },
   "outputs": [],
   "source": [
    "PlottingFormat_Folder = '/Users/seetha/Box Sync/MultiDayData/Scripts/PlottingTools/'\n",
    "sys.path.append(PlottingFormat_Folder)\n",
    "import plottingfunctions as pf"
   ]
  },
  {
   "cell_type": "code",
   "execution_count": 3,
   "metadata": {
    "ExecuteTime": {
     "end_time": "2023-11-27T22:01:49.005622Z",
     "start_time": "2023-11-27T22:01:48.871212Z"
    }
   },
   "outputs": [],
   "source": [
    "from reliability import GetData as gd"
   ]
  },
  {
   "cell_type": "code",
   "execution_count": 4,
   "metadata": {
    "ExecuteTime": {
     "end_time": "2023-11-27T22:01:49.139416Z",
     "start_time": "2023-11-27T22:01:49.011653Z"
    }
   },
   "outputs": [],
   "source": [
    "DirectoryName = '/Users/seetha/Box Sync/MultiDayData/Data/'\n",
    "CombinedFolderName = '/Users/seetha/Box Sync/MultiDayData/PlaceCellResultsAll/'\n",
    "SaveFigureFolder = '/Users/seetha/Box Sync/MultiDayData/MultiDayPaper/Figures/FigurepanelsPDF/PV_correlation_rel/'"
   ]
  },
  {
   "cell_type": "code",
   "execution_count": 5,
   "metadata": {
    "ExecuteTime": {
     "end_time": "2023-11-27T22:03:59.223947Z",
     "start_time": "2023-11-27T22:01:49.163812Z"
    }
   },
   "outputs": [
    {
     "name": "stdout",
     "output_type": "stream",
     "text": [
      "Index(['Task', 'CellNumber', 'PlaceCellNumber', 'NumPlacecells', 'COM',\n",
      "       'WeightedCOM', 'Precision', 'Precision_rising', 'Width', 'FiringRatio',\n",
      "       'Firingintensity', 'Reliability', 'animalname'],\n",
      "      dtype='object')\n",
      "NR34\n",
      "CFC17\n",
      "NR32\n",
      "CFC16\n",
      "CFC18\n"
     ]
    }
   ],
   "source": [
    "r1 = gd(FolderName=DirectoryName, CombinedDataFolder=CombinedFolderName, basetask='Task1')"
   ]
  },
  {
   "cell_type": "code",
   "execution_count": 6,
   "metadata": {
    "ExecuteTime": {
     "end_time": "2023-11-27T22:03:59.936289Z",
     "start_time": "2023-11-27T22:03:59.227298Z"
    },
    "scrolled": false
   },
   "outputs": [
    {
     "name": "stdout",
     "output_type": "stream",
     "text": [
      "NR34 Task5 Empty DataFrame\n",
      "Columns: [Correlation_0, Correlation_1, Correlation_2, Correlation_3, Correlation_4, Correlation_5, Correlation_6, Correlation_7, Correlation_8, Correlation_9]\n",
      "Index: []\n"
     ]
    },
    {
     "data": {
      "image/png": "[encoded data removed]",
      "text/plain": [
       "<Figure size 432x144 with 2 Axes>"
      ]
     },
     "metadata": {
      "needs_background": "light"
     },
     "output_type": "display_data"
    }
   ],
   "source": [
    "taskstoplot = ['Task2', 'Task5']\n",
    "fs, ax =plt.subplots(1, len(taskstoplot), sharex='all', sharey='all')\n",
    "r1.plot_lapwise_correlation(ax, taskstoplot=taskstoplot)\n",
    "\n",
    "sns.despine(fs)\n",
    "fs.set_size_inches((6, 2))\n",
    "# fs.savefig(os.path.join(SaveFigureFolder, 'Lapwisecorrelationtrace_byreliability_Task1.pdf'), bbox_inches='tight')"
   ]
  },
  {
   "cell_type": "code",
   "execution_count": null,
   "metadata": {
    "ExecuteTime": {
     "end_time": "2023-07-27T17:47:18.020411Z",
     "start_time": "2023-07-27T17:47:15.940347Z"
    }
   },
   "outputs": [],
   "source": [
    "taskstoplot = ['Task2', 'Task5']\n",
    "fs, ax =plt.subplots(1, len(taskstoplot), figsize=(10, 3), sharex='all', sharey='all')\n",
    "r1.plot_regressionline(ax, taskstoplot=taskstoplot)\n",
    "sns.despine(fs)\n",
    "fs.set_size_inches((3, 2))\n",
    "# fs.savefig(os.path.join(SaveFigureFolder, 'Correlation_byreliability_Task1.pdf'), bbox_inches='tight')"
   ]
  },
  {
   "cell_type": "code",
   "execution_count": null,
   "metadata": {
    "ExecuteTime": {
     "end_time": "2023-07-27T17:47:19.644287Z",
     "start_time": "2023-07-27T17:47:18.041388Z"
    }
   },
   "outputs": [],
   "source": [
    "df = r1.divide_by_reliability(taskstoplot)\n",
    "fs, ax =plt.subplots(1, len(taskstoplot), figsize=(10, 3), sharex='all', sharey='all')\n",
    "r1.plot_by_reliability(ax, df, taskstoplot)\n",
    "\n",
    "# sns.despine(fs)\n",
    "fs.set_size_inches((2, 2))\n",
    "fs.savefig(os.path.join(SaveFigureFolder, 'Correlation_barplot_byreliability_Task1.pdf'), bbox_inches='tight')"
   ]
  },
  {
   "cell_type": "code",
   "execution_count": 7,
   "metadata": {
    "ExecuteTime": {
     "end_time": "2023-11-27T22:05:44.927209Z",
     "start_time": "2023-11-27T22:03:59.946049Z"
    }
   },
   "outputs": [
    {
     "name": "stdout",
     "output_type": "stream",
     "text": [
      "Index(['Task', 'CellNumber', 'PlaceCellNumber', 'NumPlacecells', 'COM',\n",
      "       'WeightedCOM', 'Precision', 'Precision_rising', 'Width', 'FiringRatio',\n",
      "       'Firingintensity', 'Reliability', 'animalname'],\n",
      "      dtype='object')\n",
      "NR34\n",
      "CFC17\n",
      "NR32\n",
      "CFC16\n",
      "CFC18\n"
     ]
    }
   ],
   "source": [
    "r2 = gd(FolderName=DirectoryName, CombinedDataFolder=CombinedFolderName, basetask='Task3')"
   ]
  },
  {
   "cell_type": "code",
   "execution_count": null,
   "metadata": {
    "ExecuteTime": {
     "end_time": "2023-07-27T17:48:46.347115Z",
     "start_time": "2023-07-27T17:48:45.208030Z"
    }
   },
   "outputs": [],
   "source": [
    "taskstoplot = ['Task2', 'Task4']\n",
    "fs, ax =plt.subplots(1, len(taskstoplot), sharex='all', sharey='all')\n",
    "r2.plot_lapwise_correlation(ax, taskstoplot=taskstoplot)\n",
    "\n",
    "sns.despine(fs)\n",
    "fs.set_size_inches((6, 2))\n",
    "fs.savefig(os.path.join(SaveFigureFolder, 'Lapwisecorrelationtrace_byreliability_Task3.pdf'), bbox_inches='tight')"
   ]
  },
  {
   "cell_type": "code",
   "execution_count": null,
   "metadata": {
    "ExecuteTime": {
     "end_time": "2023-07-27T17:48:48.230062Z",
     "start_time": "2023-07-27T17:48:46.353773Z"
    }
   },
   "outputs": [],
   "source": [
    "taskstoplot = ['Task2', 'Task4']\n",
    "fs, ax =plt.subplots(1, len(taskstoplot), figsize=(6, 3), sharex='all', sharey='all')\n",
    "r2.plot_regressionline(ax, taskstoplot=taskstoplot)\n",
    "\n",
    "sns.despine(fs)\n",
    "fs.set_size_inches((3, 2))\n",
    "fs.savefig(os.path.join(SaveFigureFolder, 'Correlation_byreliability_Task3.pdf'), bbox_inches='tight')"
   ]
  },
  {
   "cell_type": "code",
   "execution_count": null,
   "metadata": {
    "ExecuteTime": {
     "end_time": "2023-07-27T17:48:49.774643Z",
     "start_time": "2023-07-27T17:48:48.246600Z"
    }
   },
   "outputs": [],
   "source": [
    "df = r2.divide_by_reliability(taskstoplot)\n",
    "fs, ax =plt.subplots(1, len(taskstoplot), figsize=(6, 3), sharex='all', sharey='all')\n",
    "r2.plot_by_reliability(ax, df, taskstoplot)\n",
    "\n",
    "sns.despine(fs)\n",
    "fs.set_size_inches((2, 2))\n",
    "fs.savefig(os.path.join(SaveFigureFolder, 'Correlation_barplot_byreliability_Task3.pdf'), bbox_inches='tight')"
   ]
  },
  {
   "cell_type": "markdown",
   "metadata": {
    "ExecuteTime": {
     "end_time": "2023-06-06T16:25:30.341971Z",
     "start_time": "2023-06-06T16:25:30.201438Z"
    }
   },
   "source": [
    "## CommonCells"
   ]
  },
  {
   "cell_type": "code",
   "execution_count": 6,
   "metadata": {
    "ExecuteTime": {
     "end_time": "2023-09-06T21:31:59.154293Z",
     "start_time": "2023-09-06T21:31:58.086889Z"
    }
   },
   "outputs": [
    {
     "data": {
      "image/png": "[encoded data removed]",
      "text/plain": [
       "<Figure size 432x288 with 2 Axes>"
      ]
     },
     "metadata": {
      "needs_background": "light"
     },
     "output_type": "display_data"
    }
   ],
   "source": [
    "fs, ax = plt.subplots(1)\n",
    "taskstoplot = ['Task1','Task2', 'Task3', 'Task4', 'Task5']\n",
    "celldf = r1.get_cells_pertask_peranimal(taskstoplot)\n",
    "PF_sort_df = celldf.sort_values(by=taskstoplot, ascending=False)\n",
    "PF_sort_df = PF_sort_df[PF_sort_df[taskstoplot].sum(axis=1)>0]\n",
    "g = sns.heatmap(PF_sort_df[taskstoplot])\n",
    "# fs.savefig(os.path.join(SaveFigureFolder, 'Placecellfate.tiff'), bbox_inches='tight', dpi=300)"
   ]
  },
  {
   "cell_type": "code",
   "execution_count": 20,
   "metadata": {
    "ExecuteTime": {
     "end_time": "2023-09-06T21:38:41.117378Z",
     "start_time": "2023-09-06T21:38:40.965232Z"
    }
   },
   "outputs": [
    {
     "data": {
      "text/plain": [
       "1174"
      ]
     },
     "execution_count": 20,
     "metadata": {},
     "output_type": "execute_result"
    }
   ],
   "source": [
    "(PF_sort_df[['Task1', 'Task2']].sum(axis=1)==2).sum()"
   ]
  },
  {
   "cell_type": "code",
   "execution_count": 21,
   "metadata": {
    "ExecuteTime": {
     "end_time": "2023-09-06T21:38:44.653809Z",
     "start_time": "2023-09-06T21:38:44.604676Z"
    }
   },
   "outputs": [
    {
     "data": {
      "text/plain": [
       "1115"
      ]
     },
     "execution_count": 21,
     "metadata": {},
     "output_type": "execute_result"
    }
   ],
   "source": [
    "(PF_sort_df[['Task1', 'Task3']].sum(axis=1)==2).sum()"
   ]
  },
  {
   "cell_type": "code",
   "execution_count": 22,
   "metadata": {
    "ExecuteTime": {
     "end_time": "2023-09-06T21:39:01.685252Z",
     "start_time": "2023-09-06T21:39:01.637180Z"
    }
   },
   "outputs": [
    {
     "data": {
      "text/plain": [
       "1075"
      ]
     },
     "execution_count": 22,
     "metadata": {},
     "output_type": "execute_result"
    }
   ],
   "source": [
    "(PF_sort_df[['Task1', 'Task4']].sum(axis=1)==2).sum()"
   ]
  },
  {
   "cell_type": "code",
   "execution_count": 23,
   "metadata": {
    "ExecuteTime": {
     "end_time": "2023-09-06T21:39:14.648411Z",
     "start_time": "2023-09-06T21:39:14.605104Z"
    }
   },
   "outputs": [
    {
     "data": {
      "text/plain": [
       "1027"
      ]
     },
     "execution_count": 23,
     "metadata": {},
     "output_type": "execute_result"
    }
   ],
   "source": [
    "(PF_sort_df[['Task1', 'Task5']].sum(axis=1)==2).sum()"
   ]
  },
  {
   "cell_type": "code",
   "execution_count": 19,
   "metadata": {
    "ExecuteTime": {
     "end_time": "2023-09-06T21:38:30.234498Z",
     "start_time": "2023-09-06T21:38:30.174425Z"
    }
   },
   "outputs": [
    {
     "data": {
      "text/plain": [
       "1614"
      ]
     },
     "execution_count": 19,
     "metadata": {},
     "output_type": "execute_result"
    }
   ],
   "source": [
    "PF_sort_df['Task1'].sum()"
   ]
  },
  {
   "cell_type": "code",
   "execution_count": null,
   "metadata": {
    "ExecuteTime": {
     "end_time": "2023-07-17T21:00:08.919011Z",
     "start_time": "2023-07-17T21:00:02.402410Z"
    }
   },
   "outputs": [],
   "source": [
    "reliability = {k:[] for k in taskstoplot+['CellNum', 'Animal']}\n",
    "for a in r1.animals:\n",
    "    commoncells = celldf[celldf[taskstoplot].sum(axis=1)==len(taskstoplot)]\n",
    "    commoncells = commoncells[commoncells['AnimalName']==a]['CellNum']\n",
    "    for c in commoncells:\n",
    "        reliability['Animal'].append(a)\n",
    "        reliability['CellNum'].append(c)\n",
    "        for t in taskstoplot:\n",
    "            rel = r1.updatedf[(r1.updatedf['CellNumber']==c) & (r1.updatedf['Task']==t)]['Reliability'].to_numpy()\n",
    "            if len(rel)>1:\n",
    "                reliability[t].append(np.nanmean(rel))\n",
    "            elif len(rel)==0:\n",
    "                reliability[t].append(np.nan)\n",
    "            else:\n",
    "                reliability[t].append(rel[0])\n",
    "df = pd.DataFrame.from_dict(reliability)\n",
    "df = df.dropna()"
   ]
  },
  {
   "cell_type": "code",
   "execution_count": null,
   "metadata": {
    "ExecuteTime": {
     "end_time": "2023-07-17T21:00:11.396985Z",
     "start_time": "2023-07-17T21:00:08.922443Z"
    }
   },
   "outputs": [],
   "source": [
    "fs, ax = plt.subplots(1)\n",
    "melteddf = df.melt(id_vars=['CellNum', 'Animal'], var_name='Task', value_name='Reliability')\n",
    "sns.boxplot(data=melteddf, x='Task', y='Reliability', showfliers=False, ax=ax)\n",
    "for i, r in df.iterrows():\n",
    "    ax.plot(np.arange(len(taskstoplot))+0.25, r[taskstoplot], 'k-', linewidth=0.2, alpha=0.5)\n",
    "# ax.set_ylim((0, 1))\n",
    "fs.set_size_inches((4, 2))\n",
    "# fs.savefig(os.path.join(SaveFigureFolder, 'FiringRatioofcommoncells.pdf'), bbox_inches='tight', dpi=300)"
   ]
  },
  {
   "cell_type": "code",
   "execution_count": null,
   "metadata": {
    "ExecuteTime": {
     "end_time": "2023-07-17T20:46:27.623182Z",
     "start_time": "2023-07-17T20:43:34.766816Z"
    }
   },
   "outputs": [],
   "source": [
    "fs, ax = plt.subplots(1)\n",
    "df['Index'] = df.index\n",
    "sequential_repeated_measures = dabest.load(df, idx=('Task1', 'Task2', 'Task3', 'Task4', 'Task5'),\n",
    "                                             id_col=\"Index\", paired='sequential')\n",
    "sequential_repeated_measures.mean_diff.plot(ax=ax, float_contrast=False, es_marker_size=5);\n",
    "# fs.set_size_inches((4, 3))\n",
    "fs.savefig(os.path.join(SaveFigureFolder, 'Reliabilityofcommoncellsdabest.pdf'), bbox_inches='tight', dpi=300)"
   ]
  },
  {
   "cell_type": "code",
   "execution_count": null,
   "metadata": {
    "ExecuteTime": {
     "end_time": "2023-07-17T20:46:27.759408Z",
     "start_time": "2023-07-17T20:46:27.630310Z"
    }
   },
   "outputs": [],
   "source": [
    "from scipy import stats\n",
    "import statsmodels.stats.multicomp as mc\n",
    "\n",
    "comp1 = mc.MultiComparison(melteddf['Reliability'], melteddf['Task'])\n",
    "tbl, a1, a2 = comp1.allpairtest(stats.ks_2samp, method= \"bonf\")\n",
    "tbl"
   ]
  },
  {
   "cell_type": "code",
   "execution_count": null,
   "metadata": {
    "ExecuteTime": {
     "end_time": "2023-07-17T20:46:30.134898Z",
     "start_time": "2023-07-17T20:46:27.770654Z"
    }
   },
   "outputs": [],
   "source": [
    "taskstoplot = ['Task2', 'Task3', 'Task4', 'Task5']\n",
    "fs, ax =plt.subplots(1, len(taskstoplot), figsize=(10, 3), sharex='all', sharey='all')\n",
    "commoncells = celldf[celldf[taskstoplot].sum(axis=1)==len(taskstoplot)]\n",
    "print(len(commoncells))\n",
    "r1.plot_regressionline(ax, taskstoplot=taskstoplot, commoncells=True, celldata=commoncells)"
   ]
  },
  {
   "cell_type": "markdown",
   "metadata": {},
   "source": [
    "## Reliability of only cells with one place field"
   ]
  },
  {
   "cell_type": "code",
   "execution_count": null,
   "metadata": {
    "ExecuteTime": {
     "end_time": "2023-08-11T19:00:45.249477Z",
     "start_time": "2023-08-11T19:00:44.695337Z"
    }
   },
   "outputs": [],
   "source": [
    "taskstoplot = ['Task1','Task2', 'Task3', 'Task4', 'Task5']\n",
    "celldf = r1.get_cells_pertask_peranimal(taskstoplot)"
   ]
  },
  {
   "cell_type": "code",
   "execution_count": null,
   "metadata": {
    "ExecuteTime": {
     "end_time": "2023-08-11T19:00:47.939181Z",
     "start_time": "2023-08-11T19:00:45.265097Z"
    }
   },
   "outputs": [],
   "source": [
    "reliability = {k:[] for k in taskstoplot+['CellNum', 'Animal']}\n",
    "for a in r1.animals:\n",
    "    commoncells = celldf[celldf[taskstoplot].sum(axis=1)==len(taskstoplot)]\n",
    "    commoncells = commoncells[commoncells['AnimalName']==a]['CellNum']\n",
    "    for c in commoncells:\n",
    "        thisdf = r1.updatedf[(r1.updatedf['CellNumber']==c) & (r1.updatedf['animalname']==a)]\n",
    "        if np.any(thisdf['NumPlacecells']>1):\n",
    "            continue \n",
    "        reliability['Animal'].append(a)\n",
    "        reliability['CellNum'].append(c)\n",
    "        for t in taskstoplot:\n",
    "            rel =  thisdf[(thisdf['Task']==t)]['FiringRatio'].to_numpy()\n",
    "#             print(len(rel))\n",
    "            if len(rel)==0:\n",
    "                reliability[t].append(np.nan)\n",
    "            else:\n",
    "                reliability[t].append(rel[0])\n",
    "df = pd.DataFrame.from_dict(reliability)\n",
    "df = df.dropna()\n",
    "# df = df.loc[~np.any(df[taskstoplot]>=0.5, axis=1)]\n",
    "# df = df.loc[~df.index.isin(largedf.index)]\n",
    "# largedf"
   ]
  },
  {
   "cell_type": "code",
   "execution_count": null,
   "metadata": {
    "ExecuteTime": {
     "end_time": "2023-08-11T19:00:48.991495Z",
     "start_time": "2023-08-11T19:00:47.942993Z"
    }
   },
   "outputs": [],
   "source": [
    "fs, ax = plt.subplots(1)\n",
    "melteddf = df.melt(id_vars=['CellNum', 'Animal'], var_name='Task', value_name='FiringRatio')\n",
    "sns.boxplot(data=melteddf, x='Task', y='FiringRatio', showfliers=False, ax=ax)\n",
    "for i, r in df.iterrows():\n",
    "    ax.plot(np.arange(len(taskstoplot))+0.25, r[taskstoplot], 'k-', linewidth=0.2, alpha=0.5)\n",
    "# ax.set_ylim((0, 0.5))\n",
    "fs.set_size_inches((4, 2))\n",
    "# fs.savefig(os.path.join(SaveFigureFolder, 'FiringRatioofcommoncells_singleplacecell.pdf'), bbox_inches='tight', dpi=300)"
   ]
  },
  {
   "cell_type": "code",
   "execution_count": null,
   "metadata": {
    "ExecuteTime": {
     "end_time": "2023-08-11T19:01:51.652611Z",
     "start_time": "2023-08-11T19:00:48.998156Z"
    },
    "scrolled": true
   },
   "outputs": [],
   "source": [
    "fs, ax = plt.subplots(1)\n",
    "df['Index'] = df.index\n",
    "sequential_repeated_measures = dabest.load(df, idx=('Task1', 'Task2', 'Task3', 'Task4', 'Task5'),\n",
    "                                             id_col=\"Index\", paired='sequential')\n",
    "sequential_repeated_measures.mean_diff.plot(ax=ax, float_contrast=False, es_marker_size=5);\n",
    "fs.set_size_inches((4, 4))\n",
    "# fs.savefig(os.path.join(SaveFigureFolder, 'FiringRatioofcommoncellsdabest_singleplacecell.pdf'), bbox_inches='tight', dpi=300)"
   ]
  },
  {
   "cell_type": "code",
   "execution_count": null,
   "metadata": {
    "ExecuteTime": {
     "end_time": "2023-08-11T19:01:51.736112Z",
     "start_time": "2023-08-11T19:01:51.657602Z"
    }
   },
   "outputs": [],
   "source": [
    "from scipy import stats\n",
    "import statsmodels.stats.multicomp as mc\n",
    "\n",
    "comp1 = mc.MultiComparison(melteddf['FiringRatio'], melteddf['Task'])\n",
    "tbl, a1, a2 = comp1.allpairtest(stats.ks_2samp, method= \"bonf\")\n",
    "tbl"
   ]
  },
  {
   "cell_type": "markdown",
   "metadata": {},
   "source": [
    "## Relaibility across days heatmap"
   ]
  },
  {
   "cell_type": "code",
   "execution_count": null,
   "metadata": {
    "ExecuteTime": {
     "end_time": "2023-07-27T20:52:10.044271Z",
     "start_time": "2023-07-27T20:52:09.983535Z"
    }
   },
   "outputs": [],
   "source": [
    "reliability_df = df.copy()"
   ]
  },
  {
   "cell_type": "code",
   "execution_count": null,
   "metadata": {
    "ExecuteTime": {
     "end_time": "2023-07-27T20:52:11.171690Z",
     "start_time": "2023-07-27T20:52:11.069574Z"
    }
   },
   "outputs": [],
   "source": [
    "highr_df = reliability_df.loc[np.all(reliability_df[taskstoplot]>0.5, axis=1)]"
   ]
  },
  {
   "cell_type": "markdown",
   "metadata": {},
   "source": [
    "## How many cells are highly reliable throughout"
   ]
  },
  {
   "cell_type": "code",
   "execution_count": null,
   "metadata": {
    "ExecuteTime": {
     "end_time": "2023-07-17T20:59:25.095185Z",
     "start_time": "2023-07-17T20:59:25.044410Z"
    }
   },
   "outputs": [],
   "source": [
    "reliability_df = df.copy()"
   ]
  },
  {
   "cell_type": "code",
   "execution_count": null,
   "metadata": {
    "ExecuteTime": {
     "end_time": "2023-07-17T20:59:25.776085Z",
     "start_time": "2023-07-17T20:59:25.681994Z"
    }
   },
   "outputs": [],
   "source": [
    "correlation = {k:[] for k in ['Task', 'Correlation', 'Reliability', 'CellNum', 'Animal']}\n",
    "for a in r1.animals:\n",
    "    highr_df = reliability_df.loc[np.all(reliability_df[taskstoplot]>0.5, axis=1)]\n",
    "    cells = highr_df[highr_df['Animal']==a]['CellNum']\n",
    "    for c in cells:\n",
    "        thisdf = r1.updatedf[(r1.updatedf['CellNumber']==c) & (r1.updatedf['animalname']==a)]\n",
    "        for t in taskstoplot:\n",
    "            correlation['Animal'].append(a)\n",
    "            correlation['CellNum'].append(c)\n",
    "            correlation['Task'].append(t)\n",
    "            correlation['Reliability'].append(thisdf[(thisdf['Task']==t)]['Reliability'].to_numpy()[0])\n",
    "            correlation['Correlation'].append(thisdf[(thisdf['Task']==t)]['Correlation'].to_numpy()[0])\n",
    "correlationdf = pd.DataFrame.from_dict(correlation)\n",
    "correlationdf = correlationdf.dropna()\n",
    "correlationdf['Type'] = 'Highreliability'"
   ]
  },
  {
   "cell_type": "markdown",
   "metadata": {},
   "source": [
    "## Number of reliable cells by task"
   ]
  },
  {
   "cell_type": "code",
   "execution_count": 20,
   "metadata": {
    "ExecuteTime": {
     "end_time": "2023-11-17T16:39:22.270248Z",
     "start_time": "2023-11-17T16:39:22.074372Z"
    }
   },
   "outputs": [],
   "source": [
    "taskstoplot = ['Task1','Task2', 'Task3', 'Task4', 'Task5']"
   ]
  },
  {
   "cell_type": "code",
   "execution_count": 21,
   "metadata": {
    "ExecuteTime": {
     "end_time": "2023-11-17T16:39:22.969296Z",
     "start_time": "2023-11-17T16:39:22.578459Z"
    }
   },
   "outputs": [],
   "source": [
    "num_df = pd.DataFrame()\n",
    "for a in r1.animals:\n",
    "    thisdf = r1.updatedf[r1.updatedf['animalname']==a][['Task', 'Reliability']]\n",
    "    relcount = thisdf[thisdf['Reliability']>0.6].groupby('Task').count().reset_index()\n",
    "    relcount['Total'] = thisdf.groupby('Task').count().reset_index().rename(columns={'Reliability':'Total'})['Total']\n",
    "    relcount['Animal'] = a\n",
    "    num_df = pd.concat((num_df, relcount))"
   ]
  },
  {
   "cell_type": "code",
   "execution_count": 27,
   "metadata": {
    "ExecuteTime": {
     "end_time": "2023-11-17T16:40:03.226927Z",
     "start_time": "2023-11-17T16:40:03.175269Z"
    }
   },
   "outputs": [],
   "source": [
    "num_df['Perc'] = num_df['Reliability']/num_df['Total']*100"
   ]
  },
  {
   "cell_type": "code",
   "execution_count": 23,
   "metadata": {
    "ExecuteTime": {
     "end_time": "2023-11-17T16:39:24.119749Z",
     "start_time": "2023-11-17T16:39:23.958959Z"
    }
   },
   "outputs": [],
   "source": [
    "pivotdf = num_df.pivot(columns=['Task'], values=['Perc'], index=['Animal']).fillna(0)"
   ]
  },
  {
   "cell_type": "code",
   "execution_count": 24,
   "metadata": {
    "ExecuteTime": {
     "end_time": "2023-11-17T16:39:24.611093Z",
     "start_time": "2023-11-17T16:39:24.472400Z"
    }
   },
   "outputs": [
    {
     "data": {
      "text/html": [
       "<div>\n",
       "<style scoped>\n",
       "    .dataframe tbody tr th:only-of-type {\n",
       "        vertical-align: middle;\n",
       "    }\n",
       "\n",
       "    .dataframe tbody tr th {\n",
       "        vertical-align: top;\n",
       "    }\n",
       "\n",
       "    .dataframe thead tr th {\n",
       "        text-align: left;\n",
       "    }\n",
       "\n",
       "    .dataframe thead tr:last-of-type th {\n",
       "        text-align: right;\n",
       "    }\n",
       "</style>\n",
       "<table border=\"1\" class=\"dataframe\">\n",
       "  <thead>\n",
       "    <tr>\n",
       "      <th></th>\n",
       "      <th colspan=\"5\" halign=\"left\">Perc</th>\n",
       "    </tr>\n",
       "    <tr>\n",
       "      <th>Task</th>\n",
       "      <th>Task1</th>\n",
       "      <th>Task2</th>\n",
       "      <th>Task3</th>\n",
       "      <th>Task4</th>\n",
       "      <th>Task5</th>\n",
       "    </tr>\n",
       "    <tr>\n",
       "      <th>Animal</th>\n",
       "      <th></th>\n",
       "      <th></th>\n",
       "      <th></th>\n",
       "      <th></th>\n",
       "      <th></th>\n",
       "    </tr>\n",
       "  </thead>\n",
       "  <tbody>\n",
       "    <tr>\n",
       "      <th>CFC16</th>\n",
       "      <td>4.201681</td>\n",
       "      <td>7.500000</td>\n",
       "      <td>0.573614</td>\n",
       "      <td>1.050420</td>\n",
       "      <td>17.713004</td>\n",
       "    </tr>\n",
       "    <tr>\n",
       "      <th>CFC17</th>\n",
       "      <td>41.544118</td>\n",
       "      <td>35.661765</td>\n",
       "      <td>19.230769</td>\n",
       "      <td>19.692308</td>\n",
       "      <td>40.070922</td>\n",
       "    </tr>\n",
       "    <tr>\n",
       "      <th>CFC18</th>\n",
       "      <td>21.442886</td>\n",
       "      <td>26.642984</td>\n",
       "      <td>6.340058</td>\n",
       "      <td>5.730659</td>\n",
       "      <td>18.775510</td>\n",
       "    </tr>\n",
       "    <tr>\n",
       "      <th>NR32</th>\n",
       "      <td>26.775956</td>\n",
       "      <td>26.666667</td>\n",
       "      <td>2.952030</td>\n",
       "      <td>9.629630</td>\n",
       "      <td>25.853659</td>\n",
       "    </tr>\n",
       "    <tr>\n",
       "      <th>NR34</th>\n",
       "      <td>21.917808</td>\n",
       "      <td>35.588235</td>\n",
       "      <td>3.786575</td>\n",
       "      <td>6.626506</td>\n",
       "      <td>0.000000</td>\n",
       "    </tr>\n",
       "  </tbody>\n",
       "</table>\n",
       "</div>"
      ],
      "text/plain": [
       "             Perc                                            \n",
       "Task        Task1      Task2      Task3      Task4      Task5\n",
       "Animal                                                       \n",
       "CFC16    4.201681   7.500000   0.573614   1.050420  17.713004\n",
       "CFC17   41.544118  35.661765  19.230769  19.692308  40.070922\n",
       "CFC18   21.442886  26.642984   6.340058   5.730659  18.775510\n",
       "NR32    26.775956  26.666667   2.952030   9.629630  25.853659\n",
       "NR34    21.917808  35.588235   3.786575   6.626506   0.000000"
      ]
     },
     "execution_count": 24,
     "metadata": {},
     "output_type": "execute_result"
    }
   ],
   "source": [
    "pivotdf"
   ]
  },
  {
   "cell_type": "code",
   "execution_count": 25,
   "metadata": {
    "ExecuteTime": {
     "end_time": "2023-11-17T16:39:34.665738Z",
     "start_time": "2023-11-17T16:39:33.702490Z"
    }
   },
   "outputs": [
    {
     "data": {
      "image/png": "[encoded data removed]",
      "text/plain": [
       "<Figure size 216x144 with 1 Axes>"
      ]
     },
     "metadata": {
      "needs_background": "light"
     },
     "output_type": "display_data"
    }
   ],
   "source": [
    "fs, ax = plt.subplots(1)\n",
    "sns.barplot(x='Task', y='Perc', data=num_df)\n",
    "for i, r in pivotdf.iterrows():\n",
    "    ax.plot(np.arange(len(taskstoplot))+0.25, r, 'k', marker='o')\n",
    "sns.despine(ax=ax)\n",
    "fs.set_size_inches((3, 2))\n",
    "fs.savefig(os.path.join(SaveFigureFolder, 'percentageofreliablecells_point6.pdf'), bbox_inches='tight', dpi=300)"
   ]
  },
  {
   "cell_type": "code",
   "execution_count": null,
   "metadata": {},
   "outputs": [],
   "source": []
  }
 ],
 "metadata": {
  "kernelspec": {
   "display_name": "Python 3",
   "language": "python",
   "name": "python3"
  },
  "language_info": {
   "codemirror_mode": {
    "name": "ipython",
    "version": 3
   },
   "file_extension": ".py",
   "mimetype": "text/x-python",
   "name": "python",
   "nbconvert_exporter": "python",
   "pygments_lexer": "ipython3",
   "version": "3.8.5"
  },
  "toc": {
   "base_numbering": 1,
   "nav_menu": {},
   "number_sections": true,
   "sideBar": true,
   "skip_h1_title": false,
   "title_cell": "Table of Contents",
   "title_sidebar": "Contents",
   "toc_cell": false,
   "toc_position": {},
   "toc_section_display": true,
   "toc_window_display": false
  }
 },
 "nbformat": 4,
 "nbformat_minor": 4
}
